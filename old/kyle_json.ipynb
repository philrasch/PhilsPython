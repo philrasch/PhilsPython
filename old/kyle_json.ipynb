{
 "cells": [
  {
   "cell_type": "code",
   "execution_count": 2,
   "id": "5b43e0f7-233c-41ac-98eb-0100efb6906e",
   "metadata": {},
   "outputs": [
    {
     "name": "stdout",
     "output_type": "stream",
     "text": [
      "atm module\n",
      "atm h0\n",
      "atm h1\n",
      "atm h2\n",
      "atm h3\n",
      "lnd module\n",
      "lnd h0\n",
      "lnd h1\n",
      "ocn module\n",
      "ocn hist.am.timeSeriesStatsMonthly\n",
      "ocn hist.am.eddyProductVariables\n",
      "ocn hist.am.globalStats\n",
      "ocn hist.am.meridionalHeatTransport\n",
      "ocn hist.am.oceanHeatContent\n",
      "ocn hist.am.timeSeriesStatsMonthlyMin\n",
      "ocn hist.am.timeSeriesStatsMonthlyMax\n",
      "ocn hist.am.highFrequencyOutput\n",
      "ice module\n",
      "ice hist.am.timeSeriesStatsMonthly\n",
      "ice hist.am.regionalStatistic\n",
      "ice hist.am.timeSeriesStatsDaily\n"
     ]
    }
   ],
   "source": [
    "import json\n",
    "import xarray as xr\n",
    "import glob\n",
    "d_varlist = json.load(open('/home/jupyter-adminphil/misc/e3sm_variablelist.json'))\n",
    "#print('d_varlist',d_varlist)\n",
    "simtype = 'coupled'\n",
    "path = '/home/ec2-user/e3sm_cases/20221014.v2.LR.WCYCLSSP245.E2_CNTL_01/run/'\n",
    "path = '/scratch2/geostrat/E3SMv2_AWS/20221014.v2.LR.WCYCLSSP245.E2_CNTL_01/run/'\n",
    "for component in d_varlist[simtype]:\n",
    "    for freq in d_varlist[simtype][component]:\n",
    "        print(component,freq)\n",
    "        if True: continue\n",
    "        if freq == 'module': continue;\n",
    "        print(component,freq)\n",
    "        fname = path + '20221014.v2.LR.WCYCLSSP245.E2_CNTL_01.{0}.{1}.2016-01*'.format(d_varlist[simtype][component]['module'],freq)\n",
    "        #print('fname',fname)\n",
    "        l_fname = glob.glob(fname)\n",
    "        #print('l_fname',l_fname)\n",
    "        fname = l_fname[0]\n",
    "        print('fname',fname)\n",
    "        data = xr.open_dataset(fname)\n",
    "        vlist = list(data.variables)\n",
    "        diff = [var for var in vlist if not var in d_varlist[simtype][component][freq]['varlist']]\n",
    "        print('diff',diff)                                                                                                                                                                                                                                                                  \n",
    "\n"
   ]
  },
  {
   "cell_type": "code",
   "execution_count": null,
   "id": "04120982-2e8b-493a-9730-5bf69b26053d",
   "metadata": {},
   "outputs": [],
   "source": []
  }
 ],
 "metadata": {
  "kernelspec": {
   "display_name": "Python [conda env:.conda-pjrpy3] *",
   "language": "python",
   "name": "conda-env-.conda-pjrpy3-py"
  },
  "language_info": {
   "codemirror_mode": {
    "name": "ipython",
    "version": 3
   },
   "file_extension": ".py",
   "mimetype": "text/x-python",
   "name": "python",
   "nbconvert_exporter": "python",
   "pygments_lexer": "ipython3",
   "version": "3.11.3"
  }
 },
 "nbformat": 4,
 "nbformat_minor": 5
}
