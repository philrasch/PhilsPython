{
 "cells": [
  {
   "cell_type": "markdown",
   "id": "81145406",
   "metadata": {},
   "source": [
    "**compare two simulations from data on the ne30 native grid\n",
    "does zonal averaging, and horizontal plots**"
   ]
  },
  {
   "cell_type": "code",
   "execution_count": 1,
   "id": "0f7ad48e",
   "metadata": {},
   "outputs": [
    {
     "name": "stdout",
     "output_type": "stream",
     "text": [
      "3.11.3 | packaged by conda-forge | (main, Apr  6 2023, 08:57:19) [GCC 11.3.0]\n",
      "pjr3.py complete\n"
     ]
    }
   ],
   "source": [
    "import sys\n",
    "print(sys.version)\n",
    "%matplotlib inline\n",
    "%run -i ~/Python/pjr3"
   ]
  },
  {
   "cell_type": "code",
   "execution_count": 2,
   "id": "b0dab9c1",
   "metadata": {},
   "outputs": [
    {
     "ename": "OSError",
     "evalue": "no files to open",
     "output_type": "error",
     "traceback": [
      "\u001b[0;31m---------------------------------------------------------------------------\u001b[0m",
      "\u001b[0;31mOSError\u001b[0m                                   Traceback (most recent call last)",
      "Cell \u001b[0;32mIn[2], line 11\u001b[0m\n\u001b[1;32m      9\u001b[0m xr\u001b[38;5;241m.\u001b[39mset_options(keep_attrs\u001b[38;5;241m=\u001b[39m\u001b[38;5;28;01mTrue\u001b[39;00m)\n\u001b[1;32m     10\u001b[0m \u001b[38;5;66;03m# make sure horizontal dimensions ordered first to facilitate interpolations\u001b[39;00m\n\u001b[0;32m---> 11\u001b[0m DS1 \u001b[38;5;241m=\u001b[39m \u001b[43mxr\u001b[49m\u001b[38;5;241;43m.\u001b[39;49m\u001b[43mopen_mfdataset\u001b[49m\u001b[43m(\u001b[49m\u001b[43mind1\u001b[49m\u001b[43m)\u001b[49m\u001b[38;5;241m.\u001b[39mtranspose(\u001b[38;5;124m'\u001b[39m\u001b[38;5;124mncol\u001b[39m\u001b[38;5;124m'\u001b[39m\u001b[38;5;241m+\u001b[39mregtag,\u001b[38;5;241m.\u001b[39m\u001b[38;5;241m.\u001b[39m\u001b[38;5;241m.\u001b[39m) \n\u001b[1;32m     12\u001b[0m DS2 \u001b[38;5;241m=\u001b[39m xr\u001b[38;5;241m.\u001b[39mopen_mfdataset(ind2)\u001b[38;5;241m.\u001b[39mtranspose(\u001b[38;5;124m'\u001b[39m\u001b[38;5;124mncol\u001b[39m\u001b[38;5;124m'\u001b[39m\u001b[38;5;241m+\u001b[39mregtag,\u001b[38;5;241m.\u001b[39m\u001b[38;5;241m.\u001b[39m\u001b[38;5;241m.\u001b[39m) \n",
      "File \u001b[0;32m~/.conda/envs/pjrpy3/lib/python3.11/site-packages/xarray/backends/api.py:1021\u001b[0m, in \u001b[0;36mopen_mfdataset\u001b[0;34m(paths, chunks, concat_dim, compat, preprocess, engine, data_vars, coords, combine, parallel, join, attrs_file, combine_attrs, **kwargs)\u001b[0m\n\u001b[1;32m   1018\u001b[0m paths \u001b[38;5;241m=\u001b[39m _find_absolute_paths(paths, engine\u001b[38;5;241m=\u001b[39mengine, \u001b[38;5;241m*\u001b[39m\u001b[38;5;241m*\u001b[39mkwargs)\n\u001b[1;32m   1020\u001b[0m \u001b[38;5;28;01mif\u001b[39;00m \u001b[38;5;129;01mnot\u001b[39;00m paths:\n\u001b[0;32m-> 1021\u001b[0m     \u001b[38;5;28;01mraise\u001b[39;00m \u001b[38;5;167;01mOSError\u001b[39;00m(\u001b[38;5;124m\"\u001b[39m\u001b[38;5;124mno files to open\u001b[39m\u001b[38;5;124m\"\u001b[39m)\n\u001b[1;32m   1023\u001b[0m \u001b[38;5;28;01mif\u001b[39;00m combine \u001b[38;5;241m==\u001b[39m \u001b[38;5;124m\"\u001b[39m\u001b[38;5;124mnested\u001b[39m\u001b[38;5;124m\"\u001b[39m:\n\u001b[1;32m   1024\u001b[0m     \u001b[38;5;28;01mif\u001b[39;00m \u001b[38;5;28misinstance\u001b[39m(concat_dim, (\u001b[38;5;28mstr\u001b[39m, DataArray)) \u001b[38;5;129;01mor\u001b[39;00m concat_dim \u001b[38;5;129;01mis\u001b[39;00m \u001b[38;5;28;01mNone\u001b[39;00m:\n",
      "\u001b[0;31mOSError\u001b[0m: no files to open"
     ]
    }
   ],
   "source": [
    "# experiment is case1\n",
    "# control is case2\n",
    "pref1 = 'exp_'\n",
    "pref2 = 'con_'\n",
    "regtag = ''\n",
    "ind1 = '/scratch2/ec2-user/PJR/E3SM/20221123.v2.LR.F2010.E1_R1-3_CDNC2000/ne30pg2/20221123.v2.LR.F2010.E1_R1-3_CDNC2000.eam.h0.1-11.T.nc' \n",
    "ind2 = '/scratch2/ec2-user/PJR/E3SM/20220930.v2.LR.F2010.E1_CNTL/ne30pg2/20220930.v2.LR.F2010.E1_CNTL.eam.h0.1-14.T.nc'\n",
    "\n",
    "xr.set_options(keep_attrs=True)\n",
    "# make sure horizontal dimensions ordered first to facilitate interpolations\n",
    "DS1 = xr.open_mfdataset(ind1).transpose('ncol'+regtag,...) \n",
    "DS2 = xr.open_mfdataset(ind2).transpose('ncol'+regtag,...) \n",
    "\n"
   ]
  },
  {
   "cell_type": "markdown",
   "id": "e3d099f1",
   "metadata": {},
   "source": [
    "**scan globe for subregion mask**"
   ]
  },
  {
   "cell_type": "code",
   "execution_count": null,
   "id": "d27a4b87",
   "metadata": {},
   "outputs": [],
   "source": [
    "\n",
    "lon = DS1['lon'+regtag]#.isel(time=0)#.squeeze()\n",
    "print('lon',lon.shape,lon.min().values,lon.max().values)\n",
    "lat = DS1['lat'+regtag]#.isel(time=0)\n",
    "print('lat',lat.shape,lat.min().values,lat.max().values)\n",
    "\n",
    "pmask = ((lon > 220) & (lon < 250) & (lat > 15) & (lat < 35))#[0] # select a subregion\n",
    "# pmask = (lon > -999) # select all points\n",
    "xxx = pmask.load()\n",
    "colinds = np.where(xxx.values)[0]\n",
    "#print('xxx',type(colinds), colinds)"
   ]
  },
  {
   "cell_type": "markdown",
   "id": "28611ee4",
   "metadata": {},
   "source": [
    "**select subregion, calculate weights**"
   ]
  },
  {
   "cell_type": "code",
   "execution_count": null,
   "id": "2fae022d",
   "metadata": {},
   "outputs": [],
   "source": [
    "lonsub = DS1['lon'+regtag].isel(ncol=colinds)\n",
    "latsub = DS1['lat'+regtag].isel(ncol=colinds)\n",
    "print('subreg',lonsub.min().values,lonsub.max().values, latsub.min().values,latsub.max().values)\n",
    "#print('subreg size',lonsub.shape)\n",
    "print('shape and size of variables',lonsub.shape, lonsub.size,' number of unmasked cells ',np.count_nonzero(lonsub.notnull().values))\n",
    "dinc = 1.  # increment of mesh in degrees\n",
    "lon_h=np.arange(np.floor(lonsub.min().values),np.ceil(lonsub.max().values+dinc), dinc)\n",
    "if (np.abs(lon_h[0]-lon_h[-1]%360) < 0.01): # delete wrap lon for creating zonal average\n",
    "    print('removing wrap lon')\n",
    "    lon_h = lon_h[0:-1]\n",
    "    \n",
    "lat_h=np.arange(np.floor(latsub.min().values),np.ceil(latsub.max().values+dinc), dinc)\n",
    "xoutm,youtm=np.meshgrid(lon_h,lat_h)\n",
    "print('xxx',xoutm.shape,xoutm.min(),xoutm.max(),youtm.min(),youtm.max())\n",
    "area = xr_getvar('area',DS1,regtag=regtag).isel(ncol=colinds)\n",
    "# weights for horizontal (area) averages\n",
    "wtsh = area.fillna(0)\n",
    "#print('wtsh',wtsh)\n",
    "# weights for 3D fields (mass and area weights) DPOG is delta-p over g\n",
    "DPOG1 = xr_getvar('DPOG',DS1,regtag=regtag).isel(ncol=colinds)\n",
    "weights1 = wtsh*DPOG1\n",
    "weights1 = weights1.fillna(0)\n",
    "DPOG2 = xr_getvar('DPOG',DS2,regtag=regtag).isel(ncol=colinds)\n",
    "weights2 = wtsh*DPOG2\n",
    "weights2 = weights2.fillna(0)\n",
    "#print('weights',weights2)"
   ]
  },
  {
   "cell_type": "markdown",
   "id": "5d6021d2",
   "metadata": {},
   "source": [
    "**lat/lon plots on model surfaces**"
   ]
  },
  {
   "cell_type": "code",
   "execution_count": null,
   "id": "46848be8",
   "metadata": {},
   "outputs": [],
   "source": [
    "\n",
    "print('subreg',lonsub.min().values,lonsub.max().values, latsub.min().values,latsub.max().values)\n",
    "#print('subreg size',lonsub.shape)\n",
    "print('shape and size of variables',lonsub.shape, lonsub.size,' number of unmasked cells ',np.count_nonzero(lonsub.notnull().values))\n",
    "\n",
    "area = xr_getvar('area', DS1, regtag).isel(ncol=colinds).squeeze()\n",
    "\n",
    "weights = area.fillna(0)\n",
    "\n",
    "Varlist = np.array(['RESTOM','FLNTC','FLNT','FSNTC','FSNT','TS','TMQ','PRECT','AEROD_v','CLDLOW','CLDTOT','LWCF','SWCF','TGCLDIWP','TGCLDLWP',\n",
    "                    'SHFLX','LHFLX','PBLH','PCONVT','PRECC','PRECS','PS'])\n",
    "#Varlist = np.array(['TS','TMQ','PRECT'])\n",
    "Varlist = np.array(['T'])\n",
    "mylev = 850.\n",
    "#Varlist = np.array(['PS'])\n",
    "Varlist = np.sort(Varlist)\n",
    "\n",
    "for Vname in Varlist:\n",
    "    print()\n",
    "    print('-------------------------------')\n",
    "    V1 = xr_getvar(Vname, DS1, regtag).isel(ncol=colinds).squeeze()\n",
    "    V2 = xr_getvar(Vname, DS2, regtag).isel(ncol=colinds).squeeze()\n",
    "    dlist = list(V1.dims)\n",
    "    if 'lev' in dlist:\n",
    "        V1 = V1.sel(lev=mylev,method='nearest')\n",
    "        V2 = V2.sel(lev=mylev,method='nearest')\n",
    "    DV = V1-V2\n",
    "    print(Vname, V1.attrs['long_name'],'Range V1 and V2 ',V1.min().values, V1.max().values, V2.min().values, V2.max().values)\n",
    "    V1A = V1.weighted(weights).mean()\n",
    "    V2A = V2.weighted(weights).mean()\n",
    "    print('V1A %5.3f' % (V1A.values),' V2A %5.3f' % (V2A.values))\n",
    "    fig, axes = plt.subplots(ncols=3\n",
    "                             ,gridspec_kw={'width_ratios': [1, 1, 1]}\n",
    "                             ,subplot_kw={'projection': ccrs.PlateCarree()}\n",
    "                             ,figsize=(16,5)\n",
    "                            )\n",
    "\n",
    "    clevs = findNiceContours(np.array([V1.values,V2.values]),nlevs = 10)\n",
    "    dlevs = findNiceContours(np.array([DV.min().values,DV.max().values]),nlevs = 20, rmClev=0.,sym=True)\n",
    "    #dlevs = [-5.,-2.,-1.,-0.5,-0.2,-0.1,0.1,0.2,0.5,1.,2.,5.]\n",
    "    #print('xxx',dlevs)\n",
    "    dmap = diverge_map()\n",
    "\n",
    "    xr_cshplot(V1, lonsub, latsub,ax=axes[0],clevs=clevs,title=pref1)\n",
    "    xr_cshplot(V2, lonsub, latsub,ax=axes[1],clevs=clevs,ylabels=False,title=pref2)\n",
    "    xr_cshplot(DV, lonsub, latsub,ax=axes[2],clevs=dlevs,cmap=dmap,title=pref1+'-'+pref2)\n",
    "    plt.savefig('test_'+Vname+'.jpg',format='jpg')\n",
    "    plt.show()\n"
   ]
  },
  {
   "cell_type": "markdown",
   "id": "4c52b3d0-df32-47cd-86fd-d377465190e7",
   "metadata": {},
   "source": [
    "**latitude eta (lon is averaged)**"
   ]
  },
  {
   "cell_type": "code",
   "execution_count": null,
   "id": "c21bec26",
   "metadata": {},
   "outputs": [],
   "source": [
    "Varlist = np.array(['T','Q','CLOUD','CLDLIQ','ICWMR','CLDICE','RELHUM','NUMICE','NUMLIQ','Mass_bc'])\n",
    "#                    RESTOM','FLNT','FSNT','TS','TMQ','PRECT','AEROD_v','CLDLOW','CLDTOT','LWCF','SWCF','TGCLDIWP','TGCLDLWP','SHFLX','LHFLX','PBLH','PCONVT','PRECC','PRECS'])\n",
    "Varlist = np.array(['T'])\n",
    "\n",
    "for Vname in Varlist:\n",
    "    print()\n",
    "    print('-------------------------------')\n",
    "    V1 = xr_getvar(Vname,DS1,regtag=regtag).isel(ncol=colinds)\n",
    "    if V1.min().values == V1.max().values:\n",
    "        print('constant field skipping plot ')\n",
    "    else:\n",
    "        #V1 = xr_getvar(Vname, DS1, regtag).where(pmask).squeeze()\n",
    "        V1 = xr_getvar(Vname, DS1, regtag).isel(ncol=colinds).squeeze()\n",
    "        V2 = xr_getvar(Vname, DS2, regtag).isel(ncol=colinds).squeeze()\n",
    "        DV = V1-V2\n",
    "        print(Vname, V1.attrs['long_name'],'Range V1 and V2 ',V1.min().values, V1.max().values, V2.min().values, V2.max().values)\n",
    "        V1A = V1.weighted(weights1).mean()\n",
    "        V2A = V2.weighted(weights2).mean()\n",
    "        print('mass weight average: V1A %5.3f' % (V1A.values),' V2A %5.3f' % (V2A.values))\n",
    "        # create regular lat/lon gridding to make zonal averages. Use dataarray to make NaNs easier to process\n",
    "        Vnew1 = xr.DataArray(interp_ap(xoutm, youtm, V1.values,latsub.values,lonsub.values), \n",
    "                            coords={'lat': lat_h,'lon': lon_h,'lev': V1.lev.values}, \n",
    "                            dims=[\"lat\", \"lon\",\"lev\"])\n",
    "        Vnew1_xa = Vnew1.mean(dim='lon')\n",
    "        data1 = Vnew1_xa.values.transpose()\n",
    "        \n",
    "        Vnew2 = xr.DataArray(interp_ap(xoutm, youtm, V2.values,latsub.values,lonsub.values), \n",
    "                            coords={'lat': lat_h,'lon': lon_h,'lev': V2.lev.values}, \n",
    "                            dims=[\"lat\", \"lon\",\"lev\"])\n",
    "        Vnew2_xa = Vnew2.mean(dim='lon')\n",
    "        data2 = Vnew2_xa.values.transpose()\n",
    "        \n",
    "        Vnewd_xa = Vnew1_xa - Vnew2_xa\n",
    "        dmin = Vnewd_xa.min().values\n",
    "        dmax = Vnewd_xa.max().values\n",
    "        print('dmin,dmax',dmin,dmax)\n",
    "\n",
    "        datad = data1-data2\n",
    "#       data1 = data1.mean(axis=1).transpose()\n",
    "        lev = V1['lev'].values\n",
    "#        plotZMf(data1, lat_h, lev)\n",
    "        fig, axes = plt.subplots(ncols=3\n",
    "                                 ,gridspec_kw={'width_ratios': [1, 1, 1]}\n",
    "#                                 ,subplot_kw={'projection': ccrs.PlateCarree()}\n",
    "                                 ,figsize=(16,5)\n",
    "                                )\n",
    "        ytop = 1.\n",
    "        plotZMf(data1, lat_h, lev,axesa=axes[0],plotOpt={'colorbar':\"botnd\",'units':V1.units,'ltitle':pref1,'ytop':ytop})\n",
    "        plotZMf(data2, lat_h, lev,axesa=axes[1],plotOpt={'colorbar':\"bot\",'units':V2.units,'ltitle':pref2,'rtitle':V2.long_name,'ytop':ytop})\n",
    "        dlevs = findNiceContours(np.array([dmin,dmax]),nlevs = 10, rmClev=0.,sym=True)\n",
    "        dmap = diverge_map()\n",
    "        plotZMf(datad, lat_h, lev,axesa=axes[2],plotOpt={'clevs':dlevs,'cmap':dmap,'colorbar':\"bot\",'units':V2.units,'ytop':ytop,'ltitle':pref1+'-'+pref2})\n",
    "\n",
    "        #print('attribute check on xarray',hasattr(V1,'units'))\n",
    "        #plt.savefig('test_'+Vname+'.jpg',format='jpg')\n",
    "        #plt.tight_layout()\n",
    "        plt.show()\n",
    "      "
   ]
  }
 ],
 "metadata": {
  "jupytext": {
   "formats": "ipynb,md"
  },
  "kernelspec": {
   "display_name": "Python [conda env:.conda-pjrpy3] *",
   "language": "python",
   "name": "conda-env-.conda-pjrpy3-py"
  },
  "language_info": {
   "codemirror_mode": {
    "name": "ipython",
    "version": 3
   },
   "file_extension": ".py",
   "mimetype": "text/x-python",
   "name": "python",
   "nbconvert_exporter": "python",
   "pygments_lexer": "ipython3",
   "version": "3.11.9"
  }
 },
 "nbformat": 4,
 "nbformat_minor": 5
}
