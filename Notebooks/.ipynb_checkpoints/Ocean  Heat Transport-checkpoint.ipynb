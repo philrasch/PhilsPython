{
 "cells": [
  {
   "cell_type": "markdown",
   "metadata": {},
   "source": [
    "Start by ignoring metric terms in area definitions\n",
    "\n",
    "integrate from $(y_S, y_N)$ and $(z_B , z_T)$\n"
   ]
  },
  {
   "cell_type": "markdown",
   "metadata": {},
   "source": [
    "change in ocean heat per unit time = flux in minus flux out\n",
    "\n",
    "lets use units of \n",
    "\n",
    "$\\mu = sin (\\theta)$, $\\theta =$ latitude (radians), $\\theta = (-\\pi/2,\\pi/2)$, $\\mu = (-1,1)$ \n",
    "\n",
    "$\\lambda$ = longitude(radians) $(0,2\\pi$\n",
    "\n",
    "$d A = dx \\cdot dy = a cos(\\theta) d\\lambda \\cdot ad\\theta = a^2 d \\lambda d \\mu $\n",
    "\n",
    "Area = $\\int_0^{2\\pi} \\int_{-1}^{1}dA = 4\\pi a^2$,\n",
    "$dV = dA\\cdot dz$\n",
    "\n",
    "\\begin{align}\n",
    "{\\partial C_p \\rho \\over \\partial t} dV & = -\\nabla \\cdot F dV\\\\\n",
    " & = -({\\partial F_\\lambda \\over a cos(\\theta)\\partial\\lambda} \n",
    "   +{\\partial F_\\theta cos(\\theta) \\over a cos(\\theta) \\partial \\theta }\n",
    "   +F_z ) a^2 cos(\\theta)d\\lambda d\\theta dz \\\\\n",
    "\\end{align}\n",
    "\n",
    "assume the LHS $= 0$, and $F_\\lambda = 0$\n",
    "\n"
   ]
  }
 ],
 "metadata": {
  "kernelspec": {
   "display_name": "Python 2",
   "language": "python",
   "name": "python2"
  },
  "language_info": {
   "codemirror_mode": {
    "name": "ipython",
    "version": 2
   },
   "file_extension": ".py",
   "mimetype": "text/x-python",
   "name": "python",
   "nbconvert_exporter": "python",
   "pygments_lexer": "ipython2",
   "version": "2.7.9"
  }
 },
 "nbformat": 4,
 "nbformat_minor": 0
}
