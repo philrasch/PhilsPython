{
 "cells": [
  {
   "cell_type": "code",
   "execution_count": null,
   "metadata": {
    "collapsed": true
   },
   "outputs": [],
   "source": [
    "Notes on latent heats"
   ]
  },
  {
   "cell_type": "markdown",
   "metadata": {},
   "source": [
    "equation for latent heat of vaporization from Rogers and Yau (J/g)\n",
    "$$ 2500.8 - 2.36T + 0.0016T^2 - 0.00006T^3$$\n",
    "where $T$ is in Centrigrade"
   ]
  },
  {
   "cell_type": "markdown",
   "metadata": {},
   "source": [
    "equation for latent heat of fusion from Rogers and Yau (J/g)\n",
    "$$2834.1 - 0.29T - 0.004T^2$$"
   ]
  },
  {
   "cell_type": "code",
   "execution_count": 2,
   "metadata": {
    "collapsed": false
   },
   "outputs": [],
   "source": [
    "%matplotlib inline"
   ]
  },
  {
   "cell_type": "code",
   "execution_count": 3,
   "metadata": {
    "collapsed": true
   },
   "outputs": [],
   "source": [
    "import matplotlib.pyplot as plt\n",
    "import numpy as np"
   ]
  },
  {
   "cell_type": "code",
   "execution_count": 4,
   "metadata": {
    "collapsed": false
   },
   "outputs": [
    {
     "data": {
      "image/png": "[encoded data removed]",
      "text/plain": [
       "<matplotlib.figure.Figure at 0x10598bd10>"
      ]
     },
     "metadata": {},
     "output_type": "display_data"
    }
   ],
   "source": [
    "T = np.linspace(-40, 30, 100)\n",
    "lvap = 2500.8 - 2.36*T + 0.0016*T**2 - 0.00006*T**3\n",
    "plt.plot(T, lvap)\n",
    "plt.title('lvap vs T');"
   ]
  },
  {
   "cell_type": "code",
   "execution_count": 5,
   "metadata": {
    "collapsed": false
   },
   "outputs": [
    {
     "data": {
      "image/png": "[encoded data removed]",
      "text/plain": [
       "<matplotlib.figure.Figure at 0x1059d6050>"
      ]
     },
     "metadata": {},
     "output_type": "display_data"
    }
   ],
   "source": [
    "T = np.linspace(-90, 10, 100)\n",
    "latfus = 2834.1-0.29*T-0.004*T**2\n",
    "plt.plot(T, latfus)\n",
    "plt.title('latfus vs T');"
   ]
  },
  {
   "cell_type": "markdown",
   "metadata": {
    "collapsed": true
   },
   "source": [
    "$$\n",
    "evap = rain+snow\n",
    "$$\n",
    "so\n",
    "$$\n",
    "\\begin{align}\n",
    "Latent\\ Heat\\ Flux & = (L_f+L_v)evap - L_f rain \\\\\n",
    " & = (L_f+L_v)(rain + snow)-L_f rain \\\\\n",
    " & = (L_f+L_v)rain + (L_f+L_v)snow - L_f rain \\\\\n",
    " & = (L_v) rain + L_f snow + L_v snow \\\\\n",
    " & = (L_v)(rain+snow) + L_f snow \\\\\n",
    " & = L_v evap + l_f snow\n",
    "\\end{align}\n",
    "$$"
   ]
  },
  {
   "cell_type": "code",
   "execution_count": 1,
   "metadata": {
    "collapsed": false
   },
   "outputs": [
    {
     "ename": "NameError",
     "evalue": "name 'molwth20' is not defined",
     "output_type": "error",
     "traceback": [
      "\u001b[0;31m---------------------------------------------------------------------------\u001b[0m",
      "\u001b[0;31mNameError\u001b[0m                                 Traceback (most recent call last)",
      "\u001b[0;32m<ipython-input-1-f3f8d2413573>\u001b[0m in \u001b[0;36m<module>\u001b[0;34m()\u001b[0m\n\u001b[1;32m      1\u001b[0m \u001b[0mmolwth2o\u001b[0m \u001b[0;34m=\u001b[0m \u001b[0;36m18.01528\u001b[0m \u001b[0;31m# g/mol from wikipedia\u001b[0m\u001b[0;34m\u001b[0m\u001b[0m\n\u001b[1;32m      2\u001b[0m \u001b[0mcpv100\u001b[0m \u001b[0;34m=\u001b[0m \u001b[0;36m36.5\u001b[0m \u001b[0;31m# J/mol/K at 100C\u001b[0m\u001b[0;34m\u001b[0m\u001b[0m\n\u001b[0;32m----> 3\u001b[0;31m \u001b[0mcpv100s\u001b[0m \u001b[0;34m=\u001b[0m \u001b[0mcpv100\u001b[0m\u001b[0;34m/\u001b[0m\u001b[0mmolwth20\u001b[0m\u001b[0;34m*\u001b[0m\u001b[0;36m1000.\u001b[0m \u001b[0;31m# convert to J/kg/K\u001b[0m\u001b[0;34m\u001b[0m\u001b[0m\n\u001b[0m\u001b[1;32m      4\u001b[0m \u001b[0;32mprint\u001b[0m \u001b[0;34m\"heat capacity at 100C\"\u001b[0m\u001b[0;34m,\u001b[0m \u001b[0mcpv100s\u001b[0m\u001b[0;34m\u001b[0m\u001b[0m\n",
      "\u001b[0;31mNameError\u001b[0m: name 'molwth20' is not defined"
     ]
    }
   ],
   "source": [
    "molwth2o = 18.01528 # g/mol from wikipedia\n",
    "cpv100 = 36.5 # J/mol/K at 100C\n",
    "cpv100s = cpv100/molwth2o*1000. # convert to J/kg/K\n",
    "print \"heat capacity at 100C\", cpv100s"
   ]
  }
 ],
 "metadata": {
  "kernelspec": {
   "display_name": "Python 2",
   "language": "python",
   "name": "python2"
  },
  "language_info": {
   "codemirror_mode": {
    "name": "ipython",
    "version": 2
   },
   "file_extension": ".py",
   "mimetype": "text/x-python",
   "name": "python",
   "nbconvert_exporter": "python",
   "pygments_lexer": "ipython2",
   "version": "2.7.11"
  }
 },
 "nbformat": 4,
 "nbformat_minor": 0
}
