{
 "cells": [
  {
   "cell_type": "markdown",
   "metadata": {},
   "source": [
    "# Email from Jiwen\n",
    "\n",
    "Hi Phil,\n",
    "Sorry for the delay in passing the hydrometer size distribution data to you. \n",
    "For start, I provide the SD data from the May20 squall line case from MC3E in the following directory  on Constance (I will add you to project dcc_fan)\n",
    "/pic/projects/dcc_fan/hanb924/Intercomparison/outputs/results_interactive_5minfreq/results_inter_sbmsd_5min\n",
    "\n",
    "The file names starting with \"inter_h02_d01_2011-05-20”. The squall line mature period is around 9:00-10:00 so you can choose the files between the times if you want to try the data during the mature period. You can choose the data in the earlier or later time period too (the data are in 5-min time frequency).\n",
    "\n",
    "In each file, the variables ff1i01 to ff1i33 are the bins for liquid particles,  ff5i01 to ff5i33 for ice/snow bins in the fast version and ff6i01 to ff6i33 for graupel or hail bins. The unite are in kg/kg. if you want to transform to number concentration, you need to multiply by air density (unit:kg/m3) , then divided by mass of a single particle over the corresponding bin.  The mass of a single particle for each bin is in the file masses.asc (under the same folder). The file can be read as \n",
    " XL(33),XI (3, 33),XS(33),XG(33),XH(33) for liquid, 3 types of ice crystals, snow, graupel, and hail. \n",
    "Please let me know if you have any questions about the data.\n",
    "\n",
    "Thanks a lot,\n",
    "Jiwen\n",
    "\n",
    "\n"
   ]
  },
  {
   "cell_type": "code",
   "execution_count": null,
   "metadata": {
    "collapsed": true
   },
   "outputs": [],
   "source": []
  },
  {
   "cell_type": "code",
   "execution_count": 11,
   "metadata": {},
   "outputs": [],
   "source": [
    "%matplotlib inline\n",
    "from pjr import *\n",
    "import pprint\n"
   ]
  },
  {
   "cell_type": "code",
   "execution_count": 42,
   "metadata": {},
   "outputs": [
    {
     "name": "stdout",
     "output_type": "stream",
     "text": [
      "binind is [ 1  2  3  4  5  6  7  8  9 10 11 12 13 14 15 16 17 18 19 20 21 22 23 24 25\n",
      " 26 27 28 29 30 31 32 33]\n",
      "lens 33 33\n",
      "bigw is  [ 0.01338515  0.01831564  0.02476745  0.03309795  0.04371004  0.05704554\n",
      "  0.07357371  0.09377435  0.11811522  0.14702395  0.18085509  0.21985371\n",
      "  0.26411757  0.31356039  0.36787944  0.42653067  0.48871473  0.55337689\n",
      "  0.61922292  0.68475222  0.74830784  0.80814179  0.86249235  0.90966893\n",
      "  0.94813874  0.97660927  0.99410031  1.          0.99410031  0.97660927\n",
      "  0.94813874  0.90966893  0.86249235]\n"
     ]
    }
   ],
   "source": [
    "binind = np.array(range(1,34))  # coordinate for the absicca\n",
    "print \"binind is\", binind\n",
    "\n",
    "lcen = 28.\n",
    "lwide = 13.\n",
    "\n",
    "bigw = np.exp(-((binind-lcen)/lwide)**2)\n",
    "#bigw  = np.ones(len(binind))\n",
    "print \"lens\", len(bigw), len(binind)\n",
    "print \"bigw is \", bigw\n"
   ]
  },
  {
   "cell_type": "code",
   "execution_count": 40,
   "metadata": {},
   "outputs": [
    {
     "name": "stdout",
     "output_type": "stream",
     "text": [
      "['DateStrLen', 'Time', 'south_north', 'west_east_stag', 'bottom_top_stag', 'bottom_top', 'west_east', 'south_north_stag']\n",
      "type of varlist <type 'list'>\n",
      "xyz is a max at (16, 341, 309)\n",
      "coord to plot (using 0 based indexing) (4, 239, 266)\n",
      "bnum [  4.04274184e-12   9.18401327e-11   6.21373022e-11   2.80898915e-10\n",
      "   1.08457465e-09   4.18420854e-09   7.09620984e-09   3.55988625e-08\n",
      "   3.49796210e-08   1.13041327e-08   1.33706851e-10   3.07206621e-10\n",
      "   2.56711541e-10   4.60597616e-10   1.56230651e-09   7.41126760e-09\n",
      "   3.85200778e-08   1.90358790e-07   6.83302517e-07   1.52349503e-06\n",
      "   2.28876138e-06   2.94336087e-06   6.76116088e-06   1.31253601e-05\n",
      "   2.88584615e-05   4.37078452e-05   6.48358036e-05   9.02901738e-05\n",
      "   9.50410467e-05   5.04897689e-05   1.79656636e-05   5.66081962e-06\n",
      "   4.86352462e-07]\n",
      "revised bnum [  4.04274184e-12   9.18401327e-11   6.21373022e-11   2.80898915e-10\n",
      "   1.08457465e-09   4.18420854e-09   7.09620984e-09   3.55988625e-08\n",
      "   3.49796210e-08   1.13041327e-08   1.33706851e-10   3.07206621e-10\n",
      "   2.56711541e-10   4.60597616e-10   1.56230651e-09   7.41126760e-09\n",
      "   3.85200778e-08   1.90358790e-07   6.83302517e-07   1.52349503e-06\n",
      "   2.28876138e-06   2.94336087e-06   6.76116088e-06   1.31253601e-05\n",
      "   2.88584615e-05   4.37078452e-05   6.48358036e-05   9.02901738e-05\n",
      "   9.50410467e-05   5.04897689e-05   1.79656636e-05   5.66081962e-06\n",
      "   4.86352462e-07]\n"
     ]
    }
   ],
   "source": [
    "from numpy.polynomial.chebyshev import chebfit, chebval\n",
    "#f = cdms2.open(\"/Users/d3x345/Desktop/NetCDF_files/inter_h02_d01_2011-05-20_14:30:00\");\n",
    "f = cdms2.open(\"/Users/d3x345/Desktop/NetCDF_files/inter_h02_d01_2011-05-20_10:00:00\");\n",
    "varlist = f.listvariables();\n",
    "dims = f.listdimension();\n",
    "print dims;\n",
    "#print varlist;\n",
    "print \"type of varlist\", type(varlist)\n",
    "time = f['Time']\n",
    "xc = f['west_east']\n",
    "yc = f['south_north']\n",
    "zc = f['bottom_top']\n",
    "#print 'time', time\n",
    "#print 'xc',xc\n",
    "#print 'yc',yc\n",
    "#print 'zc',zc\n",
    "\n",
    "\n",
    "# access the 33 bins containing liquid\n",
    "for index in range(1,34):\n",
    "    fname = \"ff1i\"+str(index).zfill(2)\n",
    "#    print fname\n",
    "    V = f(fname)\n",
    "#    print \"shape\", V.shape\n",
    "#    print \"range\", V.min(), V.max()\n",
    "\n",
    "# a first look shows that bin 28 has high mass, so lets find the coord where that occurs\n",
    "V = f('ff1i28')\n",
    "V0 = V[0]  # change from a transient array to a regular one\n",
    "i,j,k = np.where(V0 == V0.max()) # indices of max value\n",
    "xyz = zip(i,j,k)[0]\n",
    "print \"xyz is a max at\", xyz\n",
    "xyz = (5-1,240-1,267-1) # convert Kobby's mid level point to zero base indexing\n",
    "#xyz = (7-1,240-1,267-1) # convert Kobby's upper point to zero base indexing\n",
    "\n",
    "print \"coord to plot (using 0 based indexing)\", xyz\n",
    "\n",
    "for index in range(1,34):\n",
    "    fname = \"ff1i\"+str(index).zfill(2)\n",
    "    V = f(fname)\n",
    "    V0 = V[0]\n",
    "    binval = V0[xyz]\n",
    "#    print \"index\", index, type(index)\n",
    "    if index == 1:\n",
    "        bnum = np.array([binval])\n",
    "    else:\n",
    "        bnum = np.concatenate((bnum,np.array([binval])))\n",
    "    #print \"bnum.type\", bnum, type(bnum)\n",
    "\n",
    "print \"bnum\", bnum\n",
    "#    print fname\n",
    "#    V = f(fname)\n",
    "#    print \"shape\", V.shape\n",
    "#    print \"range\", V.min(), V.max()\n",
    "\n",
    "# since we may want to use logarithms put a lower bound on mass\n",
    "bmin = bnum.max()*1.e-10\n",
    "bnum = np.maximum(bnum,bmin)\n",
    "\n",
    "# convert to log base 10\n",
    "bnuml = np.log10(bnum)\n",
    "print \"revised bnum\", bnum"
   ]
  },
  {
   "cell_type": "code",
   "execution_count": 45,
   "metadata": {},
   "outputs": [
    {
     "name": "stdout",
     "output_type": "stream",
     "text": [
      " lcoefs 7\n",
      "i, bnuml, gitall 0 -11.3933239913 -22.0497013255\n",
      "i, bnuml, gitall 1 -10.0369674973 -13.4316447729\n",
      "i, bnuml, gitall 2 -10.206647606 -8.70402276291\n",
      "i, bnuml, gitall 3 -9.55144993793 -6.57385199309\n",
      "i, bnuml, gitall 4 -8.96474054972 -6.06570335516\n",
      "i, bnuml, gitall 5 -8.37838667896 -6.46560681454\n",
      "i, bnuml, gitall 6 -8.14897355047 -7.27141359855\n",
      "i, bnuml, gitall 7 -7.44856387863 -8.14924995696\n",
      "i, bnuml, gitall 8 -7.45618490064 -8.89569675936\n",
      "i, bnuml, gitall 9 -7.94676275134 -9.40532919334\n",
      "i, bnuml, gitall 10 -9.87384633889 -9.64325082783\n",
      "i, bnuml, gitall 11 -9.51256942815 -9.62225630557\n",
      "i, bnuml, gitall 12 -9.59055460643 -9.38425692913\n",
      "i, bnuml, gitall 13 -9.3366783146 -8.98560340442\n",
      "i, bnuml, gitall 14 -8.80623375857 -8.48594000612\n",
      "i, bnuml, gitall 15 -8.13010750532 -7.94022442892\n",
      "i, bnuml, gitall 16 -7.41431284446 -7.39354758905\n",
      "i, bnuml, gitall 17 -6.72042706428 -6.87838764003\n",
      "i, bnuml, gitall 18 -6.16538697965 -6.413932467\n",
      "i, bnuml, gitall 19 -5.8171589583 -6.00710492367\n",
      "i, bnuml, gitall 20 -5.64039948341 -5.65492507616\n",
      "i, bnuml, gitall 21 -5.53115648825 -5.34784371789\n",
      "i, bnuml, gitall 22 -5.1699787303 -5.0736814197\n",
      "i, bnuml, gitall 23 -4.88188877416 -4.82180737932\n",
      "i, bnuml, gitall 24 -4.53972682541 -4.58719233445\n",
      "i, bnuml, gitall 25 -4.35944060394 -4.37396980365\n",
      "i, bnuml, gitall 26 -4.18818510169 -4.19813991907\n",
      "i, bnuml, gitall 27 -4.04435951086 -4.08905011536\n",
      "i, bnuml, gitall 28 -4.02208878924 -4.08928693888\n",
      "i, bnuml, gitall 29 -4.29679661705 -4.25261324134\n",
      "i, bnuml, gitall 30 -4.74555673721 -4.63958502216\n",
      "i, bnuml, gitall 31 -5.24712068318 -5.3104821836\n",
      "i, bnuml, gitall 32 -6.31304888104 -6.31518746297\n"
     ]
    }
   ],
   "source": [
    "lcoefs = 7\n",
    "print \"lcoefs\", lcoefs\n",
    "cfall,info = chebfit(binind, bnum, lcoefs, full=True, w=bigw)\n",
    "fitall = chebval(binind,cfall)\n",
    "cflog,info = chebfit(binind, bnuml, lcoefs, full=True, w=bigw)\n",
    "gitall = chebval(binind,cflog)\n",
    "for i in range(0,33):\n",
    "    print \"i, bnuml, gitall\", i, bnuml[i], gitall[i]"
   ]
  },
  {
   "cell_type": "code",
   "execution_count": 46,
   "metadata": {
    "scrolled": true
   },
   "outputs": [
    {
     "name": "stdout",
     "output_type": "stream",
     "text": [
      "scoefs 3\n",
      "bigxx [18 19 20 21 22 23 24 25 26 27 28 29 30 31 32 33]\n",
      "bigyy [  1.90358790e-07   6.83302517e-07   1.52349503e-06   2.28876138e-06\n",
      "   2.94336087e-06   6.76116088e-06   1.31253601e-05   2.88584615e-05\n",
      "   4.37078452e-05   6.48358036e-05   9.02901738e-05   9.50410467e-05\n",
      "   5.04897689e-05   1.79656636e-05   5.66081962e-06   4.86352462e-07]\n",
      "bfitfl [  3.38108029e-07   4.93738060e-07   8.60356738e-07   1.69884334e-06\n",
      "   3.60971470e-06   7.83770977e-06   1.65140731e-05   3.20641640e-05\n",
      "   5.44801519e-05   7.69239078e-05   8.57118719e-05   7.15697013e-05\n",
      "   4.25282964e-05   1.70780899e-05   4.40113920e-06   6.91205821e-07]\n",
      "smxx [ 1  2  3  4  5  6  7  8  9 10 11 12 13 14 15 16 17]\n",
      "smyy [  4.04274184e-12   9.18401327e-11   6.21373022e-11   2.80898915e-10\n",
      "   1.08457465e-09   4.18420854e-09   7.09620984e-09   3.55988625e-08\n",
      "   3.49796210e-08   1.13041327e-08   1.33706851e-10   3.07206621e-10\n",
      "   2.56711541e-10   4.60597616e-10   1.56230651e-09   7.41126760e-09\n",
      "   3.85200778e-08]\n",
      "sfitf [ -1.03217486e-08  -8.89383445e-10   5.80889401e-09   1.01492124e-08\n",
      "   1.25077003e-08   1.32604863e-08   1.27836991e-08   1.14534672e-08\n",
      "   9.64591939e-09   7.73718416e-09   6.10339017e-09   5.12066602e-09\n",
      "   5.16514034e-09   6.61294175e-09   9.84019887e-09   1.52230403e-08\n",
      "   2.31375947e-08]\n",
      "sfitfl [  1.63970434e-12   3.25810759e-11   2.95434768e-10   1.35097519e-09\n",
      "   3.44283346e-09   5.40332147e-09   5.77131835e-09   4.63609118e-09\n",
      "   3.09517282e-09   1.89787286e-09   1.18111418e-09   8.24427544e-10\n",
      "   7.13250728e-10   8.45190014e-10   1.51594057e-09   4.54798431e-09\n",
      "   2.52207495e-08]\n",
      "sfitflt [  1.63970434e-12   3.25810759e-11   2.95434768e-10   1.35097519e-09\n",
      "   3.44283346e-09   5.40332147e-09   5.77131835e-09   4.63609118e-09\n",
      "   3.09517282e-09   1.89787286e-09   1.18111418e-09   8.24427544e-10\n",
      "   7.13250728e-10   8.45190014e-10   1.51594057e-09   4.54798431e-09\n",
      "   2.52207495e-08]\n",
      "cfall coefs are  [ -1.34396011e-03   9.29824866e-04  -1.15646837e-04   6.98603890e-06\n",
      "  -2.28757189e-07   4.14590443e-09  -3.90484243e-11   1.48970932e-13]\n",
      "cflog coefs are  [ -3.81508829e+01   1.79269975e+01  -1.92198095e+00   9.88693994e-02\n",
      "  -2.74644132e-03   4.24556839e-05  -3.43760922e-07   1.13385361e-09]\n",
      "d coefs are  [  3.26242217e-03  -4.24638025e-04   9.00536389e-06  -6.17553951e-08]\n",
      "cfsml coefs are  [ -1.35744039e+01   1.89423392e+00  -1.06872564e-01   1.80805339e-03]\n"
     ]
    },
    {
     "data": {
      "image/png": "[encoded data removed]",
      "text/plain": [
       "<matplotlib.figure.Figure at 0x1200b7e50>"
      ]
     },
     "metadata": {},
     "output_type": "display_data"
    }
   ],
   "source": [
    "# split the full spectrum into two (small, large)\n",
    "binisp = np.array_split(binind,2) # x coord\n",
    "bnmvsp = np.array_split(bnum,2)  # N\n",
    "bnmlsp = np.array_split(bnuml,2) # log N\n",
    "\n",
    "bigxx = binisp[1] # x coordinate\n",
    "bigyy = bnmvsp[1] # big drops\n",
    "bigyl = bnmlsp[1] # in log space\n",
    "\n",
    "smxx = binisp[0] # x coordinate\n",
    "smyy = bnmvsp[0] # big drops\n",
    "smyl = bnmlsp[0] # in log space\n",
    "nsmall = len(smxx)\n",
    "\n",
    "scoefs = 3\n",
    "print \"scoefs\", scoefs\n",
    "# do the fitting of the big particles\n",
    "d,info = chebfit(bigxx, bigyy, scoefs, full=True) # coefs in N space\n",
    "dl,info = chebfit(bigxx, bigyl, scoefs, full=True) # coefs in log space\n",
    "bfitf = chebval(bigxx,d) # fit in N space\n",
    "bfitfl = chebval(bigxx,dl) # fit in Log space\n",
    "bfitfl = 10.**bfitfl # transform back to N space\n",
    "print \"bigxx\", bigxx\n",
    "print \"bigyy\", bigyy\n",
    "# print \"bfitf\", bfitf\n",
    "print \"bfitfl\", bfitfl\n",
    "\n",
    "# do the fitting of the small particles\n",
    "e,info = chebfit(smxx, smyy, scoefs, full=True) # coefs in N space\n",
    "cfsml,info = chebfit(smxx, smyl, scoefs, full=True) # coefs in log space\n",
    "cfsmlt = np.copy(cfsml)\n",
    "\n",
    "sfitf = chebval(smxx,e) # fit in N space\n",
    "sfitfl = chebval(smxx,cfsml) # fit in Log space\n",
    "sfitfl = 10.**sfitfl # transform back to N space\n",
    "sfitflt = chebval(smxx,cfsmlt)\n",
    "sfitflt = 10.**sfitflt # transform back to N space\n",
    "\n",
    "print \"smxx\", smxx\n",
    "print \"smyy\", smyy\n",
    "print \"sfitf\", sfitf\n",
    "print \"sfitfl\", sfitfl\n",
    "print \"sfitflt\", sfitflt\n",
    "\n",
    "\n",
    "\n",
    "plt.figure(figsize=(16, 8))\n",
    "plt.subplot(221)\n",
    "plt.rc('lines', linewidth=2)\n",
    "plt.plot(binind, bnum, label='bins')\n",
    "#plt.plot(x, y, '--', linewidth=2)\n",
    "\n",
    "# plt.plot(binind, fitall,'--',label='fit bins')\n",
    "#plt.plot(binxx, bfitf,'--')\n",
    "plt.plot(binind, 10**gitall, '--',label='fit logbins')\n",
    "plt.plot(bigxx, bfitfl,'--',label='fit blogbins')\n",
    "#plt.plot(smxx, sfitf,'--',label='fit sbins')\n",
    "plt.plot(smxx, sfitfl,'--',label='fit slogbin')\n",
    "plt.legend(loc='upper center', shadow=True)\n",
    "\n",
    "plt.subplot(223)\n",
    "plt.rc('lines', linewidth=2)\n",
    "plt.plot(binind[0:nsmall], bnum[0:nsmall], label='bins')\n",
    "#plt.plot(x, y, '--', linewidth=2)\n",
    "\n",
    "# plt.plot(binind, fitall,'--',label='fit bins')\n",
    "#plt.plot(binxx, bfitf,'--')\n",
    "plt.plot(binind[0:nsmall], 10**gitall[0:nsmall], '--',label='fit logbins')\n",
    "#plt.plot(smxx, sfitf,'--',label='fit sbins')\n",
    "plt.plot(smxx, sfitfl,'--',label='fit slogbin')\n",
    "plt.legend(loc='upper left', shadow=True)\n",
    "\n",
    "print \"cfall coefs are \", cfall\n",
    "print \"cflog coefs are \", cflog\n",
    "print \"d coefs are \", d\n",
    "print \"cfsml coefs are \", cfsml\n",
    "# info contain, residual, rank, singular values, condition number\n",
    "# print \"info is\", info\n",
    "plt.subplot(222)\n",
    "plt.plot(binind, np.log10(bnum),label='bins')\n",
    "plt.plot(binind, gitall, '--',label='fit logbins')\n",
    "plt.plot(bigxx, np.log10(bfitfl),'--',label='fit blogbins')\n",
    "plt.plot(smxx, np.log10(sfitfl),'--',label='fit slogbins')\n",
    "plt.legend(loc='lower right', shadow=True)\n",
    "plt.show()"
   ]
  },
  {
   "cell_type": "code",
   "execution_count": 15,
   "metadata": {},
   "outputs": [
    {
     "name": "stdout",
     "output_type": "stream",
     "text": [
      "xx <type 'numpy.ndarray'> 9\n",
      "[ 0.  1.  2.  3.  4.  5.  6.  7.  8.]\n"
     ]
    }
   ],
   "source": [
    "x = np.arange(9.0)\n",
    "print \"xx\",type(x),len(x)\n",
    "print x"
   ]
  },
  {
   "cell_type": "code",
   "execution_count": null,
   "metadata": {
    "collapsed": true
   },
   "outputs": [],
   "source": []
  }
 ],
 "metadata": {
  "kernelspec": {
   "display_name": "Python 2",
   "language": "python",
   "name": "python2"
  },
  "language_info": {
   "codemirror_mode": {
    "name": "ipython",
    "version": 2
   },
   "file_extension": ".py",
   "mimetype": "text/x-python",
   "name": "python",
   "nbconvert_exporter": "python",
   "pygments_lexer": "ipython2",
   "version": "2.7.15"
  }
 },
 "nbformat": 4,
 "nbformat_minor": 1
}
