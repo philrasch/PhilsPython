{
 "cells": [
  {
   "cell_type": "code",
   "execution_count": 5,
   "metadata": {},
   "outputs": [
    {
     "name": "stdout",
     "output_type": "stream",
     "text": [
      "3.7.9 (default, Aug 31 2020, 07:22:35) \n",
      "[Clang 10.0.0 ]\n"
     ]
    }
   ],
   "source": [
    "import sys\n",
    "print(sys.version)"
   ]
  },
  {
   "cell_type": "code",
   "execution_count": 6,
   "metadata": {},
   "outputs": [
    {
     "name": "stdout",
     "output_type": "stream",
     "text": [
      "3.7.9 (default, Aug 31 2020, 07:22:35) \n",
      "[Clang 10.0.0 ]\n",
      "pjr3.py complete\n"
     ]
    }
   ],
   "source": [
    "import sys\n",
    "print(sys.version)\n",
    "%matplotlib inline\n",
    "%run -i ~/Python/pjr3"
   ]
  },
  {
   "cell_type": "code",
   "execution_count": 9,
   "metadata": {},
   "outputs": [
    {
     "name": "stdout",
     "output_type": "stream",
     "text": [
      "[0.  0.5 1. ]\n",
      "[0. 1. 1.]\n"
     ]
    }
   ],
   "source": [
    "print(np.heaviside([-1.5, 0, 2.0], 0.5))\n",
    "print(np.heaviside([-1.5, 0, 2.0], 1))\n"
   ]
  },
  {
   "cell_type": "code",
   "execution_count": 27,
   "metadata": {},
   "outputs": [
    {
     "name": "stdout",
     "output_type": "stream",
     "text": [
      "[ 0.  1.  2.  3.  4.  5.  6.  7.  8.  9. 10. 11. 12. 13. 14. 15. 16. 17.\n",
      " 18. 19.]\n",
      "sum <xarray.DataArray ()>\n",
      "array(1.)\n",
      "[-0.66666667 -0.33333333  0.          0.33333333  0.66666667  1.\n",
      "  0.66666667  0.33333333  0.         -0.33333333 -0.66666667 -1.\n",
      " -1.33333333 -1.66666667 -2.         -2.33333333 -2.66666667 -3.\n",
      " -3.33333333 -3.66666667]\n",
      "[0.  0.  0.5 1.  1.  1.  1.  1.  0.5 0.  0.  0.  0.  0.  0.  0.  0.  0.\n",
      " 0.  0. ]\n"
     ]
    },
    {
     "data": {
      "text/plain": [
       "[<matplotlib.lines.Line2D at 0x11a578610>]"
      ]
     },
     "execution_count": 27,
     "metadata": {},
     "output_type": "execute_result"
    },
    {
     "data": {
      "image/png": "[encoded data removed]",
      "text/plain": [
       "<Figure size 432x288 with 1 Axes>"
      ]
     },
     "metadata": {
      "needs_background": "light"
     },
     "output_type": "display_data"
    }
   ],
   "source": [
    "q = np.arange(20.)\n",
    "print(q)\n",
    "delta = 3.\n",
    "q0 = 5\n",
    "f = 1.-abs((q-q0)/delta)\n",
    "h = np.heaviside(f,0.5)\n",
    "df = xr.DataArray(data=f)\n",
    "dh = xr.DataArray(data=h)\n",
    "dp = dh/(2*delta)\n",
    "print(\"sum\",dp.sum())\n",
    "print(f)\n",
    "print(h)\n",
    "df.plot()\n",
    "dh.plot()"
   ]
  },
  {
   "cell_type": "code",
   "execution_count": 29,
   "metadata": {},
   "outputs": [
    {
     "name": "stdout",
     "output_type": "stream",
     "text": [
      "850.0 1137.6325064844245\n"
     ]
    }
   ],
   "source": [
    "H = 7000.\n",
    "p = 850.\n",
    "p0 = 1000.\n",
    "z = -H*np.log(p/p0)\n",
    "print(p, z)"
   ]
  }
 ],
 "metadata": {
  "kernelspec": {
   "display_name": "Python [conda env:pjrpy3] *",
   "language": "python",
   "name": "conda-env-pjrpy3-py"
  },
  "language_info": {
   "codemirror_mode": {
    "name": "ipython",
    "version": 3
   },
   "file_extension": ".py",
   "mimetype": "text/x-python",
   "name": "python",
   "nbconvert_exporter": "python",
   "pygments_lexer": "ipython3",
   "version": "3.7.9"
  }
 },
 "nbformat": 4,
 "nbformat_minor": 4
}
