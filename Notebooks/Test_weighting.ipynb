{
 "cells": [
  {
   "cell_type": "code",
   "execution_count": null,
   "metadata": {},
   "outputs": [],
   "source": []
  },
  {
   "cell_type": "markdown",
   "metadata": {},
   "source": [
    "explore ways to use \"weights\" array in RMS and Correlation functions of CDAT\n",
    "\n",
    "CDAT functions require that\n",
    "1. weights is an MV2 type variable\n",
    "2. weights array has \"bounds\" attribute on each dimensions\n",
    "3. the dimension ids of the weights array match the dimensions of the fields that are being evaluated  \n",
    "\n",
    "This can be achieved by \n",
    "1. turning on autobounds for a bit\n",
    "2. making a copy of an array to be evaluated as the weight array, \n",
    "3. turning off autobounds\n",
    "4. then replacing the id, and the data (with the chosen weights).\n",
    "\n",
    "\n"
   ]
  },
  {
   "cell_type": "code",
   "execution_count": 1,
   "metadata": {},
   "outputs": [],
   "source": [
    "%matplotlib inline\n",
    "import numpy as np\n",
    "import cdms2\n",
    "import cdutil\n",
    "from cdms2 import MV2\n",
    "from genutil import statistics"
   ]
  },
  {
   "cell_type": "code",
   "execution_count": 43,
   "metadata": {
    "scrolled": false
   },
   "outputs": [
    {
     "name": "stdout",
     "output_type": "stream",
     "text": [
      "jname1 /Users/d3x345/Desktop/NetCDF_files/vd05_ANN_climo.nc\n",
      "info before calling autobounds\n",
      "levwts.sum float64 999.8999999968024\n",
      "levwts [0.04765082 0.07035683 0.10388243 0.15338325]\n",
      "latwts [1.69087141e-05 1.35262851e-04 2.70489109e-04 4.05642190e-04]\n"
     ]
    }
   ],
   "source": [
    "jname1 = \"/Users/d3x345/Desktop/NetCDF_files/vd05_ANN_climo.nc\"\n",
    "print \"jname1\", jname1\n",
    "\n",
    "print \"info before calling autobounds\"\n",
    "g1 = cdms2.open(jname1)\n",
    "lat_bnds = g1(\"lat_bnds\")\n",
    "lev_bnds = 1000.*(g1(\"hyai\")+g1(\"hybi\"))\n",
    "#print \"lat_bnds\",lat_bnds[0:4]\n",
    "#print \"lev_bnds bot\",lev_bnds.sum(), lev_bnds[-4:]\n",
    "#print \"lev_bnds\", lev_bnds[0:4]\n",
    "mypwts = lev_bnds[1:]-lev_bnds[0:-1]\n",
    "#print \"mypwts\", mypwts.shape, mypwts.sum(), mypwts\n",
    "#print \"mypwts\", mypwts[0:4]\n",
    "\n",
    "T1 =  g1(\"T\",squeeze=1)\n",
    "lat = T1.getAxis(1)\n",
    "T1xav = cdutil.averager(T1,axis=\"x\")\n",
    "\n",
    "T2 =  g1(\"T\",squeeze=1)\n",
    "T2xav = cdutil.averager(T2,axis=\"x\")\n",
    "\n",
    "# now create a bounds using autobounds\n",
    "orig_bounds = cdms2.getAutoBounds()\n",
    "#print \"autobounds\", orig_bounds\n",
    "cdms2.setAutoBounds(1)\n",
    "#print \"autobounds set\"\n",
    "\n",
    "lev = T2xav.getLevel()\n",
    "#print \"autobounds2\", cdms2.getAutoBounds()\n",
    "\n",
    "\n",
    "Tw2 = cdutil.area_weights(T2xav)\n",
    "#print \"Tw2.shape\", Tw2.shape, Tw2[0:4,0], Tw2[0,0:4]\n",
    "#print \"Tw2.sum\", Tw2.sum()\n",
    "\n",
    "lat1 = T1xav.getAxis(1)\n",
    "lbnd =lat1.getBounds()\n",
    "#print \"lbnd\", lbnd.shape,lbnd[0:4,1], lbnd[0:4,0]\n",
    "myywts = (np.sin(lbnd[:,1]*np.pi/180.)-np.sin(lbnd[:,0]*np.pi/180.))*0.5\n",
    "#print \"myywts\", myywts[0:4]\n",
    "\n",
    "#dlat = lbnd[:,1]-lbnd[:,0]\n",
    "#print \"dlat\", dlat[0:4]\n",
    "levs1 = T1xav.getAxis(0)\n",
    "# looks like CDMS puts bounds halfway between dimension values,\n",
    "# and then does something reasonable with the endpoints\n",
    "bnd=levs1.getBounds()\n",
    "#print \"bnd.shape\", bnd.shape\n",
    "#print \"cdms guess at bnd\", bnd\n",
    "#db = bnd[:,1]-bnd[:,0]\n",
    "#print \"db\", db[0:4]\n",
    "\n",
    "#print \"db.shape\", db.shape, db.sum()\n",
    "#1./0.\n",
    "levs1.setBounds(bnd)\n",
    "# overwrite the default bounds with my version\n",
    "levs1.setBounds(lev_bnds)\n",
    "#print \"lev_bnds 2\", lev_bnds[0:4]\n",
    "bnd=levs1.getBounds()\n",
    "#print \"bnd 2\", bnd\n",
    "db = bnd[:,1]-bnd[:,0]\n",
    "#print \"db 2\", db[0:4]\n",
    "#print \"levs1 db\",db[0:4]\n",
    "cdms2.setAutoBounds(orig_bounds)\n",
    "#print \"autobounds unset\"\n",
    "#print \"autobounds3\", cdms2.getAutoBounds()\n",
    "\n",
    "pert = 10.*np.random.random_sample((72, 192))\n",
    "T1xav = T1xav + pert\n",
    "levwts = levs1.getData()\n",
    "levwts = db\n",
    "#levwts[:] = 1.\n",
    "#levwts = levwts/levwts.sum()\n",
    "print \"levwts.sum\", levwts.dtype, levwts.sum()\n",
    "print \"levwts\", levwts[0:4]\n",
    "\n",
    "#print \"help T1xav\", help(T1xav)\n",
    "tweights = T1xav.copy()\n",
    "#print \"tw info\", tweights.info()\n",
    "\n",
    "grid = T1.getGrid()\n",
    "latwts, lonwts = grid.getWeights()\n",
    "print \"latwts\", latwts[0:4]\n",
    "\n",
    "\n",
    "#exweights = MV2.outerproduct(latwts, lonwts)\n",
    "#print \"exweights\", exweights\n",
    "#print \"exweights.info\", exweights.info()\n",
    "#latwts[:] = 1.\n",
    "#print \"latwts.sum\",latwts.dtype, latwts.sum()\n",
    "\n"
   ]
  },
  {
   "cell_type": "code",
   "execution_count": 54,
   "metadata": {},
   "outputs": [
    {
     "name": "stdout",
     "output_type": "stream",
     "text": [
      "levwts[0],latwts[0],product 0.04765081971614585 1.690871407966643e-05 8.057140862420421e-07\n",
      "tweights.shape (72, 192) [8.057140862420421e-07 1.18964344062853e-06 1.7565182736613226e-06\n",
      " 2.593513602761546e-06] [6.445385727494766e-06 1.2889027753520937e-05 1.932918284834894e-05]\n",
      "tweights.sum 999.8999999968024\n",
      "unweighted correlation 0.9951268872275159\n",
      "weighted correlation 0.9946999409570033\n",
      "unweighted rms 5.799573175788458\n",
      "weighted rms 5.812968754200054\n"
     ]
    }
   ],
   "source": [
    "weights = MV2.outerproduct(levwts, latwts)\n",
    "print \"levwts[0],latwts[0],product\", levwts[0], latwts[0], levwts[0]*latwts[0]\n",
    "tweights.data[:] = weights.data[:]\n",
    "tweights.id = 'tweights'\n",
    "print \"tweights.shape\", tweights.shape, tweights[0:4,0], tweights[0,1:4]\n",
    "#tweights = tweights/tweights.sum()\n",
    "print \"tweights.sum\", tweights.sum()\n",
    "\n",
    "# correlation works with no weights\n",
    "result = statistics.correlation(T1xav, T2xav, axis='zy')\n",
    "print \"unweighted correlation\", result\n",
    "result = statistics.correlation(T1xav, T2xav, weights=tweights, axis='zy')\n",
    "print \"weighted correlation\", result\n",
    "result = statistics.rms(T1xav, T2xav, axis='zy')\n",
    "print \"unweighted rms\", result\n",
    "result = statistics.rms(T1xav, T2xav, weights=tweights, axis='zy')\n",
    "print \"weighted rms\", result\n",
    "\n",
    "#result = statistics.correlation(T1xav, T2xav, weights=(levwts,latwts), axis='zy')\n",
    "#print \"weighted correlation with 1D arrays, result\", result"
   ]
  }
 ],
 "metadata": {
  "kernelspec": {
   "display_name": "Python 2",
   "language": "python",
   "name": "python2"
  },
  "language_info": {
   "codemirror_mode": {
    "name": "ipython",
    "version": 2
   },
   "file_extension": ".py",
   "mimetype": "text/x-python",
   "name": "python",
   "nbconvert_exporter": "python",
   "pygments_lexer": "ipython2",
   "version": "2.7.15"
  }
 },
 "nbformat": 4,
 "nbformat_minor": 2
}
