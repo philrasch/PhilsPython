{
 "cells": [
  {
   "cell_type": "markdown",
   "metadata": {},
   "source": [
    "Assume\n",
    "\n",
    "* A$_w$ is water storage in the atmosphere\n",
    "* H$_w$ is heat change in atmosphere\n",
    "* Evap$_o$ is evap over ocean\n",
    "* Sub$_i$ is sublimation of ice\n",
    "* Rain$_o$ is rain on ocean\n",
    "* Rain$_i$ is rain on ice\n",
    "* Snow$_o$ is snow on ocean\n",
    "* Snow$_i$ is snow on ice\n",
    "\n",
    "consider flux of liquid $W_o$ that we inject from the ocean into the atmosphere, then convert to vapor. We will list that as a positive heat flux LH$o$, with the same sign as the water flux.\n",
    "$$\n",
    "LH_o = L_v W_o\n",
    "$$\n",
    "Similarly, a flux of ice $W_i$ that we inject from sea ice into atmosphere then convert to water vapor \n",
    "$$\n",
    "LH_i = (L_v + L_f)*W_i\n",
    "$$\n",
    "\n",
    "\n",
    "$$\n",
    "evap = rain+snow\n",
    "$$\n",
    "so\n",
    "$$\n",
    "\\begin{align}\n",
    "Latent\\ Heat\\ Flux & = (L_f+L_v)evap - L_f rain \\\\\n",
    " & = (L_f+L_v)(rain + snow)-L_f rain \\\\\n",
    " & = (L_f+L_v)rain + (L_f+L_v)snow - L_f rain \\\\\n",
    " & = (L_v) rain + L_f snow + L_v snow \\\\\n",
    " & = (L_v)(rain+snow) + L_f snow \\\\\n",
    " & = L_v evap + l_f snow\n",
    "\\end{align}\n",
    "$$"
   ]
  }
 ],
 "metadata": {
  "kernelspec": {
   "display_name": "Python 2",
   "language": "python",
   "name": "python2"
  },
  "language_info": {
   "codemirror_mode": {
    "name": "ipython",
    "version": 2
   },
   "file_extension": ".py",
   "mimetype": "text/x-python",
   "name": "python",
   "nbconvert_exporter": "python",
   "pygments_lexer": "ipython2",
   "version": "2.7.11"
  }
 },
 "nbformat": 4,
 "nbformat_minor": 0
}
