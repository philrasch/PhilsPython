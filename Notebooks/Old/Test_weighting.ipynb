{
 "cells": [
  {
   "cell_type": "code",
   "execution_count": null,
   "metadata": {},
   "outputs": [],
   "source": []
  },
  {
   "cell_type": "markdown",
   "metadata": {},
   "source": [
    "explore ways to use \"weights\" array in RMS and Correlation functions of CDAT\n",
    "\n",
    "CDAT functions require that\n",
    "1. weights is an MV2 type variable\n",
    "2. weights array has \"bounds\" attribute on each dimensions\n",
    "3. the dimension ids of the weights array match the dimensions of the fields that are being evaluated  \n",
    "\n",
    "This can be achieved by \n",
    "1. turning on autobounds for a bit\n",
    "2. making a copy of an array to be evaluated as the weight array, \n",
    "3. turning off autobounds\n",
    "4. then replacing the id, and the data (with the chosen weights).\n",
    "\n",
    "\n"
   ]
  },
  {
   "cell_type": "code",
   "execution_count": 1,
   "metadata": {},
   "outputs": [
    {
     "name": "stdin",
     "output_type": "stream",
     "text": [
      "Allow anonymous logging usage to help improve CDAT(you can also set the environment variable CDAT_ANONYMOUS_LOG to yes or no)? [yes]/no:  no\n"
     ]
    }
   ],
   "source": [
    "%matplotlib inline\n",
    "import numpy as np\n",
    "import cdms2\n",
    "import cdutil\n",
    "from cdms2 import MV2\n",
    "from genutil import statistics"
   ]
  },
  {
   "cell_type": "code",
   "execution_count": 2,
   "metadata": {
    "scrolled": false
   },
   "outputs": [
    {
     "name": "stdout",
     "output_type": "stream",
     "text": [
      "jname1 /Users/d3x345/Desktop/NetCDF_files/vd05_ANN_climo.nc\n",
      "info before calling autobounds\n",
      "levwts.sum float64 999.8999999968024\n",
      "levwts [0.04765082 0.07035683 0.10388243 0.15338325]\n",
      "latwts [1.69087141e-05 1.35262851e-04 2.70489109e-04 4.05642190e-04]\n"
     ]
    },
    {
     "name": "stderr",
     "output_type": "stream",
     "text": [
      "/Users/d3x345/miniconda2/lib/python2.7/site-packages/numpy/ma/core.py:3174: FutureWarning: Using a non-tuple sequence for multidimensional indexing is deprecated; use `arr[tuple(seq)]` instead of `arr[seq]`. In the future this will be interpreted as an array index, `arr[np.array(seq)]`, which will result either in an error or a different result.\n",
      "  dout = self.data[indx]\n"
     ]
    }
   ],
   "source": [
    "jname1 = \"/Users/d3x345/Desktop/NetCDF_files/vd05_ANN_climo.nc\"\n",
    "print \"jname1\", jname1\n",
    "\n",
    "print \"info before calling autobounds\"\n",
    "g1 = cdms2.open(jname1)\n",
    "lat_bnds = g1(\"lat_bnds\")\n",
    "lev_bnds = 1000.*(g1(\"hyai\")+g1(\"hybi\"))\n",
    "#print \"lat_bnds\",lat_bnds[0:4]\n",
    "#print \"lev_bnds bot\",lev_bnds.sum(), lev_bnds[-4:]\n",
    "#print \"lev_bnds\", lev_bnds[0:4]\n",
    "mypwts = lev_bnds[1:]-lev_bnds[0:-1]\n",
    "#print \"mypwts\", mypwts.shape, mypwts.sum(), mypwts\n",
    "#print \"mypwts\", mypwts[0:4]\n",
    "\n",
    "T1 =  g1(\"T\",squeeze=1)\n",
    "lat = T1.getAxis(1)\n",
    "T1xav = cdutil.averager(T1,axis=\"x\")\n",
    "\n",
    "T2 =  g1(\"T\",squeeze=1)\n",
    "T2xav = cdutil.averager(T2,axis=\"x\")\n",
    "\n",
    "# now create a bounds using autobounds\n",
    "orig_bounds = cdms2.getAutoBounds()\n",
    "#print \"autobounds\", orig_bounds\n",
    "cdms2.setAutoBounds(1)\n",
    "#print \"autobounds set\"\n",
    "\n",
    "lev = T2xav.getLevel()\n",
    "#print \"autobounds2\", cdms2.getAutoBounds()\n",
    "\n",
    "\n",
    "Tw2 = cdutil.area_weights(T2xav)\n",
    "#print \"Tw2.shape\", Tw2.shape, Tw2[0:4,0], Tw2[0,0:4]\n",
    "#print \"Tw2.sum\", Tw2.sum()\n",
    "\n",
    "lat1 = T1xav.getAxis(1)\n",
    "lbnd =lat1.getBounds()\n",
    "#print \"lbnd\", lbnd.shape,lbnd[0:4,1], lbnd[0:4,0]\n",
    "myywts = (np.sin(lbnd[:,1]*np.pi/180.)-np.sin(lbnd[:,0]*np.pi/180.))*0.5\n",
    "#print \"myywts\", myywts[0:4]\n",
    "\n",
    "#dlat = lbnd[:,1]-lbnd[:,0]\n",
    "#print \"dlat\", dlat[0:4]\n",
    "levs1 = T1xav.getAxis(0)\n",
    "# looks like CDMS puts bounds halfway between dimension values,\n",
    "# and then does something reasonable with the endpoints\n",
    "bnd=levs1.getBounds()\n",
    "#print \"bnd.shape\", bnd.shape\n",
    "#print \"cdms guess at bnd\", bnd\n",
    "#db = bnd[:,1]-bnd[:,0]\n",
    "#print \"db\", db[0:4]\n",
    "\n",
    "#print \"db.shape\", db.shape, db.sum()\n",
    "#1./0.\n",
    "levs1.setBounds(bnd)\n",
    "# overwrite the default bounds with my version\n",
    "levs1.setBounds(lev_bnds)\n",
    "#print \"lev_bnds 2\", lev_bnds[0:4]\n",
    "bnd=levs1.getBounds()\n",
    "#print \"bnd 2\", bnd\n",
    "db = bnd[:,1]-bnd[:,0]\n",
    "#print \"db 2\", db[0:4]\n",
    "#print \"levs1 db\",db[0:4]\n",
    "cdms2.setAutoBounds(orig_bounds)\n",
    "#print \"autobounds unset\"\n",
    "#print \"autobounds3\", cdms2.getAutoBounds()\n",
    "\n",
    "pert = 10.*np.random.random_sample((72, 192))\n",
    "T1xav = T1xav + pert\n",
    "levwts = levs1.getData()\n",
    "levwts = db\n",
    "#levwts[:] = 1.\n",
    "#levwts = levwts/levwts.sum()\n",
    "print \"levwts.sum\", levwts.dtype, levwts.sum()\n",
    "print \"levwts\", levwts[0:4]\n",
    "\n",
    "#print \"help T1xav\", help(T1xav)\n",
    "tweights = T1xav.copy()\n",
    "#print \"tw info\", tweights.info()\n",
    "\n",
    "grid = T1.getGrid()\n",
    "latwts, lonwts = grid.getWeights()\n",
    "print \"latwts\", latwts[0:4]\n",
    "\n",
    "\n",
    "#exweights = MV2.outerproduct(latwts, lonwts)\n",
    "#print \"exweights\", exweights\n",
    "#print \"exweights.info\", exweights.info()\n",
    "#latwts[:] = 1.\n",
    "#print \"latwts.sum\",latwts.dtype, latwts.sum()\n",
    "\n"
   ]
  },
  {
   "cell_type": "code",
   "execution_count": 35,
   "metadata": {},
   "outputs": [
    {
     "name": "stdout",
     "output_type": "stream",
     "text": [
      "autobounds 1\n",
      "autobounds set\n",
      "Tw2.shape (192, 288) [5.87108128e-08 4.69662677e-07 9.39198294e-07 1.40847983e-06] [5.87108128e-08 5.87108128e-08 5.87108128e-08 5.87108128e-08]\n",
      "Tw2.sum 1.0\n",
      "PS.sum 55296.0\n",
      "192*288 55296.0\n",
      "PSGAV 1.0\n",
      "grid Grid has Python id 0x11d872950.\n",
      "Gridtype: generic\n",
      "Grid shape: (192, 288)\n",
      "Order: yx\n",
      "shape (192, 288)\n"
     ]
    }
   ],
   "source": [
    "# now create a bounds using autobounds\n",
    "orig_bounds = cdms2.getAutoBounds()\n",
    "print \"autobounds\", orig_bounds\n",
    "cdms2.setAutoBounds(1)\n",
    "print \"autobounds set\"\n",
    "\n",
    "\n",
    "PS =  g1(\"PS\",squeeze=1)\n",
    "#print \"PS.info()\", PS.info()\n",
    "PS.data[:] = 1.\n",
    "#print \"PSrev.info\", PS.info()\n",
    "\n",
    "Tw2 = cdutil.area_weights(PS)\n",
    "print \"Tw2.shape\", Tw2.shape, Tw2[0:4,0], Tw2[0,0:4]\n",
    "print \"Tw2.sum\", Tw2.sum()\n",
    "\n",
    "print \"PS.sum\", PS.sum()\n",
    "print \"192*288\", 192.*288.\n",
    "PSGAV = cdutil.averager(PS,axis=\"xy\")\n",
    "print \"PSGAV\", PSGAV\n",
    "PSGSUM = cdutil.averager(PS,axis=\"xy\")\n",
    "grid = PS.getGrid()\n",
    "print \"grid\", grid\n",
    "#print \"grid.data\", grid.data[:]\n",
    "print \"shape\", grid.shape\n",
    "latwts, lonwts = grid.getWeights()\n",
    "\n",
    "#print \"wts.data\", shape(wts)"
   ]
  },
  {
   "cell_type": "code",
   "execution_count": 3,
   "metadata": {},
   "outputs": [
    {
     "name": "stdout",
     "output_type": "stream",
     "text": [
      "levwts[0],latwts[0],product 0.04765081971614585 1.690871407966643e-05 8.057140862420421e-07\n",
      "tweights.shape (72, 192) [8.057140862420421e-07 1.18964344062853e-06 1.7565182736613226e-06\n",
      " 2.593513602761546e-06] [6.445385727494766e-06 1.2889027753520937e-05 1.932918284834894e-05]\n",
      "tweights.sum 999.8999999968024\n",
      "unweighted correlation 0.9951347361004106\n",
      "weighted correlation 0.9947111393867276\n",
      "unweighted rms 5.783573137142542\n",
      "weighted rms 5.804570234678501\n"
     ]
    },
    {
     "name": "stderr",
     "output_type": "stream",
     "text": [
      "/Users/d3x345/miniconda2/lib/python2.7/site-packages/numpy/ma/core.py:3206: FutureWarning: Using a non-tuple sequence for multidimensional indexing is deprecated; use `arr[tuple(seq)]` instead of `arr[seq]`. In the future this will be interpreted as an array index, `arr[np.array(seq)]`, which will result either in an error or a different result.\n",
      "  mout = _mask[indx]\n"
     ]
    }
   ],
   "source": [
    "weights = MV2.outerproduct(levwts, latwts)\n",
    "print \"levwts[0],latwts[0],product\", levwts[0], latwts[0], levwts[0]*latwts[0]\n",
    "tweights.data[:] = weights.data[:]\n",
    "tweights.id = 'tweights'\n",
    "tweights.name = 'mass/area weights'\n",
    "tweights.long_name = tweights.name\n",
    "print \"tweights.shape\", tweights.shape, tweights[0:4,0], tweights[0,1:4]\n",
    "#tweights = tweights/tweights.sum()\n",
    "print \"tweights.sum\", tweights.sum()\n",
    "\n",
    "# correlation works with no weights\n",
    "result = statistics.correlation(T1xav, T2xav, axis='zy')\n",
    "print \"unweighted correlation\", result\n",
    "result = statistics.correlation(T1xav, T2xav, weights=tweights, axis='zy')\n",
    "print \"weighted correlation\", result\n",
    "result = statistics.rms(T1xav, T2xav, axis='zy')\n",
    "print \"unweighted rms\", result\n",
    "result = statistics.rms(T1xav, T2xav, weights=tweights, axis='zy')\n",
    "print \"weighted rms\", result\n",
    "\n",
    "#result = statistics.correlation(T1xav, T2xav, weights=(levwts,latwts), axis='zy')\n",
    "#print \"weighted correlation with 1D arrays, result\", result"
   ]
  },
  {
   "cell_type": "code",
   "execution_count": 4,
   "metadata": {},
   "outputs": [
    {
     "name": "stdout",
     "output_type": "stream",
     "text": [
      "pjr.py complete\n",
      "levwts  [ 0.04765082  0.07035683  0.10388243  0.15338325  0.22647163  0.33438722\n",
      "  0.49372546  0.72898968  1.07635923  1.58925321  2.08797921  2.72993081\n",
      "  3.46283489  4.25746709  5.06733242  5.82938464  6.46772492  7.07833868\n",
      "  7.53149101  7.74523598  7.66600449  7.25641263  6.5014787   6.68039975\n",
      "  7.2481363   7.86412429  8.53246339  9.25760488 10.04437513 10.89800188\n",
      " 11.82416933 12.82905529 13.91934807 15.10229734 16.38577794 17.77833638\n",
      " 19.28924273 20.92855591 22.7071889  24.63697472 26.73075721 29.00248949\n",
      " 31.46729948 34.14157844 37.04312378 39.10239629 39.23951838 38.73122511\n",
      " 37.30651753 36.04586955 34.3102834  32.10290437 29.43747764 26.3385396\n",
      " 22.84128395 18.99086357 15.46183125 13.6703252  13.36002788 13.02841749\n",
      " 12.67575804 12.30243635 11.90890591 11.49558154 11.06291181 10.61141626\n",
      " 10.14179878  9.65482928  9.15113766  8.63140093  6.47184536  3.00712102]\n"
     ]
    },
    {
     "data": {
      "image/png": "[encoded data removed]",
      "text/plain": [
       "<Figure size 432x288 with 3 Axes>"
      ]
     },
     "metadata": {
      "needs_background": "light"
     },
     "output_type": "display_data"
    }
   ],
   "source": [
    "import pjr\n",
    "pjr.plotZMf(tweights, tweights.getAxis(1), tweights.getAxis(0))\n",
    "print \"levwts \", levwts    "
   ]
  },
  {
   "cell_type": "code",
   "execution_count": 9,
   "metadata": {},
   "outputs": [
    {
     "name": "stdout",
     "output_type": "stream",
     "text": [
      "hyai [1.00000003e-04 1.47650823e-04 2.18007648e-04 3.21890076e-04\n",
      " 4.75273331e-04 7.01744962e-04 1.03613218e-03 1.52985764e-03\n",
      " 2.25884732e-03 3.33520655e-03 4.92445976e-03 7.01243897e-03\n",
      " 9.74236978e-03 1.32052047e-02 1.74626718e-02 2.25300042e-02\n",
      " 2.83593888e-02 3.48271138e-02 4.19054524e-02 4.94369434e-02\n",
      " 5.71821794e-02 6.48481839e-02 7.21045965e-02 7.86060752e-02\n",
      " 8.52864750e-02 9.25346113e-02 1.00398736e-01 1.08931199e-01\n",
      " 1.18188804e-01 1.28233179e-01 1.39131181e-01 1.50955350e-01\n",
      " 1.63784405e-01 1.77703754e-01 1.79385822e-01 1.75675927e-01\n",
      " 1.71650738e-01 1.67283462e-01 1.62545029e-01 1.57403897e-01\n",
      " 1.51825851e-01 1.45773757e-01 1.39207311e-01 1.32082804e-01\n",
      " 1.24352823e-01 1.15965906e-01 1.07112739e-01 9.82285217e-02\n",
      " 8.94593912e-02 8.10128312e-02 7.28516968e-02 6.50835216e-02\n",
      " 5.78151181e-02 5.11501816e-02 4.51868752e-02 4.00153816e-02\n",
      " 3.57156610e-02 3.22149484e-02 2.91198596e-02 2.60950270e-02\n",
      " 2.31452699e-02 2.02753566e-02 1.74899619e-02 1.47936633e-02\n",
      " 1.21909510e-02 9.68620350e-03 7.28367416e-03 4.98746665e-03\n",
      " 2.80151930e-03 7.29616903e-04 0.00000000e+00 0.00000000e+00\n",
      " 0.00000000e+00]\n",
      "hybi [0.         0.         0.         0.         0.         0.\n",
      " 0.         0.         0.         0.         0.         0.\n",
      " 0.         0.         0.         0.         0.         0.\n",
      " 0.         0.         0.         0.         0.         0.\n",
      " 0.         0.         0.         0.         0.         0.\n",
      " 0.         0.         0.         0.         0.01342023 0.0335159\n",
      " 0.05531943 0.07897595 0.10464293 0.13249126 0.16270628 0.19548913\n",
      " 0.23105806 0.26964987 0.31152143 0.35695147 0.40490703 0.45303077\n",
      " 0.50053112 0.5462842  0.59049121 0.63256966 0.67194097 0.70804339\n",
      " 0.74034523 0.76835801 0.79164859 0.81061114 0.82737655 0.84376141\n",
      " 0.85973959 0.87528526 0.89037309 0.90497829 0.91907659 0.93264425\n",
      " 0.94565819 0.9580962  0.96993698 0.98116002 0.99052103 0.99699288\n",
      " 1.        ]\n",
      "hybi 33 and 34 0.0 0.0134202286506\n",
      "lev_bnds 192806.0509\n",
      "hyam [1.23825413e-04 1.82829236e-04 2.69948862e-04 3.98581704e-04\n",
      " 5.88509147e-04 8.68938570e-04 1.28299491e-03 1.89435248e-03\n",
      " 2.79702694e-03 4.12983316e-03 5.96844937e-03 8.37740438e-03\n",
      " 1.14737872e-02 1.53339382e-02 1.99963380e-02 2.54446965e-02\n",
      " 3.15932513e-02 3.83662831e-02 4.56711979e-02 5.33095614e-02\n",
      " 6.10151817e-02 6.84763902e-02 7.53553359e-02 8.19462751e-02\n",
      " 8.89105431e-02 9.64666734e-02 1.04664967e-01 1.13560001e-01\n",
      " 1.23210991e-01 1.33682180e-01 1.45043266e-01 1.57369878e-01\n",
      " 1.70744080e-01 1.78544788e-01 1.77530875e-01 1.73663333e-01\n",
      " 1.69467100e-01 1.64914246e-01 1.59974463e-01 1.54614873e-01\n",
      " 1.48799804e-01 1.42490535e-01 1.35645058e-01 1.28217812e-01\n",
      " 1.20159364e-01 1.11539324e-01 1.02670630e-01 9.38439551e-02\n",
      " 8.52361112e-02 7.69322627e-02 6.89676092e-02 6.14493199e-02\n",
      " 5.44826500e-02 4.81685284e-02 4.26011286e-02 3.78655213e-02\n",
      " 3.39653047e-02 3.06674030e-02 2.76074433e-02 2.46201493e-02\n",
      " 2.17103133e-02 1.88826608e-02 1.61418126e-02 1.34923049e-02\n",
      " 1.09385772e-02 8.48494102e-03 6.13557040e-03 3.89449073e-03\n",
      " 1.76556810e-03 3.64808452e-04 0.00000000e+00 0.00000000e+00]\n"
     ]
    }
   ],
   "source": [
    "hyai = g1(\"hyai\")\n",
    "hyam = g1(\"hyam\")\n",
    "hybi = g1(\"hybi\")\n",
    "print \"hyai\", hyai\n",
    "print \"hybi\", hybi\n",
    "print \"hybi 33 and 34\", hybi[33], hybi[34]\n",
    "print \"lev_bnds\", lev_bnds[34]*1000.\n",
    "print \"hyam\", hyam"
   ]
  }
 ],
 "metadata": {
  "kernelspec": {
   "display_name": "Python 2",
   "language": "python",
   "name": "python2"
  },
  "language_info": {
   "codemirror_mode": {
    "name": "ipython",
    "version": 2
   },
   "file_extension": ".py",
   "mimetype": "text/x-python",
   "name": "python",
   "nbconvert_exporter": "python",
   "pygments_lexer": "ipython2",
   "version": "2.7.15"
  }
 },
 "nbformat": 4,
 "nbformat_minor": 2
}
