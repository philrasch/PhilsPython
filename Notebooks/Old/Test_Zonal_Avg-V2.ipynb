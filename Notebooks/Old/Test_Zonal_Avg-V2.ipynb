{
 "cells": [
  {
   "cell_type": "code",
   "execution_count": 1,
   "metadata": {},
   "outputs": [
    {
     "name": "stdout",
     "output_type": "stream",
     "text": [
      "pjr.py complete\n"
     ]
    }
   ],
   "source": [
    "%matplotlib inline\n",
    "from pjr import *\n",
    "# import xarray as xr"
   ]
  },
  {
   "cell_type": "code",
   "execution_count": 2,
   "metadata": {},
   "outputs": [
    {
     "name": "stdout",
     "output_type": "stream",
     "text": [
      "ax1 AxesSubplot(0.125,0.125;0.775x0.755)\n"
     ]
    },
    {
     "data": {
      "image/png": "[encoded data removed]",
      "text/plain": [
       "<Figure size 432x288 with 1 Axes>"
      ]
     },
     "metadata": {
      "needs_background": "light"
     },
     "output_type": "display_data"
    }
   ],
   "source": [
    "ax1 = plt.gca()\n",
    "print \"ax1\", ax1"
   ]
  },
  {
   "cell_type": "code",
   "execution_count": 3,
   "metadata": {},
   "outputs": [
    {
     "name": "stdout",
     "output_type": "stream",
     "text": [
      "zmin, zmax -9.0 21.0\n",
      "zinc 3.3333333333333335\n",
      "pow 0\n",
      "cints [ 0.1  0.2  0.5  1.   2.   5.  10.  20. ]\n",
      "nlevsout [300.  150.   60.   30.   15.    6.    3.    1.5]\n",
      "f1 [291.  141.   51.   21.    6.    3.    6.    7.5]\n",
      "f2 (array([5]),)\n",
      "nlevbest, cintsbest 5 5.0\n",
      "f3 -1.8\n",
      "ninc, zminout, zmaxout 6 -5.0 20.0\n",
      "f4 [0.25 0.   0.25 0.5  0.75 1.  ]\n",
      "alist 1\n",
      "zlist (array([0, 2, 3, 4, 5]),)\n",
      "list of nonzero contour levels (array([0, 2, 3, 4, 5]),)\n",
      "fNC clevs [-5.  5. 10. 15. 20.]\n"
     ]
    }
   ],
   "source": [
    "\n",
    "#clevs = findNiceContours(Txav)\n",
    "clevs = findNiceContours(np.array([-9, 21.]),rmClev=0.,verbose=1)\n",
    "print \"fNC clevs\", clevs"
   ]
  },
  {
   "cell_type": "code",
   "execution_count": 4,
   "metadata": {},
   "outputs": [
    {
     "data": {
      "text/plain": [
       "<Figure size 432x288 with 0 Axes>"
      ]
     },
     "metadata": {},
     "output_type": "display_data"
    }
   ],
   "source": [
    "fig = plt.figure()"
   ]
  },
  {
   "cell_type": "code",
   "execution_count": 5,
   "metadata": {},
   "outputs": [
    {
     "name": "stdout",
     "output_type": "stream",
     "text": [
      "['chars', 'cosp_ht', 'cosp_htmisr', 'cosp_prs', 'cosp_scol', 'cosp_sr', 'cosp_sza', 'cosp_tau', 'cosp_tau_modis', 'ilev', 'lat', 'lev', 'lon', 'nbnd', 'slat', 'slon', 'time']\n",
      "BCFREZDEP\n",
      "ZM_CLUBB\n",
      "Z3\n",
      "BCFREZCNT\n",
      "LINOZ_SZA\n",
      "LINOZ_SSO3\n",
      "DSTFREZDEP\n",
      "LINOZ_DO3_PSC\n",
      "ZT_CLUBB\n",
      "DSTFREZCNT\n",
      "LINOZ_O3CLIM\n",
      "BCFREZIMM\n",
      "DSTFREZIMM\n",
      "LINOZ_O3COL\n",
      "LINOZ_DO3\n",
      "Z3.range -7.5360394 64933.23\n",
      "Txav=*** Description of Slab variable_8 ***\n",
      "id: variable_8\n",
      "shape: (72, 192)\n",
      "filename: \n",
      "missing_value: 1e+20\n",
      "comments: \n",
      "grid_name: N/A\n",
      "grid_type: N/A\n",
      "time_statistic: \n",
      "long_name: Temperature\n",
      "units: K\n",
      "tileIndex: None\n",
      "mdims: [9]\n",
      "cell_methods: time: mean\n",
      "No grid present.\n",
      "** Dimension 1 **\n",
      "   id: lev\n",
      "   Designated a level axis.\n",
      "   units:  hPa\n",
      "   Length: 72\n",
      "   First:  0.12382541305561677\n",
      "   Last:   998.4964394917621\n",
      "   Other axis attributes:\n",
      "      realtopology: linear\n",
      "      positive: down\n",
      "      formula_terms: a: hyam b: hybm p0: P0 ps: PS\n",
      "      long_name: hybrid level at midpoints (1000*(A+B))\n",
      "      standard_name: atmosphere_hybrid_sigma_pressure_coordinate\n",
      "      axis: Z\n",
      "   Python id:  0x11258b150\n",
      "** Dimension 2 **\n",
      "   id: lat\n",
      "   Designated a latitude axis.\n",
      "   units:  degrees_north\n",
      "   Length: 192\n",
      "   First:  -89.7643979057592\n",
      "   Last:   89.7643979057592\n",
      "   Other axis attributes:\n",
      "      realtopology: linear\n",
      "      long_name: latitude\n",
      "      standard_name: latitude\n",
      "      axis: Y\n",
      "   Python id:  0x11985ec50\n",
      "*** End of description for variable_8 ***\n",
      " None\n"
     ]
    },
    {
     "name": "stderr",
     "output_type": "stream",
     "text": [
      "/Users/d3x345/miniconda2/lib/python2.7/site-packages/numpy/ma/core.py:3174: FutureWarning: Using a non-tuple sequence for multidimensional indexing is deprecated; use `arr[tuple(seq)]` instead of `arr[seq]`. In the future this will be interpreted as an array index, `arr[np.array(seq)]`, which will result either in an error or a different result.\n",
      "  dout = self.data[indx]\n"
     ]
    }
   ],
   "source": [
    "fname = \"/Users/d3x345/Desktop/NetCDF_files/vd05_ANN_climo.nc\"\n",
    "g2 = cdms2.open(fname);\n",
    "varlist = g2.listvariables();\n",
    "dims = g2.listdimension();\n",
    "print dims;\n",
    "print \"\\n\".join(s for s in varlist if 'Z' in s) # find vars that contain 'Z'\n",
    "#print varlist;\n",
    "\n",
    "T =  g2('T',squeeze=1)            # extract fields, remove dimensions length one\n",
    "\n",
    "\n",
    "lat2 = g2['lat']\n",
    "lon2 = g2['lon']\n",
    "lev2 = g2['lev']\n",
    "#print \"T.info()\", T.info()\n",
    "\n",
    "Z3 = g2('Z3',squeeze=1)\n",
    "#print \"Z3.info\",Z3.info()\n",
    "print \"Z3.range\",Z3.min(),Z3.max()\n",
    "\n",
    "\n",
    "Txav = cdutil.averager(T,axis=\"x\")\n",
    "print \"Txav=\", Txav.info()\n",
    "\n",
    "U =  g2('U',squeeze=1)            # extract fields, remove dimensions length one\n",
    "Uxav = cdutil.averager(U,axis=\"x\")\n",
    "\n",
    "# print \"LANDFRAC2av=\", cdutil.averager(LANDFRAC2,axis=\"xy\",weights=\"weighted\")\n"
   ]
  },
  {
   "cell_type": "code",
   "execution_count": 6,
   "metadata": {},
   "outputs": [
    {
     "name": "stdout",
     "output_type": "stream",
     "text": [
      "eta [1.23825413e-04 1.82829236e-04 2.69948862e-04 3.98581704e-04\n",
      " 5.88509147e-04 8.68938570e-04 1.28299491e-03 1.89435248e-03\n",
      " 2.79702694e-03 4.12983316e-03 5.96844937e-03 8.37740438e-03\n",
      " 1.14737872e-02 1.53339382e-02 1.99963380e-02 2.54446965e-02\n",
      " 3.15932513e-02 3.83662831e-02 4.56711979e-02 5.33095614e-02\n",
      " 6.10151817e-02 6.84763902e-02 7.53553359e-02 8.19462751e-02\n",
      " 8.89105431e-02 9.64666734e-02 1.04664967e-01 1.13560001e-01\n",
      " 1.23210991e-01 1.33682180e-01 1.45043266e-01 1.57369878e-01\n",
      " 1.70744080e-01 1.85254902e-01 2.00998940e-01 2.18080997e-01\n",
      " 2.36614787e-01 2.56723686e-01 2.78541558e-01 3.02213640e-01\n",
      " 3.27897506e-01 3.55764129e-01 3.85999024e-01 4.18803463e-01\n",
      " 4.54395814e-01 4.92468574e-01 5.31639531e-01 5.70624903e-01\n",
      " 6.08643774e-01 6.45319968e-01 6.80498044e-01 7.13704638e-01\n",
      " 7.44474829e-01 7.72362838e-01 7.96952750e-01 8.17868823e-01\n",
      " 8.35095171e-01 8.49661249e-01 8.63176426e-01 8.76370648e-01\n",
      " 8.89222736e-01 9.01711833e-01 9.13817504e-01 9.25519748e-01\n",
      " 9.36798995e-01 9.47636159e-01 9.58012766e-01 9.67911080e-01\n",
      " 9.77314064e-01 9.86205333e-01 9.93756956e-01 9.98496439e-01]\n",
      "niceeta [  50.  100.  150.  200.  250.  300.  350.  400.  450.  500.  550.  600.\n",
      "  650.  700.  750.  800.  850.  900.  950. 1000.]\n"
     ]
    }
   ],
   "source": [
    "from timeit import default_timer as timer\n",
    "\n",
    "ps = g2('PS',squeeze=1)\n",
    "hyam = g2('hyam',squeeze=1)\n",
    "hybm = g2('hybm',squeeze=1)\n",
    "eta = hyam+hybm\n",
    "print \"eta\", eta\n",
    "niceeta = findNiceContours(eta*1010.0,20,rmClev=0.)\n",
    "print \"niceeta\", niceeta\n"
   ]
  },
  {
   "cell_type": "code",
   "execution_count": 8,
   "metadata": {},
   "outputs": [
    {
     "name": "stdout",
     "output_type": "stream",
     "text": [
      "shapes (25,) (25, 30, 10)\n",
      "testdata shape (25, 30, 10)\n",
      "range -0.2991244930806839 9.32228266672564\n",
      "znew (25, 30, 72) 1.9712685095986935 8.033749087218837\n",
      "x\n",
      "y\n",
      "z\n"
     ]
    },
    {
     "data": {
      "image/png": "[encoded data removed]",
      "text/plain": [
       "<Figure size 432x288 with 1 Axes>"
      ]
     },
     "metadata": {
      "needs_background": "light"
     },
     "output_type": "display_data"
    },
    {
     "name": "stdout",
     "output_type": "stream",
     "text": [
      "x\n",
      "y\n",
      "z\n"
     ]
    },
    {
     "data": {
      "image/png": "[encoded data removed]",
      "text/plain": [
       "<Figure size 432x288 with 1 Axes>"
      ]
     },
     "metadata": {
      "needs_background": "light"
     },
     "output_type": "display_data"
    },
    {
     "name": "stdout",
     "output_type": "stream",
     "text": [
      "x\n",
      "y\n",
      "z\n"
     ]
    },
    {
     "data": {
      "image/png": "[encoded data removed]",
      "text/plain": [
       "<Figure size 432x288 with 1 Axes>"
      ]
     },
     "metadata": {
      "needs_background": "light"
     },
     "output_type": "display_data"
    },
    {
     "name": "stdout",
     "output_type": "stream",
     "text": [
      "x\n",
      "y\n",
      "z\n"
     ]
    },
    {
     "data": {
      "image/png": "[encoded data removed]",
      "text/plain": [
       "<Figure size 432x288 with 1 Axes>"
      ]
     },
     "metadata": {
      "needs_background": "light"
     },
     "output_type": "display_data"
    },
    {
     "name": "stdout",
     "output_type": "stream",
     "text": [
      "x\n",
      "y\n",
      "z\n"
     ]
    },
    {
     "data": {
      "image/png": "[encoded data removed]",
      "text/plain": [
       "<Figure size 432x288 with 1 Axes>"
      ]
     },
     "metadata": {
      "needs_background": "light"
     },
     "output_type": "display_data"
    }
   ],
   "source": [
    "import numpy as np\n",
    "import matplotlib.pyplot as plt\n",
    "from scipy.interpolate import interp1d as scipy1d\n",
    "\n",
    "# toy coordinates and data\n",
    "nx, ny, nz = 25, 30, 10\n",
    "# nx, ny, nz = 288, 192, 25\n",
    "\n",
    "x = np.arange(nx)\n",
    "y = np.arange(ny)\n",
    "z = np.tile(np.arange(nz), (nx,ny,1)) + np.random.randn(nx, ny, nz)*.1\n",
    "testdata = np.random.randn(nx,ny,nz) # x,y,z\n",
    "print \"shapes\", x.shape, z.shape\n",
    "print \"testdata shape\", testdata.shape\n",
    "\n",
    "print \"range\", z.min(), z.max()\n",
    "\n",
    "# Desired z-coordinates (must be between bounds of z)\n",
    "#znew = np.tile(np.linspace(2,nz-2,50), (nx,ny,1)) + np.random.randn(nx, ny, 50)*0.01\n",
    "znew = np.tile(np.linspace(2,nz-2,72), (nx,ny,1)) + np.random.randn(nx, ny, 72)*0.01\n",
    "print \"znew\", znew.shape, znew.min(), znew.max()\n",
    "\n",
    "# Inverse the coordinates for testing\n",
    "z = z[..., ::-1]\n",
    "znew = znew[..., ::-1]\n",
    "\n",
    "# Now use own routine\n",
    "ynew = interp_along_axis(testdata, z, znew, axis=2, inverse=True, method='linear')\n",
    "\n",
    "# Check some random profiles\n",
    "for i in range(5):\n",
    "    randx = np.random.randint(nx)\n",
    "    randy = np.random.randint(ny)\n",
    "#    print \"randx, randy\", randx, randy\n",
    "#    print \"z[randx,randy]\", z[randx, randy]\n",
    "#    print \"znew[randx, randy]\", znew[randx, randy]\n",
    "    print \"x\"\n",
    "    checkfunc = scipy1d(z[randx, randy], testdata[randx,randy], kind='linear')\n",
    "    checkdata = checkfunc(znew)\n",
    "    print \"y\"\n",
    "    fig, ax = plt.subplots()\n",
    "    ax.plot(testdata[randx, randy], z[randx, randy], 'x', label='original data')\n",
    "    ax.plot(checkdata[randx, randy], znew[randx, randy], label='scipy')\n",
    "    ax.plot(ynew[randx, randy], znew[randx, randy], '--', label='Peter')\n",
    "    print \"z\"\n",
    "    ax.legend()\n",
    "    plt.show()"
   ]
  },
  {
   "cell_type": "code",
   "execution_count": 9,
   "metadata": {},
   "outputs": [
    {
     "name": "stdout",
     "output_type": "stream",
     "text": [
      "reconstruction time  0.422409057617\n",
      "P.data (72, 192, 288) <type 'numpy.ndarray'>\n",
      "nz, ny, nx 72 192 288\n",
      "newcol [3.91202301 4.60517019 5.01063529 5.29831737 5.52146092 5.70378247\n",
      " 5.85793315 5.99146455 6.10924758 6.2146081  6.30991828 6.39692966\n",
      " 6.47697236 6.55108034 6.62007321 6.68461173 6.74523635 6.80239476\n",
      " 6.85646198 6.90775528]\n",
      "T info*** Description of Slab T ***\n",
      "id: T\n",
      "shape: (72, 192, 288)\n",
      "filename: \n",
      "missing_value: 1e+20\n",
      "comments: \n",
      "grid_name: <None>\n",
      "grid_type: generic\n",
      "time_statistic: \n",
      "long_name: Temperature\n",
      "units: K\n",
      "tileIndex: None\n",
      "mdims: [9]\n",
      "cell_methods: time: mean\n",
      "Grid has Python id 0x116075050.\n",
      "Gridtype: generic\n",
      "Grid shape: (192, 288)\n",
      "Order: yx\n",
      "** Dimension 1 **\n",
      "   id: lev\n",
      "   Designated a level axis.\n",
      "   units:  hPa\n",
      "   Length: 72\n",
      "   First:  0.12382541305561677\n",
      "   Last:   998.4964394917621\n",
      "   Other axis attributes:\n",
      "      realtopology: linear\n",
      "      positive: down\n",
      "      formula_terms: a: hyam b: hybm p0: P0 ps: PS\n",
      "      long_name: hybrid level at midpoints (1000*(A+B))\n",
      "      standard_name: atmosphere_hybrid_sigma_pressure_coordinate\n",
      "      axis: Z\n",
      "   Python id:  0x116075090\n",
      "** Dimension 2 **\n",
      "   id: lat\n",
      "   Designated a latitude axis.\n",
      "   units:  degrees_north\n",
      "   Length: 192\n",
      "   First:  -89.7643979057592\n",
      "   Last:   89.7643979057592\n",
      "   Other axis attributes:\n",
      "      realtopology: linear\n",
      "      long_name: latitude\n",
      "      standard_name: latitude\n",
      "      axis: Y\n",
      "   Python id:  0x11258b710\n",
      "** Dimension 3 **\n",
      "   id: lon\n",
      "   Designated a longitude axis.\n",
      "   units:  degrees_east\n",
      "   Length: 288\n",
      "   First:  0.0\n",
      "   Last:   358.75\n",
      "   Other axis attributes:\n",
      "      modulo: 360.0\n",
      "      realtopology: circular\n",
      "      long_name: longitude\n",
      "      standard_name: longitude\n",
      "      axis: X\n",
      "      topology: circular\n",
      "   Python id:  0x11258b110\n",
      "*** End of description for T ***\n",
      " None\n"
     ]
    },
    {
     "name": "stderr",
     "output_type": "stream",
     "text": [
      "/Users/d3x345/Python/pjr.py:77: UserWarning: Some values are outside the interpolation range. These will be filled with NaN\n",
      "  warnings.warn(\"Some values are outside the interpolation range. \"\n"
     ]
    },
    {
     "name": "stdout",
     "output_type": "stream",
     "text": [
      "TP0 info*** Description of Slab T ***\n",
      "id: T\n",
      "shape: (20, 192, 288)\n",
      "filename: \n",
      "missing_value: 1e+20\n",
      "comments: \n",
      "grid_name: <None>\n",
      "grid_type: generic\n",
      "time_statistic: \n",
      "long_name: Temperature\n",
      "units: K\n",
      "tileIndex: None\n",
      "mdims: [9]\n",
      "cell_methods: time: mean\n",
      "Grid has Python id 0x11d26ec50.\n",
      "Gridtype: generic\n",
      "Grid shape: (192, 288)\n",
      "Order: yx\n",
      "** Dimension 1 **\n",
      "   id: plev\n",
      "   Designated a level axis.\n",
      "   Length: 20\n",
      "   First:  50.0\n",
      "   Last:   1000.0\n",
      "   Python id:  0x11d21cd90\n",
      "** Dimension 2 **\n",
      "   id: lat\n",
      "   Designated a latitude axis.\n",
      "   units:  degrees_north\n",
      "   Length: 192\n",
      "   First:  -89.7643979057592\n",
      "   Last:   89.7643979057592\n",
      "   Other axis attributes:\n",
      "      realtopology: linear\n",
      "      long_name: latitude\n",
      "      standard_name: latitude\n",
      "      axis: Y\n",
      "   Python id:  0x11d229c90\n",
      "** Dimension 3 **\n",
      "   id: lon\n",
      "   Designated a longitude axis.\n",
      "   units:  degrees_east\n",
      "   Length: 288\n",
      "   First:  0.0\n",
      "   Last:   358.75\n",
      "   Other axis attributes:\n",
      "      modulo: 360.0\n",
      "      realtopology: circular\n",
      "      long_name: longitude\n",
      "      standard_name: longitude\n",
      "      axis: X\n",
      "      topology: circular\n",
      "   Python id:  0x11d2299d0\n",
      "*** End of description for T ***\n",
      " None\n",
      "missing val 1e+20\n",
      "yy False\n",
      "recon+interpolation time  0.73855805397\n"
     ]
    }
   ],
   "source": [
    "from timeit import default_timer as timer\n",
    "start = timer()\n",
    "P = cdutil.reconstructPressureFromHybrid (ps,hyam,hybm,1.e5)\n",
    "P = P/100.\n",
    "P.units = \"hPa\"\n",
    "end = timer()\n",
    "print \"reconstruction time \",(end - start) # Time in seconds, e.g. 5.38091952400282print ps.units, ps.max()\n",
    "\n",
    "print \"P.data\", P.data.shape, type(P.data)\n",
    "#print \"col\", P.data[:,0,0]\n",
    "nz, ny, nx = P.data.shape\n",
    "print \"nz, ny, nx\", nz, ny, nx\n",
    "nznew = 50\n",
    "pcol = np.linspace(100.,1000.,nznew)\n",
    "nznew = niceeta.shape[0]\n",
    "pcol = niceeta\n",
    "#print \"pcol\", pcol.shape, pcol\n",
    "pnew = np.repeat(pcol,nx*ny).reshape((nznew,ny,nx)); pold = P.data\n",
    "pnew = np.log(pnew); pold = np.log(P.data)\n",
    "#print \"pnew\",pnew.shape\n",
    "print \"newcol\", pnew[:,0,0]\n",
    "ynew = interp_along_axis(T.data, pold, pnew, axis=0, inverse=False, method='linear')\n",
    "#print \"ynew\", ynew.shape\n",
    "#print \"ynew00\", ynew[:,0,0]\n",
    "nlevs = cdms2.createAxis(niceeta,id=\"plev\")\n",
    "print \"T info\", T.info()\n",
    "TP0 = T.pressureRegrid(nlevs)\n",
    "print \"TP0 info\", TP0.info()\n",
    "print \"missing val\", TP0.missing_value\n",
    "llist = (TP0 > 0.9*TP0.missing_value) \n",
    "TP0.data[:] = ynew\n",
    "TP0.mask = np.isnan(ynew) | llist\n",
    "print \"yy\", TP0.mask[15,74,9]\n",
    "#print \"T\", T.info()\n",
    "#print \"P\", P.info()\n",
    "#print \"niceeta\", niceeta.info()\n",
    "\n",
    "end = timer()\n",
    "print \"recon+interpolation time \",(end - start) # Time in seconds, e.g. 5.38091952400282print ps.units, ps.max()\n"
   ]
  },
  {
   "cell_type": "code",
   "execution_count": 10,
   "metadata": {},
   "outputs": [
    {
     "name": "stderr",
     "output_type": "stream",
     "text": [
      "/Users/d3x345/miniconda2/lib/python2.7/site-packages/numpy/ma/core.py:3206: FutureWarning: Using a non-tuple sequence for multidimensional indexing is deprecated; use `arr[tuple(seq)]` instead of `arr[seq]`. In the future this will be interpreted as an array index, `arr[np.array(seq)]`, which will result either in an error or a different result.\n",
      "  mout = _mask[indx]\n"
     ]
    },
    {
     "data": {
      "image/png": "[encoded data removed]",
      "text/plain": [
       "<Figure size 432x288 with 3 Axes>"
      ]
     },
     "metadata": {
      "needs_background": "light"
     },
     "output_type": "display_data"
    }
   ],
   "source": [
    "\n",
    "#print \"list\", list\n",
    "TP0xav = cdutil.averager(TP0,axis=\"x\")\n",
    "levsp = TP0xav.getAxis(0)\n",
    "plotZMf(TP0xav, lat2, levsp)"
   ]
  },
  {
   "cell_type": "code",
   "execution_count": null,
   "metadata": {},
   "outputs": [],
   "source": []
  },
  {
   "cell_type": "code",
   "execution_count": 11,
   "metadata": {
    "scrolled": true
   },
   "outputs": [
    {
     "name": "stdout",
     "output_type": "stream",
     "text": [
      "T info*** Description of Slab T ***\n",
      "id: T\n",
      "shape: (20, 192, 288)\n",
      "filename: \n",
      "missing_value: 1e+20\n",
      "comments: \n",
      "grid_name: <None>\n",
      "grid_type: generic\n",
      "time_statistic: \n",
      "long_name: Temperature\n",
      "units: K\n",
      "tileIndex: None\n",
      "mdims: [9]\n",
      "cell_methods: time: mean\n",
      "Grid has Python id 0x102ec21d0.\n",
      "Gridtype: generic\n",
      "Grid shape: (192, 288)\n",
      "Order: yx\n",
      "** Dimension 1 **\n",
      "   id: plev\n",
      "   Designated a level axis.\n",
      "   Length: 20\n",
      "   First:  50.0\n",
      "   Last:   1000.0\n",
      "   Python id:  0x102ec25d0\n",
      "** Dimension 2 **\n",
      "   id: lat\n",
      "   Designated a latitude axis.\n",
      "   units:  degrees_north\n",
      "   Length: 192\n",
      "   First:  -89.7643979057592\n",
      "   Last:   89.7643979057592\n",
      "   Other axis attributes:\n",
      "      realtopology: linear\n",
      "      long_name: latitude\n",
      "      standard_name: latitude\n",
      "      axis: Y\n",
      "   Python id:  0x102ec2550\n",
      "** Dimension 3 **\n",
      "   id: lon\n",
      "   Designated a longitude axis.\n",
      "   units:  degrees_east\n",
      "   Length: 288\n",
      "   First:  0.0\n",
      "   Last:   358.75\n",
      "   Other axis attributes:\n",
      "      modulo: 360.0\n",
      "      realtopology: circular\n",
      "      long_name: longitude\n",
      "      standard_name: longitude\n",
      "      axis: X\n",
      "      topology: circular\n",
      "   Python id:  0x102ec22d0\n",
      "*** End of description for T ***\n",
      " None\n",
      "TPmean (20, 2, 2)*** Description of Slab T ***\n",
      "id: T\n",
      "shape: (20, 2, 2)\n",
      "filename: \n",
      "missing_value: 1e+20\n",
      "comments: \n",
      "grid_name: <None>\n",
      "grid_type: generic\n",
      "time_statistic: \n",
      "long_name: Temperature\n",
      "units: K\n",
      "tileIndex: None\n",
      "mdims: [9]\n",
      "cell_methods: time: mean\n",
      "Grid has Python id 0x102ec2310.\n",
      "Gridtype: generic\n",
      "Grid shape: (2, 2)\n",
      "Order: yx\n",
      "** Dimension 1 **\n",
      "   id: plev\n",
      "   Designated a level axis.\n",
      "   units:  hPa\n",
      "   Length: 20\n",
      "   First:  50.0\n",
      "   Last:   1000.0\n",
      "   Other axis attributes:\n",
      "      axis: Z\n",
      "      realtopology: linear\n",
      "   Python id:  0x11d574590\n",
      "** Dimension 2 **\n",
      "   id: lat\n",
      "   Designated a latitude axis.\n",
      "   units:  degrees_north\n",
      "   Length: 2\n",
      "   First:  -89.7643979057592\n",
      "   Last:   -89.05759162303677\n",
      "   Other axis attributes:\n",
      "      realtopology: linear\n",
      "      long_name: latitude\n",
      "      standard_name: latitude\n",
      "      axis: Y\n",
      "   Python id:  0x11d574450\n",
      "** Dimension 3 **\n",
      "   id: lon\n",
      "   Designated a longitude axis.\n",
      "   units:  degrees_east\n",
      "   Length: 2\n",
      "   First:  0.0\n",
      "   Last:   1.25\n",
      "   Other axis attributes:\n",
      "      modulo: 360.0\n",
      "      realtopology: circular\n",
      "      long_name: longitude\n",
      "      standard_name: longitude\n",
      "      axis: X\n",
      "      topology: circular\n",
      "   Python id:  0x11d5743d0\n",
      "*** End of description for T ***\n",
      " None\n"
     ]
    }
   ],
   "source": [
    "nlevs = cdms2.createAxis(niceeta,id=\"plev\")\n",
    "TPT = T.pressureRegrid(nlevs)\n",
    "print \"T info\", TPT.info()\n",
    "\n",
    "#print \"T shape\", T.shape, T[:,0:2,0:2].shape\n",
    "#print \"P shape\", P.shape, P[:,0:2,0:2].shape\n",
    "TPmean = cdutil.vertical.logLinearInterpolation(T[:,0:2,0:2],P[:,0:2,0:2],levels=niceeta)\n",
    "print \"TPmean\", TPmean.shape, TPmean.info()\n"
   ]
  },
  {
   "cell_type": "code",
   "execution_count": 15,
   "metadata": {
    "scrolled": false
   },
   "outputs": [
    {
     "name": "stdout",
     "output_type": "stream",
     "text": [
      "pc [  50.  100.  150.  200.  250.  300.  350.  400.  450.  500.  550.  600.\n",
      "  650.  700.  750.  800.  850.  900.  950. 1000.]\n",
      "pw [   0.   75.  125.  175.  225.  275.  325.  375.  425.  475.  525.  575.\n",
      "  625.  675.  725.  775.  825.  875.  925.  975. 1012.]\n",
      "pc2 [ 37.5 100.  150.  200.  250.  300.  350.  400.  450.  500.  550.  600.\n",
      " 650.  700.  750.  800.  850.  900.  950.  993.5]\n",
      "dp [50. 50. 50. 50. 50. 50. 50. 50. 50. 50. 50. 50. 50. 50. 50. 50. 50. 50.\n",
      " 50. 37.]\n",
      "axis [-89.76439791 -89.05759162 -88.11518325 -87.17277487 -86.23036649\n",
      " -85.28795812 -84.34554974 -83.40314136 -82.46073298 -81.51832461\n",
      " -80.57591623 -79.63350785 -78.69109948 -77.7486911  -76.80628272\n",
      " -75.86387435 -74.92146597 -73.97905759 -73.03664921 -72.09424084\n",
      " -71.15183246 -70.20942408 -69.26701571 -68.32460733 -67.38219895\n",
      " -66.43979058 -65.4973822  -64.55497382 -63.61256545 -62.67015707\n",
      " -61.72774869 -60.78534031 -59.84293194 -58.90052356 -57.95811518\n",
      " -57.01570681 -56.07329843 -55.13089005 -54.18848168 -53.2460733\n",
      " -52.30366492 -51.36125654 -50.41884817 -49.47643979 -48.53403141\n",
      " -47.59162304 -46.64921466 -45.70680628 -44.76439791 -43.82198953\n",
      " -42.87958115 -41.93717277 -40.9947644  -40.05235602 -39.10994764\n",
      " -38.16753927 -37.22513089 -36.28272251 -35.34031414 -34.39790576\n",
      " -33.45549738 -32.51308901 -31.57068063 -30.62827225 -29.68586387\n",
      " -28.7434555  -27.80104712 -26.85863874 -25.91623037 -24.97382199\n",
      " -24.03141361 -23.08900524 -22.14659686 -21.20418848 -20.2617801\n",
      " -19.31937173 -18.37696335 -17.43455497 -16.4921466  -15.54973822\n",
      " -14.60732984 -13.66492147 -12.72251309 -11.78010471 -10.83769634\n",
      "  -9.89528796  -8.95287958  -8.0104712   -7.06806283  -6.12565445\n",
      "  -5.18324607  -4.2408377   -3.29842932  -2.35602094  -1.41361257\n",
      "  -0.47120419   0.47120419   1.41361257   2.35602094   3.29842932\n",
      "   4.2408377    5.18324607   6.12565445   7.06806283   8.0104712\n",
      "   8.95287958   9.89528796  10.83769634  11.78010471  12.72251309\n",
      "  13.66492147  14.60732984  15.54973822  16.4921466   17.43455497\n",
      "  18.37696335  19.31937173  20.2617801   21.20418848  22.14659686\n",
      "  23.08900524  24.03141361  24.97382199  25.91623037  26.85863874\n",
      "  27.80104712  28.7434555   29.68586387  30.62827225  31.57068063\n",
      "  32.51308901  33.45549738  34.39790576  35.34031414  36.28272251\n",
      "  37.22513089  38.16753927  39.10994764  40.05235602  40.9947644\n",
      "  41.93717277  42.87958115  43.82198953  44.76439791  45.70680628\n",
      "  46.64921466  47.59162304  48.53403141  49.47643979  50.41884817\n",
      "  51.36125654  52.30366492  53.2460733   54.18848168  55.13089005\n",
      "  56.07329843  57.01570681  57.95811518  58.90052356  59.84293194\n",
      "  60.78534031  61.72774869  62.67015707  63.61256545  64.55497382\n",
      "  65.4973822   66.43979058  67.38219895  68.32460733  69.26701571\n",
      "  70.20942408  71.15183246  72.09424084  73.03664921  73.97905759\n",
      "  74.92146597  75.86387435  76.80628272  77.7486911   78.69109948\n",
      "  79.63350785  80.57591623  81.51832461  82.46073298  83.40314136\n",
      "  84.34554974  85.28795812  86.23036649  87.17277487  88.11518325\n",
      "  89.05759162  89.76439791]\n",
      "yw [-90.         -89.52879581 -88.58638743 -87.64397906 -86.70157068\n",
      " -85.7591623  -84.81675393 -83.87434555 -82.93193717 -81.9895288\n",
      " -81.04712042 -80.10471204 -79.16230366 -78.21989529 -77.27748691\n",
      " -76.33507853 -75.39267016 -74.45026178 -73.5078534  -72.56544503\n",
      " -71.62303665 -70.68062827 -69.7382199  -68.79581152 -67.85340314\n",
      " -66.91099476 -65.96858639 -65.02617801 -64.08376963 -63.14136126\n",
      " -62.19895288 -61.2565445  -60.31413613 -59.37172775 -58.42931937\n",
      " -57.48691099 -56.54450262 -55.60209424 -54.65968586 -53.71727749\n",
      " -52.77486911 -51.83246073 -50.89005236 -49.94764398 -49.0052356\n",
      " -48.06282723 -47.12041885 -46.17801047 -45.23560209 -44.29319372\n",
      " -43.35078534 -42.40837696 -41.46596859 -40.52356021 -39.58115183\n",
      " -38.63874346 -37.69633508 -36.7539267  -35.81151832 -34.86910995\n",
      " -33.92670157 -32.98429319 -32.04188482 -31.09947644 -30.15706806\n",
      " -29.21465969 -28.27225131 -27.32984293 -26.38743455 -25.44502618\n",
      " -24.5026178  -23.56020942 -22.61780105 -21.67539267 -20.73298429\n",
      " -19.79057592 -18.84816754 -17.90575916 -16.96335079 -16.02094241\n",
      " -15.07853403 -14.13612565 -13.19371728 -12.2513089  -11.30890052\n",
      " -10.36649215  -9.42408377  -8.48167539  -7.53926702  -6.59685864\n",
      "  -5.65445026  -4.71204188  -3.76963351  -2.82722513  -1.88481675\n",
      "  -0.94240838   0.           0.94240838   1.88481675   2.82722513\n",
      "   3.76963351   4.71204188   5.65445026   6.59685864   7.53926702\n",
      "   8.48167539   9.42408377  10.36649215  11.30890052  12.2513089\n",
      "  13.19371728  14.13612565  15.07853403  16.02094241  16.96335079\n",
      "  17.90575916  18.84816754  19.79057592  20.73298429  21.67539267\n",
      "  22.61780105  23.56020942  24.5026178   25.44502618  26.38743455\n",
      "  27.32984293  28.27225131  29.21465969  30.15706806  31.09947644\n",
      "  32.04188482  32.98429319  33.92670157  34.86910995  35.81151832\n",
      "  36.7539267   37.69633508  38.63874346  39.58115183  40.52356021\n",
      "  41.46596859  42.40837696  43.35078534  44.29319372  45.23560209\n",
      "  46.17801047  47.12041885  48.06282723  49.0052356   49.94764398\n",
      "  50.89005236  51.83246073  52.77486911  53.71727749  54.65968586\n",
      "  55.60209424  56.54450262  57.48691099  58.42931937  59.37172775\n",
      "  60.31413613  61.2565445   62.19895288  63.14136126  64.08376963\n",
      "  65.02617801  65.96858639  66.91099476  67.85340314  68.79581152\n",
      "  69.7382199   70.68062827  71.62303665  72.56544503  73.5078534\n",
      "  74.45026178  75.39267016  76.33507853  77.27748691  78.21989529\n",
      "  79.16230366  80.10471204  81.04712042  81.9895288   82.93193717\n",
      "  83.87434555  84.81675393  85.7591623   86.70157068  87.64397906\n",
      "  88.58638743  89.52879581  90.        ]\n",
      "sum wts 2.0\n",
      "y2 [-89.76439791 -89.05759162 -88.11518325 -87.17277487 -86.23036649\n",
      " -85.28795812 -84.34554974 -83.40314136 -82.46073298 -81.51832461\n",
      " -80.57591623 -79.63350785 -78.69109948 -77.7486911  -76.80628272\n",
      " -75.86387435 -74.92146597 -73.97905759 -73.03664921 -72.09424084\n",
      " -71.15183246 -70.20942408 -69.26701571 -68.32460733 -67.38219895\n",
      " -66.43979058 -65.4973822  -64.55497382 -63.61256545 -62.67015707\n",
      " -61.72774869 -60.78534031 -59.84293194 -58.90052356 -57.95811518\n",
      " -57.01570681 -56.07329843 -55.13089005 -54.18848168 -53.2460733\n",
      " -52.30366492 -51.36125654 -50.41884817 -49.47643979 -48.53403141\n",
      " -47.59162304 -46.64921466 -45.70680628 -44.76439791 -43.82198953\n",
      " -42.87958115 -41.93717277 -40.9947644  -40.05235602 -39.10994764\n",
      " -38.16753927 -37.22513089 -36.28272251 -35.34031414 -34.39790576\n",
      " -33.45549738 -32.51308901 -31.57068063 -30.62827225 -29.68586387\n",
      " -28.7434555  -27.80104712 -26.85863874 -25.91623037 -24.97382199\n",
      " -24.03141361 -23.08900524 -22.14659686 -21.20418848 -20.2617801\n",
      " -19.31937173 -18.37696335 -17.43455497 -16.4921466  -15.54973822\n",
      " -14.60732984 -13.66492147 -12.72251309 -11.78010471 -10.83769634\n",
      "  -9.89528796  -8.95287958  -8.0104712   -7.06806283  -6.12565445\n",
      "  -5.18324607  -4.2408377   -3.29842932  -2.35602094  -1.41361257\n",
      "  -0.47120419   0.47120419   1.41361257   2.35602094   3.29842932\n",
      "   4.2408377    5.18324607   6.12565445   7.06806283   8.0104712\n",
      "   8.95287958   9.89528796  10.83769634  11.78010471  12.72251309\n",
      "  13.66492147  14.60732984  15.54973822  16.4921466   17.43455497\n",
      "  18.37696335  19.31937173  20.2617801   21.20418848  22.14659686\n",
      "  23.08900524  24.03141361  24.97382199  25.91623037  26.85863874\n",
      "  27.80104712  28.7434555   29.68586387  30.62827225  31.57068063\n",
      "  32.51308901  33.45549738  34.39790576  35.34031414  36.28272251\n",
      "  37.22513089  38.16753927  39.10994764  40.05235602  40.9947644\n",
      "  41.93717277  42.87958115  43.82198953  44.76439791  45.70680628\n",
      "  46.64921466  47.59162304  48.53403141  49.47643979  50.41884817\n",
      "  51.36125654  52.30366492  53.2460733   54.18848168  55.13089005\n",
      "  56.07329843  57.01570681  57.95811518  58.90052356  59.84293194\n",
      "  60.78534031  61.72774869  62.67015707  63.61256545  64.55497382\n",
      "  65.4973822   66.43979058  67.38219895  68.32460733  69.26701571\n",
      "  70.20942408  71.15183246  72.09424084  73.03664921  73.97905759\n",
      "  74.92146597  75.86387435  76.80628272  77.7486911   78.69109948\n",
      "  79.63350785  80.57591623  81.51832461  82.46073298  83.40314136\n",
      "  84.34554974  85.28795812  86.23036649  87.17277487  88.11518325\n",
      "  89.05759162  89.76439791]\n",
      "num 3840\n",
      "ws 1974.0\n",
      "weights  (20, 192) 1.0 [[8.56571129e-07 6.85222143e-06 1.37025891e-05 ... 1.37025891e-05\n",
      "  6.85222143e-06 8.56571129e-07]\n",
      " [8.56571129e-07 6.85222143e-06 1.37025891e-05 ... 1.37025891e-05\n",
      "  6.85222143e-06 8.56571129e-07]\n",
      " [8.56571129e-07 6.85222143e-06 1.37025891e-05 ... 1.37025891e-05\n",
      "  6.85222143e-06 8.56571129e-07]\n",
      " ...\n",
      " [8.56571129e-07 6.85222143e-06 1.37025891e-05 ... 1.37025891e-05\n",
      "  6.85222143e-06 8.56571129e-07]\n",
      " [8.56571129e-07 6.85222143e-06 1.37025891e-05 ... 1.37025891e-05\n",
      "  6.85222143e-06 8.56571129e-07]\n",
      " [6.33862635e-07 5.07064386e-06 1.01399159e-05 ... 1.01399159e-05\n",
      "  5.07064386e-06 6.33862635e-07]]\n"
     ]
    }
   ],
   "source": [
    "\n",
    "levsp = TP0xav.getAxis(0)\n",
    "# a rough algorithm for pressure weights\n",
    "pc = levsp.getData() # layer midpoint pressures\n",
    "print \"pc\", pc\n",
    "pw = (pc[0:-1]+pc[1:])/2.; # assume interfaces halfway between layers\n",
    "pbot = 1012.\n",
    "ptop = 0.\n",
    "pw = np.insert(pw,0,ptop)\n",
    "pw = np.append(pw,pbot)\n",
    "print \"pw\", pw\n",
    "pc2 = (pw[0:-1]+pw[1:])/2.\n",
    "print \"pc2\", pc2\n",
    "dp = (pw[1:]-pw[0:-1])\n",
    "dp[0] = dp[1]\n",
    "print \"dp\", dp\n",
    "\n",
    "#T.info()\n",
    "ax = T.getAxis(1)\n",
    "y1 = ax.getData()\n",
    "print \"axis\", y1\n",
    "# reconstruct grid from a general description\n",
    "# if there are J cell centers and no center at the equator, \n",
    "# assume the distance between the J-2 cell centers not nearest the pole are\n",
    "# separated by a distance pi/(J-1), and there are J-1 walls surrounding \n",
    "# those cells located the \n",
    "# the same distance apart. That means the distance from the southern most \n",
    "# wall to the northern most are pi*(J-1)/(J-2) apart.\n",
    "# center that row of cells about the equator and define a \n",
    "# cell poleward of those two walls with one wall at the pole, and the center in between\n",
    "# so those cells walls are located pi/(2(J-2)) apart, and the cell center\n",
    "# is pi/(4*(J-2)) from the pole\n",
    "# lets make it concrete. If J is 4, then \n",
    "# the 2 cells away from the poles are located pi/3 apart\n",
    "# those cells occupy a length of 2*pi/3\n",
    "# the southern most cell wall (not at the pole) should be located at -pi/6\n",
    "# the northern most cell wall (not at the pole) will be at 5*pi/6\n",
    "# the southern most cell center will be halfway between, \n",
    "# i.e. 5*pi/12 away from the pole\n",
    "j = 192# 4\n",
    "pi = np.pi\n",
    "dy = 180./(j-1)\n",
    "y = np.arange(j-2)*dy # relative location of interior cell centers\n",
    "yw = np.arange(j-1)*dy # relative location of cell walls\n",
    "ys = dy/4. # rel loc southern cell near pole\n",
    "yn = 180.-dy/4. # rel loc northern cell near pole\n",
    "yws = 0.\n",
    "yw = yw + dy/2.\n",
    "ywn = yw[-1]+dy/2.\n",
    "y = np.insert(y+dy,0,ys)\n",
    "y = np.append(y,yn)-90.\n",
    "yw = np.insert(yw,0,yws) # insert cell walls\n",
    "yw = np.append(yw,ywn)-90.\n",
    "# print \"y\", y\n",
    "print \"yw\", yw\n",
    "y2 = (yw[0:-1]+yw[1:])/2.; # cell centers between walls\n",
    "syw = np.sin(yw*pi/180.)\n",
    "wts = (syw[1:]-syw[0:-1])\n",
    "print \"sum wts\", wts.sum()\n",
    "print \"y2\", y2\n",
    "#print \"yws,ywn\", yws, ywn\n",
    "#print \"dy is \", dy, y1[1]-y1[0], y1[2]-y1[1]\n",
    "#print \"alternate \", y1[1:-1]-y1[0:-2]\n",
    "\n",
    "#y\n",
    "weights = np.outer(dp, wts)\n",
    "num = np.size(weights)\n",
    "print \"num\", num\n",
    "ws = weights.reshape(num).sum()\n",
    "print \"ws\", ws\n",
    "weights = weights/ws\n",
    "print \"weights \", weights.shape, weights.reshape(num).sum(), weights\n",
    "\n",
    "  \n",
    "#levsp = TP2xav.getAxis(0)\n",
    "#plotZMf(weights, lat2, levsp)"
   ]
  },
  {
   "cell_type": "code",
   "execution_count": 13,
   "metadata": {},
   "outputs": [
    {
     "ename": "NameError",
     "evalue": "name 'TP2' is not defined",
     "output_type": "error",
     "traceback": [
      "\u001b[0;31m---------------------------------------------------------------------------\u001b[0m",
      "\u001b[0;31mNameError\u001b[0m                                 Traceback (most recent call last)",
      "\u001b[0;32m<ipython-input-13-1a6071a64522>\u001b[0m in \u001b[0;36m<module>\u001b[0;34m()\u001b[0m\n\u001b[1;32m      9\u001b[0m \u001b[0;34m\u001b[0m\u001b[0m\n\u001b[1;32m     10\u001b[0m \u001b[0;34m\u001b[0m\u001b[0m\n\u001b[0;32m---> 11\u001b[0;31m \u001b[0mTP2xav\u001b[0m \u001b[0;34m=\u001b[0m \u001b[0mcdutil\u001b[0m\u001b[0;34m.\u001b[0m\u001b[0maverager\u001b[0m\u001b[0;34m(\u001b[0m\u001b[0mTP2\u001b[0m\u001b[0;34m,\u001b[0m\u001b[0maxis\u001b[0m\u001b[0;34m=\u001b[0m\u001b[0;34m\"x\"\u001b[0m\u001b[0;34m)\u001b[0m\u001b[0;34m\u001b[0m\u001b[0m\n\u001b[0m\u001b[1;32m     12\u001b[0m \u001b[0;31m#print \"TP2xav info\", TP2xav.info()\u001b[0m\u001b[0;34m\u001b[0m\u001b[0;34m\u001b[0m\u001b[0m\n\u001b[1;32m     13\u001b[0m \u001b[0;34m\u001b[0m\u001b[0m\n",
      "\u001b[0;31mNameError\u001b[0m: name 'TP2' is not defined"
     ]
    }
   ],
   "source": [
    "#TP2 = cdutil.logLinearInterpolation(T,P,levels=niceeta)\n",
    "#print \"TP2.data00\", TP2.data[:,0,0]\n",
    "#print TP2.info()\n",
    "#grid = TP2.getGrid()\n",
    "#print \"grid\", grid\n",
    "#ywts, xwts = grid.getWeights()\n",
    "#print \"xwts\", xwts.shape, xwts\n",
    "#print \"ywts\", ywts.shape, ywts\n",
    "\n",
    "\n",
    "TP2xav = cdutil.averager(TP2,axis=\"x\")\n",
    "#print \"TP2xav info\", TP2xav.info()\n",
    "\n",
    "  \n",
    "levsp = TP2xav.getAxis(0)\n",
    "plotZMf(TP2xav, lat2, levsp)"
   ]
  },
  {
   "cell_type": "code",
   "execution_count": 153,
   "metadata": {},
   "outputs": [
    {
     "name": "stdout",
     "output_type": "stream",
     "text": [
      "range of Dxav 0.0 0.0\n"
     ]
    },
    {
     "data": {
      "image/png": "[encoded data removed]",
      "text/plain": [
       "<Figure size 432x288 with 3 Axes>"
      ]
     },
     "metadata": {
      "needs_background": "light"
     },
     "output_type": "display_data"
    }
   ],
   "source": [
    "DPxav = TP0xav-TP2xav\n",
    "print \"range of Dxav\", DPxav.min(), DPxav.max()\n",
    "plotOpt={'title':'Temperature','colorbar':'right','units':'(K)','ybot':1000.,'ytop':50.}\n",
    "# plotOpt={'title':'Temperature','clevs':np.arange(170.,270.,10.)}\n",
    "#print \"plotOpt\",plotOpt\n",
    "plotZMf(DPxav, lat2, levsp, plotOpt=plotOpt)"
   ]
  },
  {
   "cell_type": "code",
   "execution_count": 60,
   "metadata": {},
   "outputs": [
    {
     "name": "stdout",
     "output_type": "stream",
     "text": [
      "cor () 1.0000000000000002\n",
      "cor () 1.0\n"
     ]
    }
   ],
   "source": [
    "from genutil import statistics\n",
    "\n",
    "#print \"Txav info\", Txav.info()\n",
    "Tx2 = Txav *0.5\n",
    "cor02 = statistics.correlation(Txav, Tx2, axis='01')\n",
    "print \"cor\", cor02.shape, cor02\n",
    "\n",
    "cor02 = statistics.correlation(TP0xav, TP2xav, axis='01')\n",
    "print \"cor\", cor02.shape, cor02\n"
   ]
  },
  {
   "cell_type": "markdown",
   "metadata": {},
   "source": [
    "text goes here\n",
    "$$\n",
    "a = \\sqrt b^c\n",
    "$$"
   ]
  },
  {
   "cell_type": "code",
   "execution_count": 20,
   "metadata": {},
   "outputs": [
    {
     "data": {
      "image/png": "[encoded data removed]",
      "text/plain": [
       "<Figure size 432x288 with 3 Axes>"
      ]
     },
     "metadata": {
      "needs_background": "light"
     },
     "output_type": "display_data"
    }
   ],
   "source": [
    "fig = plt.figure()\n",
    "plt.tight_layout(pad=0.05, w_pad=0.0, h_pad=0.1)\n",
    "axest = fig.add_subplot(111)\n",
    "#plotZMf(Txav, lat2, lev2, fig=fig, axesa=axest) # works\n",
    "#plotZMf(Txav, lat2, lev2, fig=fig) #works\n",
    "plotZMf(Txav, lat2, lev2, plotOpt={\"rmClev\":240.,'colorbar':'bot'}) #works"
   ]
  },
  {
   "cell_type": "code",
   "execution_count": 21,
   "metadata": {
    "scrolled": false
   },
   "outputs": [
    {
     "name": "stdout",
     "output_type": "stream",
     "text": [
      "range of Dxav -18.96409303612168 103.33246296875734\n"
     ]
    },
    {
     "data": {
      "image/png": "[encoded data removed]",
      "text/plain": [
       "<Figure size 360x720 with 9 Axes>"
      ]
     },
     "metadata": {},
     "output_type": "display_data"
    }
   ],
   "source": [
    "\n",
    "fig = plt.figure(figsize=(5., 10.), facecolor='white')\n",
    "axest = fig.add_subplot(311)\n",
    "axesm = fig.add_subplot(312)\n",
    "axesb = fig.add_subplot(313)\n",
    "#plotOpt = {'levels':np.arange(170.,330.,10.),'units':'K','title':'Temperature'} #,\n",
    "#         'ybot':800.,'ytop':500.}\n",
    "#plotOpt = {}\n",
    "axesa = axest\n",
    "Dxav = Txav-Uxav-200\n",
    "print \"range of Dxav\", Dxav.min(), Dxav.max()\n",
    "plotOpt={'title':'Temperature','colorbar':'right','units':'(K)','ybot':1000.,'ytop':50.}\n",
    "# plotOpt={'title':'Temperature','clevs':np.arange(170.,270.,10.)}\n",
    "#print \"plotOpt\",plotOpt\n",
    "plotZMf(Txav, lat2, lev2, plotOpt=plotOpt, axesa=axest)\n",
    "#plotZMf(Dxav, lat2, lev2, fig=fig) # works\n",
    "#plotZMf(Dxav, lat2, lev2, axesa=axesm) # works\n",
    "#plotZMf(Txav, lat2, lev2, axesa=axest, plotOpt={'title':'Temperature'},fig=fig)\n",
    "plotZMf(Uxav, lat2, lev2, plotOpt={'colorbar':'rightnd','Units':'K'}, axesa=axesm,fig=fig)\n",
    "cmap = diverge_map()\n",
    "plotZMf(Dxav, lat2, lev2, axesa=axesb,fig=fig,plotOpt={'cmap':cmap,'colorbar':'right'})\n",
    "plt.tight_layout(pad=0, w_pad=0.0, h_pad=1.0)\n",
    "\n",
    "# show plot\n",
    "# plt.show()\n",
    "plt.savefig(\"test.pdf\",type=\"pdf\")"
   ]
  },
  {
   "cell_type": "code",
   "execution_count": null,
   "metadata": {},
   "outputs": [],
   "source": [
    "1./0. # disable cell\n",
    "\n",
    "import numpy as np\n",
    "import warnings\n",
    "\n",
    "# original code from \n",
    "# https://stackoverflow.com/questions/28934767/best-way-to-interpolate-a-numpy-ndarray-along-an-axis\n",
    "def interp_along_axis(y, x, newx, axis, inverse=False, method='linear'):\n",
    "    \"\"\" Interpolate vertical profiles, e.g. of atmospheric variables\n",
    "    using vectorized numpy operations\n",
    "\n",
    "    This function assumes that the x-xoordinate increases monotonically\n",
    "\n",
    "    ps:\n",
    "    * Updated to work with irregularly spaced x-coordinate.\n",
    "    * Updated to work with irregularly spaced newx-coordinate\n",
    "    * Updated to easily inverse the direction of the x-coordinate\n",
    "    * Updated to fill with nans outside extrapolation range\n",
    "    * Updated to include a linear interpolation method as well\n",
    "        (it was initially written for a cubic function)\n",
    "\n",
    "    Peter Kalverla\n",
    "    March 2018\n",
    "\n",
    "    --------------------\n",
    "    More info:\n",
    "    Algorithm from: http://www.paulinternet.nl/?page=bicubic\n",
    "    It approximates y = f(x) = ax^3 + bx^2 + cx + d\n",
    "    where y may be an ndarray input vector\n",
    "    Returns f(newx)\n",
    "\n",
    "    The algorithm uses the derivative f'(x) = 3ax^2 + 2bx + c\n",
    "    and uses the fact that:\n",
    "    f(0) = d\n",
    "    f(1) = a + b + c + d\n",
    "    f'(0) = c\n",
    "    f'(1) = 3a + 2b + c\n",
    "\n",
    "    Rewriting this yields expressions for a, b, c, d:\n",
    "    a = 2f(0) - 2f(1) + f'(0) + f'(1)\n",
    "    b = -3f(0) + 3f(1) - 2f'(0) - f'(1)\n",
    "    c = f'(0)\n",
    "    d = f(0)\n",
    "\n",
    "    These can be evaluated at two neighbouring points in x and\n",
    "    as such constitute the piecewise cubic interpolator.\n",
    "    \"\"\"\n",
    "    # View of x and y with axis as first dimension\n",
    "    if inverse:\n",
    "        _x = np.moveaxis(x, axis, 0)[::-1, ...]\n",
    "        _y = np.moveaxis(y, axis, 0)[::-1, ...]\n",
    "        _newx = np.moveaxis(newx, axis, 0)[::-1, ...]\n",
    "    else:\n",
    "        _y = np.moveaxis(y, axis, 0)\n",
    "        _x = np.moveaxis(x, axis, 0)\n",
    "        _newx = np.moveaxis(newx, axis, 0)\n",
    "    # Sanity checks\n",
    "    if np.any(_newx[0] < _x[0]) or np.any(_newx[-1] > _x[-1]):\n",
    "        # raise ValueError('This function cannot extrapolate')\n",
    "        warnings.warn(\"Some values are outside the interpolation range. \"\n",
    "                      \"These will be filled with NaN\")\n",
    "    if np.any(np.diff(_x, axis=0) < 0):\n",
    "        raise ValueError('x should increase monotonically')\n",
    "    if np.any(np.diff(_newx, axis=0) < 0):\n",
    "        raise ValueError('newx should increase monotonically')\n",
    "    # Cubic interpolation needs the gradient of y in addition to its values\n",
    "    if method == 'cubic':\n",
    "        # For now, simply use a numpy function to get the derivatives\n",
    "        # This produces the largest memory overhead of the function and\n",
    "        # could alternatively be done in passing.\n",
    "        ydx = np.gradient(_y, axis=0, edge_order=2)\n",
    "\n",
    "    # This will later be concatenated with a dynamic '0th' index\n",
    "    ind = [i for i in np.indices(_y.shape[1:])]\n",
    "    # Allocate the output array\n",
    "    original_dims = _y.shape\n",
    "    newdims = list(original_dims)\n",
    "    newdims[0] = len(_newx)\n",
    "    newy = np.zeros(newdims)\n",
    "\n",
    "    # set initial bounds\n",
    "    i_lower = np.zeros(_x.shape[1:], dtype=int)\n",
    "    i_upper = np.ones(_x.shape[1:], dtype=int)\n",
    "    x_lower = _x[0, ...]\n",
    "    x_upper = _x[1, ...]\n",
    "    for i, xi in enumerate(_newx):\n",
    "        # Start at the 'bottom' of the array and work upwards\n",
    "        # This only works if x and newx increase monotonically\n",
    "\n",
    "        # Update bounds where necessary and possible\n",
    "        needs_update = (xi > x_upper) & (i_upper+1<len(_x))\n",
    "        # print x_upper.max(), np.any(needs_update)\n",
    "        while np.any(needs_update):\n",
    "            i_lower = np.where(needs_update, i_lower+1, i_lower)\n",
    "            i_upper = i_lower + 1\n",
    "#orig            x_lower = _x[[i_lower]+ind]\n",
    "#orig            x_upper = _x[[i_upper]+ind]\n",
    "            x_lower = _x[tuple([i_lower]+ind)]\n",
    "            x_upper = _x[tuple([i_upper]+ind)]\n",
    "            # Check again\n",
    "            needs_update = (xi > x_upper) & (i_upper+1<len(_x))\n",
    "        # Express the position of xi relative to its neighbours\n",
    "        xj = (xi-x_lower)/(x_upper - x_lower)\n",
    "\n",
    "        # Determine where there is a valid interpolation range\n",
    "        within_bounds = (_x[0, ...] < xi) & (xi < _x[-1, ...])\n",
    "        if method == 'linear':\n",
    "#orig            f0, f1 = _y[[i_lower]+ind], _y[[i_upper]+ind]\n",
    "            f0, f1 = _y[tuple([i_lower]+ind)], _y[tuple([i_upper]+ind)]\n",
    "            a = f1 - f0\n",
    "            b = f0\n",
    "\n",
    "            newy[i, ...] = np.where(within_bounds, a*xj+b, np.nan)\n",
    "\n",
    "        elif method=='cubic':\n",
    "#orig            f0, f1 = _y[[i_lower]+ind], _y[[i_upper]+ind]\n",
    "#orig            df0, df1 = ydx[[i_lower]+ind], ydx[[i_upper]+ind]\n",
    "            f0, f1 = _y[tuple([i_lower]+ind)], _y[tuple([i_upper]+ind)]\n",
    "            df0, df1 = ydx[tuple([i_lower]+ind)], ydx[tuple([i_upper]+ind)]\n",
    "            a = 2*f0 - 2*f1 + df0 + df1\n",
    "            b = -3*f0 + 3*f1 - 2*df0 - df1\n",
    "            c = df0\n",
    "            d = f0\n",
    "\n",
    "            newy[i, ...] = np.where(within_bounds, a*xj**3 + b*xj**2 + c*xj + d, np.nan)\n",
    "\n",
    "        else:\n",
    "            raise ValueError(\"invalid interpolation method\"\n",
    "                             \"(choose 'linear' or 'cubic')\")\n",
    "    if inverse:\n",
    "        newy = newy[::-1, ...]\n",
    "\n",
    "    return np.moveaxis(newy, 0, axis)"
   ]
  }
 ],
 "metadata": {
  "kernelspec": {
   "display_name": "Python 2",
   "language": "python",
   "name": "python2"
  },
  "language_info": {
   "codemirror_mode": {
    "name": "ipython",
    "version": 2
   },
   "file_extension": ".py",
   "mimetype": "text/x-python",
   "name": "python",
   "nbconvert_exporter": "python",
   "pygments_lexer": "ipython2",
   "version": "2.7.15"
  }
 },
 "nbformat": 4,
 "nbformat_minor": 1
}
