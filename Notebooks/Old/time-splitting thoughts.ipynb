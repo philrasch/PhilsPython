{
 "cells": [
  {
   "cell_type": "raw",
   "metadata": {},
   "source": [
    "%%javascript\n",
    "MathJax.Hub.Config({\n",
    "      TeX: { equationNumbers: { autoNumber: \"AMS\" } }\n",
    "    });"
   ]
  },
  {
   "cell_type": "markdown",
   "metadata": {},
   "source": [
    "assume\n",
    "- two layers defined by water vapor concentrations $q_1$ and $q_2$\n",
    "- a moisture source $ \\mathcal{S} = \\alpha$ introducing water vapor in the lower (index 1) layer\n",
    "- a convective mixing $\\mathcal{M}$ process that occurs between layers and acts to mix water vapor between layers with mixing timescale $\\tau_m$\n",
    "- when the mixing ratio exceeds $q_s$, condensation $\\mathcal{C}$ occurs to reduce the water vapor to $q_s$ with timescale $\\tau_f$. $\\tau_f << \\tau_c$\n",
    "\n",
    "Here are the equations that represent these physical statements.\n",
    "\\begin{equation}\n",
    "{\\partial q_1 \\over \\partial t} = \\mathcal{S} + \\mathcal{M} - \\mathcal{C}(q_1) \n",
    "\\end{equation}\n",
    "$$\n",
    "{\\partial q_2 \\over \\partial t} = -\\mathcal{M} - \\mathcal{C}(q_2)\n",
    "$$\n",
    "$$\n",
    "\\mathcal{M}(q_1,q_2) = {(q_1+q_2)/2 -q_1 \\over \\tau_m}\n",
    "$$\n",
    "$$\n",
    "\\mathcal{C}(q) = {(q-q_s) \\over \\tau_f} \\mathcal{H}(q,q_s)\n",
    "$$\n",
    "where $\\mathcal{H}$ is the Heavyside function.\n",
    "\n",
    "It is probably necessary to evaluate the solutions in four different domains, when $q_1$ and $q_2$ are less than $q_s$ and greater than $q_s$. My guess is that inside each domain there is an analytic solution, but I haven't (yet) tried to solve for it.\n",
    "\n",
    "In vector/matrix notation\n",
    "$$\n",
    "{\\partial \\mathbf q \\over \\partial t} = \\mathbf{S} + \\mathbf{M}(\\mathbf{q}) + \\mathbf{C}(\\mathbf{q}) \n",
    "$$\n",
    "\n",
    "\n",
    "We can also consider the solutions where we apply sequential operator splitting, by isolating the $\\mathcal{S}$, $\\mathcal{M}$, and $\\mathcal{C}$ operators separately. We could also replace the $\\mathbf C$ operator with a \"hard adjustment\" that acts to enforce $q = q_s$ instantly. Note that if we did this in some specific order, it would be possible to produce a solution with no condensation in layer 2.\n",
    "\n"
   ]
  }
 ],
 "metadata": {
  "kernelspec": {
   "display_name": "Python 2",
   "language": "python",
   "name": "python2"
  },
  "language_info": {
   "codemirror_mode": {
    "name": "ipython",
    "version": 2
   },
   "file_extension": ".py",
   "mimetype": "text/x-python",
   "name": "python",
   "nbconvert_exporter": "python",
   "pygments_lexer": "ipython2",
   "version": "2.7.13"
  }
 },
 "nbformat": 4,
 "nbformat_minor": 0
}
