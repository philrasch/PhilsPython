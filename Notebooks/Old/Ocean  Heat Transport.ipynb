{
 "cells": [
  {
   "cell_type": "markdown",
   "metadata": {},
   "source": [
    "Start by ignoring metric terms in area definitions\n",
    "\\begin{align}\n",
    "{\\partial H(y,z) \\over \\partial t} &= -{\\partial F_y \\over \\partial y} \n",
    "- {\\partial F_z \\over \\partial z} \n",
    "\\end{align}\n",
    "integrate from $(y_S, y_N)$ and $(z_B , z_T)$\n",
    "\\begin{align}\n",
    "\\int_{y_S}^{y_N} \\int_{z_B}^{z_T} {\\partial H(y,z) \\over \\partial t} dy dz &= {\\partial \\tilde H \\over \\partial t}&= \\\\\n",
    " &=-\\int_{y_S}^{y_N} \\int_{z_B}^{z_T} ({\\partial F_y \\over \\partial y} + {\\partial F_z \\over \\partial z}) dy dz \\\\\n",
    " &=-(\\int_{y_S}^{y_N} \\int_{z_B}^{z_T} {\\partial F_y \\over \\partial y}  dy dz + \\int_{y_S}^{y_N} \\int_{z_B}^{z_T} {\\partial F_z \\over \\partial z} dy dz)  \\\\\n",
    " &=-(\\int_{y_S}^{y_N} {\\partial \\int_{z_B}^{z_T}  F_y dz \\over \\partial y  } dy + \\int_{z_B}^{z_T} {\\partial \\int_{y_S}^{y_N}  F_z dy \\over \\partial z } dz)  \\\\\n",
    " &=-(\\int_{y_S}^{y_N} {\\partial M_y \\over \\partial y  } dy + \\int_{z_B}^{z_T} {\\partial M_Z \\over \\partial z } dz)  \\\\\n",
    " &=-( { M_y (y_N) - M_y(y_S) }  + {M_z(z_T)  - M_z (z_B) ) } \\\\\n",
    " &= { M_y (y_S) - M_y(y_N) }  + {M_z(z_B)  - M_z (z_T)  } \n",
    "\\end{align}\n",
    "where $M_y = \\int_{z_B}^{z_T}  F_y dz$ and $M_z = \\int_{y_S}^{y_N}  F_z dy$. This sign convention is that positive heat fluxes are north and up.\n",
    "\n",
    "Now assume that $M_z(z_b) = 0$ (no heat flux in the bottom), and assume at the south pole $M_y(y_S)$ the heat flux is zero.\n",
    "\n",
    "Then\n",
    "$$ \n",
    "{\\partial \\tilde H \\over \\partial t} = -M_y(y_N) - M_z(z_T)\n",
    "$$\n",
    "or\n",
    "$$ \n",
    "M_y(y_N) = -{\\partial \\tilde H \\over \\partial t} - M_z(z_T)\n",
    "$$\n",
    "so, the northward depth averaged heat flux = heat gained by ocean - surface flux from south pole to a latitude $y_N$.\n",
    "\n",
    "If any energy goes into the ocean (a negative flux), there must be a corresponding positive heat flux northward if there is no change in ocean heat content\n",
    "\n",
    "If there is no energy out the north boundary, then a negative heat flux at $z_T$ must produce a positive ${\\partial \\tilde H \\over \\partial t}$. So the analysis makes physical sense.\n",
    "\n",
    "\n",
    "integrate from $(y_S, y_N)$ and $(z_B , z_T)$\n"
   ]
  },
  {
   "cell_type": "markdown",
   "metadata": {},
   "source": [
    "\n"
   ]
  }
 ],
 "metadata": {
  "kernelspec": {
   "display_name": "Python 2",
   "language": "python",
   "name": "python2"
  },
  "language_info": {
   "codemirror_mode": {
    "name": "ipython",
    "version": 2
   },
   "file_extension": ".py",
   "mimetype": "text/x-python",
   "name": "python",
   "nbconvert_exporter": "python",
   "pygments_lexer": "ipython2",
   "version": "2.7.11"
  }
 },
 "nbformat": 4,
 "nbformat_minor": 0
}
