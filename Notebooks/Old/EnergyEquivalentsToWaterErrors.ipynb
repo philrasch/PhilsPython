{
 "cells": [
  {
   "cell_type": "markdown",
   "metadata": {},
   "source": [
    "From Kai Zhangs paper\n",
    "\n",
    "assume that a typical rate of sea level rise is 10cm/century\n",
    "\n",
    "assume that a typical error in the water budget is about the same\n"
   ]
  },
  {
   "cell_type": "code",
   "execution_count": 1,
   "metadata": {},
   "outputs": [],
   "source": [
    "%matplotlib inline"
   ]
  },
  {
   "cell_type": "code",
   "execution_count": 2,
   "metadata": {},
   "outputs": [],
   "source": [
    "import matplotlib.pyplot as plt\n",
    "import numpy as np"
   ]
  },
  {
   "cell_type": "code",
   "execution_count": 2,
   "metadata": {},
   "outputs": [
    {
     "name": "stdout",
     "output_type": "stream",
     "text": [
      "('slr in mm/day', 0.0027397260273972603)\n"
     ]
    }
   ],
   "source": [
    "slr = 10.\n",
    "# convert to mm/day = (cm/century * 10mm/cm * century/100yr * yr/365d)\n",
    "slrmmd = slr*10/100/365\n",
    "print('slr in mm/day', slrmmd)"
   ]
  },
  {
   "cell_type": "code",
   "execution_count": 14,
   "metadata": {},
   "outputs": [
    {
     "name": "stdout",
     "output_type": "stream",
     "text": [
      "water flux in kg/m2/s 3.17097919838e-08\n"
     ]
    }
   ],
   "source": [
    "# Lets start by translating that precip amount to kg/m2/year, assuming that water has a density of 1000kg/m3\n",
    "wflux = 3 # mm/day\n",
    "wflux = slrmmd\n",
    "wfluxmks = wflux/1000./86400.*1000. # mm/d * 1 m/1000mm * d/86400s * 1000 kg/m3 = kg/m2/s\n",
    "print \"water flux in kg/m2/s\", wfluxmks"
   ]
  },
  {
   "cell_type": "code",
   "execution_count": 15,
   "metadata": {},
   "outputs": [
    {
     "name": "stdout",
     "output_type": "stream",
     "text": [
      "('cp (J/kg/K) =', 4186.0)\n",
      "('equivalent internal energy at STP (W/m2) =', 0.0182648401826484)\n",
      "('equivalent as latent heat (W/m2)', 0.07927447995941146)\n"
     ]
    }
   ],
   "source": [
    "cplmks = 4.186e3 # approximate heat capacity liq in J/kg/K at STP\n",
    "print (\"cp (J/kg/K) =\", cplmks)\n",
    "cpvmks = 2.0e3 # approximate heat capacity of vapor\n",
    "cpimks = 2.1e3 # approximate heat capacity of ice\n",
    "# assume the water vapor enters at the mean temp (288K) for the planet.\n",
    "eqenwv = cpvmks*wfluxmks*288 # J/kg/K * kg/m2/s * K = J/m2/s = W/m2 (recall W = J/s)\n",
    "print (\"equivalent internal energy at STP (W/m2) =\", eqenwv)\n",
    "lvapmks = 2.5e6\n",
    "eqenlh = lvapmks*wfluxmks\n",
    "print ('equivalent as latent heat (W/m2)',eqenlh)\n",
    "# assume that 3 mm/d goes into atm as vapor, and 2.8 and 0.2 mm/d return as rain and snow respectively. \n",
    "# assume the snow falls at about freezing point, and for the moment that the rain falls at the mean temp also\n",
    "\n"
   ]
  },
  {
   "cell_type": "code",
   "execution_count": 5,
   "metadata": {},
   "outputs": [
    {
     "data": {
      "image/png": "[encoded data removed]",
      "text/plain": [
       "<Figure size 432x288 with 1 Axes>"
      ]
     },
     "metadata": {
      "needs_background": "light"
     },
     "output_type": "display_data"
    }
   ],
   "source": [
    "T = np.linspace(-90, 10, 100)\n",
    "latfus = 2834.1-0.29*T-0.004*T**2\n",
    "plt.plot(T, latfus)\n",
    "plt.title('latfus vs T');"
   ]
  },
  {
   "cell_type": "markdown",
   "metadata": {
    "collapsed": true
   },
   "source": [
    "$$\n",
    "evap = rain+snow\n",
    "$$\n",
    "so\n",
    "$$\n",
    "\\begin{align}\n",
    "Latent\\ Heat\\ Flux & = (L_f+L_v)evap - L_f rain \\\\\n",
    " & = (L_f+L_v)(rain + snow)-L_f rain \\\\\n",
    " & = (L_f+L_v)rain + (L_f+L_v)snow - L_f rain \\\\\n",
    " & = (L_v) rain + L_f snow + L_v snow \\\\\n",
    " & = (L_v)(rain+snow) + L_f snow \\\\\n",
    " & = L_v evap + l_f snow\n",
    "\\end{align}\n",
    "$$"
   ]
  },
  {
   "cell_type": "code",
   "execution_count": 6,
   "metadata": {},
   "outputs": [
    {
     "name": "stdout",
     "output_type": "stream",
     "text": [
      "Energy diff between liquid and vapor is  655800.0\n"
     ]
    }
   ],
   "source": [
    "# consider the difference in internal energy \n",
    "# of a kg of water as vapor and liquid at 300K\n",
    "t300 = 300.\n",
    "de = (cplmks-cpvmks)*t300\n",
    "print \"Energy diff between liquid and vapor is \", de"
   ]
  }
 ],
 "metadata": {
  "kernelspec": {
   "display_name": "Python 2",
   "language": "python",
   "name": "python2"
  },
  "language_info": {
   "codemirror_mode": {
    "name": "ipython",
    "version": 2
   },
   "file_extension": ".py",
   "mimetype": "text/x-python",
   "name": "python",
   "nbconvert_exporter": "python",
   "pygments_lexer": "ipython2",
   "version": "2.7.15"
  }
 },
 "nbformat": 4,
 "nbformat_minor": 1
}
