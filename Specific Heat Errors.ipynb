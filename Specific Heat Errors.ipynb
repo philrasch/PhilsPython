{
 "cells": [
  {
   "cell_type": "markdown",
   "metadata": {},
   "source": [
    "Note on errors arising from the neglect of heat capacity of water moving across the surface.\n",
    "\n",
    "Lets assume that 3 mm/day of water moves across the surface in each direction. Upward from ocean as water vapor, downward in atmosphere as rain or snow.\n"
   ]
  },
  {
   "cell_type": "code",
   "execution_count": 1,
   "metadata": {
    "collapsed": false
   },
   "outputs": [],
   "source": [
    "%matplotlib inline"
   ]
  },
  {
   "cell_type": "code",
   "execution_count": 2,
   "metadata": {
    "collapsed": true
   },
   "outputs": [],
   "source": [
    "import matplotlib.pyplot as plt\n",
    "import numpy as np"
   ]
  },
  {
   "cell_type": "code",
   "execution_count": 3,
   "metadata": {
    "collapsed": false
   },
   "outputs": [
    {
     "name": "stdout",
     "output_type": "stream",
     "text": [
      "water flux in kg/m2/s 3.47222222222e-05\n"
     ]
    }
   ],
   "source": [
    "# Lets start by translating that precip amount to kg/m2/year, assuming that water has a density of 1000kg/m3\n",
    "wflux = 3 # mm/day\n",
    "wfluxmks = wflux/1000./86400.*1000. # mm/d * 1 m/1000mm * d/86400s * 1000 kg/m3 = kg/m2/s\n",
    "print \"water flux in kg/m2/s\", wfluxmks"
   ]
  },
  {
   "cell_type": "code",
   "execution_count": 4,
   "metadata": {
    "collapsed": false
   },
   "outputs": [
    {
     "name": "stdout",
     "output_type": "stream",
     "text": [
      "cp (J/kg/K) = 4186.0\n",
      "equivalent internal energy at STP (W/m2) = 20.0\n"
     ]
    }
   ],
   "source": [
    "cplmks = 4.186e3 # approximate heat capacity liq in J/kg/K at STP\n",
    "print \"cp (J/kg/K) =\", cplmks\n",
    "cpvmks = 2.0e3 # approximate heat capacity of vapor\n",
    "cpimks = 2.1e3 # approximate heat capacity of ice\n",
    "# assume the water vapor enters at the mean temp for the planet.\n",
    "eqenwv = cpvmks*wfluxmks*288 # J/kg/K * kg/m2/s * K = J/m2/s = W/m2 (recall W = J/s)\n",
    "print \"equivalent internal energy at STP (W/m2) =\", eqenwv\n",
    "# assume that 3 mm/d goes into atm as vapor, and 2.8 and 0.2 mm/d return as rain and snow respectively. \n",
    "# assume the snow falls at about freezing point, and for the moment that the rain falls at the mean temp also\n",
    "\n"
   ]
  },
  {
   "cell_type": "code",
   "execution_count": 5,
   "metadata": {
    "collapsed": false
   },
   "outputs": [
    {
     "data": {
      "image/png": "[encoded data removed]",
      "text/plain": [
       "<matplotlib.figure.Figure at 0x105ca2b50>"
      ]
     },
     "metadata": {},
     "output_type": "display_data"
    }
   ],
   "source": [
    "T = np.linspace(-90, 10, 100)\n",
    "latfus = 2834.1-0.29*T-0.004*T**2\n",
    "plt.plot(T, latfus)\n",
    "plt.title('latfus vs T');"
   ]
  },
  {
   "cell_type": "markdown",
   "metadata": {
    "collapsed": true
   },
   "source": [
    "$$\n",
    "evap = rain+snow\n",
    "$$\n",
    "so\n",
    "$$\n",
    "\\begin{align}\n",
    "Latent\\ Heat\\ Flux & = (L_f+L_v)evap - L_f rain \\\\\n",
    " & = (L_f+L_v)(rain + snow)-L_f rain \\\\\n",
    " & = (L_f+L_v)rain + (L_f+L_v)snow - L_f rain \\\\\n",
    " & = (L_v) rain + L_f snow + L_v snow \\\\\n",
    " & = (L_v)(rain+snow) + L_f snow \\\\\n",
    " & = L_v evap + l_f snow\n",
    "\\end{align}\n",
    "$$"
   ]
  },
  {
   "cell_type": "code",
   "execution_count": 6,
   "metadata": {
    "collapsed": false
   },
   "outputs": [
    {
     "name": "stdout",
     "output_type": "stream",
     "text": [
      "de is  655800.0\n"
     ]
    }
   ],
   "source": [
    "# consider the difference in internal energy of a kg of water as vapor and liquid at 300K\n",
    "t300 = 300.\n",
    "de = (cplmks-cpvmks)*t300\n",
    "print \"de is \", de"
   ]
  }
 ],
 "metadata": {
  "kernelspec": {
   "display_name": "Python 2",
   "language": "python",
   "name": "python2"
  },
  "language_info": {
   "codemirror_mode": {
    "name": "ipython",
    "version": 2
   },
   "file_extension": ".py",
   "mimetype": "text/x-python",
   "name": "python",
   "nbconvert_exporter": "python",
   "pygments_lexer": "ipython2",
   "version": "2.7.11"
  }
 },
 "nbformat": 4,
 "nbformat_minor": 0
}
