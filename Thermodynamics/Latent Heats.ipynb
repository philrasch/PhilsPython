{
 "cells": [
  {
   "cell_type": "markdown",
   "metadata": {
    "collapsed": true
   },
   "source": [
    "converted to python 3"
   ]
  },
  {
   "cell_type": "markdown",
   "metadata": {},
   "source": [
    "equation for latent heat of vaporization from Rogers and Yau (J/g)\n",
    "$$ 2500.8 - 2.36T + 0.0016T^2 - 0.00006T^3$$\n",
    "where $T$ is in Centrigrade"
   ]
  },
  {
   "cell_type": "markdown",
   "metadata": {},
   "source": [
    "equation for latent heat of sublimation (vapor to ice) from Rogers and Yau (J/g)\n",
    "$$2834.1 - 0.29T - 0.004T^2$$"
   ]
  },
  {
   "cell_type": "code",
   "execution_count": 11,
   "metadata": {},
   "outputs": [],
   "source": [
    "%matplotlib inline"
   ]
  },
  {
   "cell_type": "code",
   "execution_count": 12,
   "metadata": {},
   "outputs": [],
   "source": [
    "import matplotlib.pyplot as plt\n",
    "import numpy as np"
   ]
  },
  {
   "cell_type": "code",
   "execution_count": 13,
   "metadata": {},
   "outputs": [
    {
     "name": "stdout",
     "output_type": "stream",
     "text": [
      "TE 127076166200645.7\n",
      "TE in TW is  127.0761662006457\n"
     ]
    }
   ],
   "source": [
    "# convert 1 W/m2 to a global integral\n",
    "TE = 1.*np.pi*6.36e6**2\n",
    "print (\"TE\", TE)\n",
    "# petawatt is 1.e15 W\n",
    "# terawatt is 1.e12 W\n",
    "print (\"TE in TW is \", TE*1.e-12)"
   ]
  },
  {
   "cell_type": "code",
   "execution_count": 14,
   "metadata": {},
   "outputs": [
    {
     "name": "stdout",
     "output_type": "stream",
     "text": [
      "cterm1, cterm2, cpd, cpm 0.8588469184890657 1.0343538767395626 1006.0 1040.56\n",
      "if all water condensed out 3.302536132478579\n",
      "alternate estimate\n"
     ]
    }
   ],
   "source": [
    "# correction term for heat capacity of moist air\n",
    "cpv = 1870.\n",
    "cpd = 1006.\n",
    "cterm1 = cpv/cpd - 1.\n",
    "# assume water vapor mixing ratio is 0.04\n",
    "cterm2 = 1+0.04*cterm1\n",
    "cpm = cpd*cterm2\n",
    "print (\"cterm1, cterm2, cpd, cpm\", cterm1, cterm2, cpd, cpm)\n",
    "latvap = 2500.8e3\n",
    "tdd = latvap*0.04/cpd\n",
    "tdm = latvap*0.04/cpm\n",
    "tdiff = tdd-tdm\n",
    "print (\"if all water condensed out\", tdiff)\n",
    "print (\"alternate estimate\")"
   ]
  },
  {
   "cell_type": "code",
   "execution_count": 15,
   "metadata": {},
   "outputs": [
    {
     "name": "stdout",
     "output_type": "stream",
     "text": [
      "qv, rv 0.04 0.04166666666666667\n",
      "tdiff 4.14314115308152\n"
     ]
    }
   ],
   "source": [
    "# diff between mixing ratio and spec humidity\n",
    "qv = 0.04\n",
    "rv = qv/(1.-qv)\n",
    "print (\"qv, rv\", qv, rv)\n",
    "latvap = 2500.8e3\n",
    "cpd = 1006.\n",
    "tdiff = latvap*(rv-qv)/cpd\n",
    "print (\"tdiff\", tdiff)"
   ]
  },
  {
   "cell_type": "code",
   "execution_count": 16,
   "metadata": {},
   "outputs": [
    {
     "data": {
      "image/png": "[encoded data removed]",
      "text/plain": [
       "<Figure size 432x288 with 1 Axes>"
      ]
     },
     "metadata": {
      "needs_background": "light"
     },
     "output_type": "display_data"
    }
   ],
   "source": [
    "T = np.linspace(-40, 30, 100)\n",
    "lvap = 2500.8 - 2.36*T + 0.0016*T**2 - 0.00006*T**3\n",
    "plt.plot(T, lvap)\n",
    "plt.title('lvap vs T');"
   ]
  },
  {
   "cell_type": "code",
   "execution_count": null,
   "metadata": {},
   "outputs": [],
   "source": [
    "T = np.linspace(-90, 10, 100)\n",
    "latfus = 2834.1-0.29*T-0.004*T**2\n",
    "plt.plot(T, latfus)\n",
    "plt.title('lat sublimation vs T');"
   ]
  },
  {
   "cell_type": "markdown",
   "metadata": {
    "collapsed": true
   },
   "source": [
    "$$\n",
    "evap = rain+snow\n",
    "$$\n",
    "so\n",
    "$$\n",
    "\\begin{align}\n",
    "Latent\\ Heat\\ Flux & = (L_f+L_v)evap - L_f rain \\\\\n",
    " & = (L_f+L_v)(rain + snow)-L_f rain \\\\\n",
    " & = (L_f+L_v)rain + (L_f+L_v)snow - L_f rain \\\\\n",
    " & = (L_v) rain + L_f snow + L_v snow \\\\\n",
    " & = (L_v)(rain+snow) + L_f snow \\\\\n",
    " & = L_v evap + l_f snow\n",
    "\\end{align} \\tag{3}\n",
    "$$"
   ]
  },
  {
   "cell_type": "code",
   "execution_count": 17,
   "metadata": {},
   "outputs": [
    {
     "name": "stdout",
     "output_type": "stream",
     "text": [
      "heat capacity at 100C 2026.0578797554074\n"
     ]
    },
    {
     "data": {
      "text/plain": [
       "2.112"
      ]
     },
     "execution_count": 17,
     "metadata": {},
     "output_type": "execute_result"
    }
   ],
   "source": [
    "molwth2o = 18.01528 # g/mol from wikipedia\n",
    "cpv100 = 36.5 # J/mol/K at 100C\n",
    "cpv100s = cpv100/molwth2o*1000. # convert to J/kg/K\n",
    "print (\"heat capacity at 100C\", cpv100s)\n",
    "4.218-2.106"
   ]
  },
  {
   "cell_type": "markdown",
   "metadata": {},
   "source": [
    "\\begin{align*} \n",
    "C_p{\\partial T \\over \\partial t} \\cdot {\\delta p \\over g} =& F \\\\\n",
    "\\end{align*}\n",
    "or\n",
    "\\begin{align*}\n",
    "{\\partial T \\over \\partial t} = & F \\cdot {g \\over C_p \\delta p}\\\\\n",
    "\\end{align*} \n",
    "notes on units:\n",
    "* W/m2 is J/s/m2\n",
    "* C_p air is about 1.e3 J/kg/K\n",
    "* g is 9.8 m/s2\n",
    "* Pa is kg/m/s2\n",
    "\n",
    "So\n",
    "g/delta p = 1./(rho delta z) = m2/kg\n"
   ]
  },
  {
   "cell_type": "code",
   "execution_count": 18,
   "metadata": {},
   "outputs": [
    {
     "name": "stdout",
     "output_type": "stream",
     "text": [
      "dtdt in K/day 0.46569599999999994\n"
     ]
    }
   ],
   "source": [
    "# if F is 44 W/m2\n",
    "dtdt = 44/1000./8.e4*9.8\n",
    "print (\"dtdt in K/day\", dtdt*86400.)"
   ]
  },
  {
   "cell_type": "code",
   "execution_count": 19,
   "metadata": {},
   "outputs": [
    {
     "data": {
      "image/png": "[encoded data removed]",
      "text/plain": [
       "<Figure size 432x288 with 1 Axes>"
      ]
     },
     "metadata": {
      "needs_background": "light"
     },
     "output_type": "display_data"
    }
   ],
   "source": [
    "# using Kirchhoffs equation, \n",
    "cpv = 1884.4\n",
    "cl = 4219.\n",
    "t0 = 273.16\n",
    "lvap0 = 2.501e6\n",
    "T = np.linspace(-40, 30, 100)\n",
    "TK = T + t0\n",
    "lvap = 2500.8 - 2.36*T + 0.0016*T**2 - 0.00006*T**3\n",
    "lvap2 = ((cpv-cl)*(TK-t0)+lvap0)/1000.\n",
    "plt.plot(T, lvap)\n",
    "plt.plot(T, lvap2)\n",
    "T2 = np.linspace(30, 50, 20)\n",
    "latvap3 = 2.5e3 - 2.37*(T2)\n",
    "plt.plot(T2,latvap3)\n",
    "plt.title('lvap vs T');\n",
    "plt.savefig(\"lvap.pdf\",type=\"pdf\")"
   ]
  },
  {
   "cell_type": "code",
   "execution_count": 21,
   "metadata": {},
   "outputs": [
    {
     "data": {
      "image/png": "[encoded data removed]",
      "text/plain": [
       "<Figure size 432x288 with 1 Axes>"
      ]
     },
     "metadata": {
      "needs_background": "light"
     },
     "output_type": "display_data"
    }
   ],
   "source": [
    "T = np.linspace(-90, 10, 100)\n",
    "# latent heat of sub from Rogers and Yau\n",
    "latsub = 2834.1-0.29*T-0.004*T**2\n",
    "TK = T + t0\n",
    "# from murphy and koop\n",
    "mwt = 18.015 # g /mol\n",
    "xponent = -((TK/123.75)**2)\n",
    "#print \"xponent\", xponent\n",
    "latsub2 = (46782.5 + 35.8925*TK - 0.07414*TK**2 + \n",
    "           541.5*np.exp(xponent)\n",
    "          )/mwt\n",
    "plt.plot(T, latsub)\n",
    "plt.plot(T, latsub2)\n",
    "plt.title('lat sublimation vs T');\n",
    "plt.savefig(\"lsub.pdf\",type=\"pdf\")"
   ]
  },
  {
   "cell_type": "code",
   "execution_count": 22,
   "metadata": {},
   "outputs": [
    {
     "name": "stdout",
     "output_type": "stream",
     "text": [
      "4.2 2.05 330.0\n"
     ]
    },
    {
     "data": {
      "image/png": "[encoded data removed]",
      "text/plain": [
       "<Figure size 432x288 with 1 Axes>"
      ]
     },
     "metadata": {
      "needs_background": "light"
     },
     "output_type": "display_data"
    }
   ],
   "source": [
    "T = np.linspace(-40, 10, 100)\n",
    "# latent heat of sub from Rogers and Yau\n",
    "TK = T + t0\n",
    "cpl = 4.2 # J/g/K\n",
    "cpi = 2.050 # J/g/K\n",
    "latf0 = 3.3e2 # J/g/\n",
    "#print \"TK\", TK\n",
    "print (cpl, cpi, latf0)\n",
    "latf = latf0 - (cpl - cpi)*(TK-t0)\n",
    "plt.plot(T, latf)\n",
    "plt.title('lat fusion vs T');\n",
    "plt.savefig(\"lfus.pdf\",type=\"pdf\")"
   ]
  }
 ],
 "metadata": {
  "kernelspec": {
   "display_name": "Python [conda env:e3sm-unified-1.2.6py3] *",
   "language": "python",
   "name": "conda-env-e3sm-unified-1.2.6py3-py"
  },
  "language_info": {
   "codemirror_mode": {
    "name": "ipython",
    "version": 3
   },
   "file_extension": ".py",
   "mimetype": "text/x-python",
   "name": "python",
   "nbconvert_exporter": "python",
   "pygments_lexer": "ipython3",
   "version": "3.6.7"
  }
 },
 "nbformat": 4,
 "nbformat_minor": 1
}
