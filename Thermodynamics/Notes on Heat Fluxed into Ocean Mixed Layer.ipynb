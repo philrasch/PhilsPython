{
 "cells": [
  {
   "cell_type": "markdown",
   "metadata": {},
   "source": [
    "Conservation form of heat flux\n",
    "$$\n",
    "{\\partial \\rho C_p T \\over \\partial t} = - {\\partial F \\over \\partial z}\n",
    "$$\n",
    "with convention $z$ increasing from 0 at surface, downward, $F$ positive downward\n",
    "\n",
    "integrate from $z=0$ to $z=h$, assume T uniform in $z$\n",
    "$$\n",
    "{\\partial \\rho C_p T h \\over \\partial t} = -F(h) + F(0)\n",
    "$$\n",
    "\n",
    "if $F(0)$ positive (flux into ocean), then $T$ increases.\n",
    "\n",
    "Lets neglect F(h), and assume $C_p = \\rho = 1$ to simplify notation, and assume $F = \\mu T + \\cal O$, where $\\cal O$ is \"another\" surface flux, so \n",
    "$$\n",
    "{\\partial T \\over \\partial t} = \\mu T + \\cal O\n",
    "$$\n",
    "then, if $\\mu$ is positive, when $T$ is positive, the first term on the RHS would be positive, i.e., a positive anomaly would increase the downward heat flux, and increase the temperature, a positive feedback.\n",
    "\n",
    "Cane et al choose to use the equation\n",
    "$$\n",
    "{\\partial T \\over \\partial t} = -\\alpha T + q_T\n",
    "$$\n",
    "so their notation makes $-\\alpha \\equiv \\mu$, and $q_T \\equiv \\cal O$. $\\alpha$ should be negative for a positive feedback. If $\\alpha$ is positive, that is a *negative feedback*, so the term damps perturbations introduced by $q_T$, which is the assumption used in Cane et al. *This equation has the same form as our equation (1), but note the statement just above their equation (2) that a heat flux into the ocean is positive, and note our statement on line 51 of submitted manuscript that heat fluxes into the ocean are negative!!!*\n",
    "\n",
    "Note also that in O'Reilly et al, first sentence of second paragraph page 2812, they have stated that \"THF anomalies are positive upwards\" (implying fluxes into ocean are negative downward), so they are adopting the opposite convention for heat fluxes. **This means that our equation (1) should not have the negative sign if we want to agree with O'Reilly, or $\\bf \\alpha$ will have the opposite sign to our $\\bf \\lambda$**. I think O'Reilly have a sign error \n"
   ]
  }
 ],
 "metadata": {
  "kernelspec": {
   "display_name": "Python [default]",
   "language": "python",
   "name": "python2"
  },
  "language_info": {
   "codemirror_mode": {
    "name": "ipython",
    "version": 2
   },
   "file_extension": ".py",
   "mimetype": "text/x-python",
   "name": "python",
   "nbconvert_exporter": "python",
   "pygments_lexer": "ipython2",
   "version": "2.7.14"
  }
 },
 "nbformat": 4,
 "nbformat_minor": 2
}
