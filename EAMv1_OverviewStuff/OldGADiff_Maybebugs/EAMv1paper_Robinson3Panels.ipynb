{
 "cells": [
  {
   "cell_type": "code",
   "execution_count": 1,
   "metadata": {},
   "outputs": [
    {
     "name": "stdout",
     "output_type": "stream",
     "text": [
      "pjr.py complete\n"
     ]
    }
   ],
   "source": [
    "%matplotlib inline\n",
    "%load_ext autoreload\n",
    "%autoreload 2\n",
    "from pjr import *\n",
    "import string\n",
    "from timeit import default_timer as timer\n",
    "from pprint import pprint\n",
    "import cartopy.crs as ccrs"
   ]
  },
  {
   "cell_type": "markdown",
   "metadata": {},
   "source": [
    "test latex syntax $a = b^2$"
   ]
  },
  {
   "cell_type": "code",
   "execution_count": 2,
   "metadata": {},
   "outputs": [],
   "source": [
    "# a useful function for interpolating model to new levels\n",
    "def getfld (fspec, vname, levs=None):\n",
    "    \"\"\"get zonal average field from model on pressure levels\"\"\"\n",
    "    F =  fspec(vname,squeeze=1)            # extract fields, remove dimensions length one\n",
    "\n",
    "    if not levs is None:\n",
    "        print \"interpolate to pressure levels\", levs\n",
    "        ps = fspec('PS',squeeze=1)\n",
    "        hyam = fspec('hyam',squeeze=1)\n",
    "        hybm = fspec('hybm',squeeze=1)\n",
    "\n",
    "        start = timer()\n",
    "        P = cdutil.reconstructPressureFromHybrid (ps,hyam,hybm,1.e5)\n",
    "        P = P/100.; P.units = \"hPa\"\n",
    "        stop1 = timer()\n",
    "        print  \"reconstruct P time = \", stop1-start\n",
    "        FP1 = cdutil.logLinearInterpolation(F,P,levels=levs)\n",
    "        stop2 = timer()\n",
    "        print \"interp time\", stop2-stop1\n",
    "\n",
    "        F = FP1\n",
    "\n",
    "    return F;\n",
    "\n",
    "\n",
    "def getdat (g0, vnameo, g1, g2, vname):\n",
    "    \"\"\"function to get model and obs datasets, move them to a common pressure coord grid, zonal average,\n",
    "    returns:\n",
    "        the observations (TP0xav)\n",
    "        difference of model1 and obs (DT1xav)\n",
    "        difference of model2 and obs (DT2xav)\n",
    "    \"\"\"\n",
    "    T0 =  g0(vnameo,squeeze=1)            # get obs\n",
    "    TM0 = g2(vname,squeeze=1) # get a model grid so we can do horizontal regrid obs\n",
    "    T0 = T0.regrid(TM0.getGrid(),regridTool=\"esmf\",regridMethod=\"linear\") # horizontal regrid\n",
    "\n",
    "    T1 = getfld (g1, vname)\n",
    "\n",
    "\n",
    "    T2 = getfld (g2, vname)\n",
    "\n",
    "\n",
    "    DT2 = T2 - T0\n",
    "    DT1 = T1 - T0\n",
    "\n",
    "    return T0, DT1, DT2;\n",
    "\n",
    "\n",
    "    \n",
    "# a class that can hold model and observational names \n",
    "class vsets(object):\n",
    "    def __init__(self, name=None, mname=None, oname=None, hash={}) :\n",
    "         self.name = name\n",
    "         self.mname = mname\n",
    "         self.oname = oname\n",
    "\n",
    "    "
   ]
  },
  {
   "cell_type": "code",
   "execution_count": 3,
   "metadata": {},
   "outputs": [
    {
     "name": "stdout",
     "output_type": "stream",
     "text": [
      "levs [  20.   40.   60.   80.  100.  120.  140.  160.  180.  200.  220.  240.\n",
      "  260.  280.  300.  320.  340.  360.  380.  400.  420.  440.  460.  480.\n",
      "  500.  520.  540.  560.  580.  600.  620.  640.  660.  680.  700.  720.\n",
      "  740.  760.  780.  800.  820.  840.  860.  880.  900.  920.  940.  960.\n",
      "  980. 1000.]\n",
      "jname0 /global/project/projectdirs/acme/acme_diags/obs_for_acme_diags/MERRA2_JJA_1980_2016_climo.nc\n",
      "jname1 /global/cscratch1/sd/leebrent/climos/output/f.e11.FAMIP.f09_f09_same_setting_LENS/rgr/f.e11.FAMIP.f09_f09_same_setting_LENS_JJA_climo.nc\n",
      "jname2 /global/cscratch1/sd/leebrent/climos/output/20180316.DECKv1b_A1.ne30_oEC.edison/rgr/20180316.DECKv1b_A1.ne30_oEC.edison_JJA_climo.nc\n"
     ]
    }
   ],
   "source": [
    "#----------------------------------------------------------\n",
    "# define the metadata that controls the analysis and plotting\n",
    "# identify the levels that we will interpolate to\n",
    "levs = findNiceContours(np.array([1000.,10]),50,rmClev=0.) # in hPa\n",
    "print \"levs\", levs\n",
    "nlevs = cdms2.createAxis(levs) # make a cdms vertical grid to remap to\n",
    "\n",
    "# the season to plot\n",
    "seas = \"ANN\"\n",
    "seas = \"DJF\"\n",
    "seas = \"JJA\"\n",
    "\n",
    "# observations\n",
    "jname0 = '/global/project/projectdirs/acme/acme_diags/obs_for_acme_diags/MERRA2_ANN_1980_2016_climo.nc'\n",
    "jname0 = '/global/project/projectdirs/acme/acme_diags/obs_for_acme_diags/MERRA2_'+seas+'_1980_2016_climo.nc'\n",
    "ltit0 = \"MERRA2\"\n",
    "print \"jname0\", jname0\n",
    "\n",
    "# model1 dataset\n",
    "dir1 = \"/global/cscratch1/sd/leebrent/climos/output/f.e11.FAMIP.f09_f09_same_setting_LENS/rgr/\"\n",
    "f1 = \"f.e11.FAMIP.f09_f09_same_setting_LENS_ANN_197912_200511_climo.nc\"\n",
    "f1 = \"f.e11.FAMIP.f09_f09_same_setting_LENS_\"+seas+\"_climo.nc\"\n",
    "ltit1 = \"CAM5-MERRA2\"\n",
    "jname1 = dir1+f1\n",
    "print \"jname1\", jname1\n",
    "\n",
    "# model2 dataset\n",
    "dir2 = '/global/cscratch1/sd/leebrent/climos/output/20180316.DECKv1b_A1.ne30_oEC.edison/rgr/'\n",
    "f2 = '20180316.DECKv1b_A1.ne30_oEC.edison_ANN_197912_200411_climo.nc'\n",
    "f2 = '20180316.DECKv1b_A1.ne30_oEC.edison_'+seas+'_climo.nc'\n",
    "ltit2 = \"EAMV1-MERRA2\"\n",
    "jname2 = dir2+f2\n",
    "print \"jname2\", jname2  \n",
    "\n",
    "# a list of variables and the names they are called in the model and obs dataset files\n",
    "vlist = [] #create an empty list\n",
    "vlist.append(vsets(\"Surface Air Temperature\", \"TREFHT\",\"tas\"))\n",
    "#vlist.append(vsets(\"Surface Temperature\", \"T\", \"tsrf\"))\n",
    "#vlist.append(vsets(\"\", \"U\", \"ua\"))\n"
   ]
  },
  {
   "cell_type": "code",
   "execution_count": 4,
   "metadata": {},
   "outputs": [],
   "source": [
    "from matplotlib import gridspec\n",
    "def setup3 ():\n",
    "    fig = plt.figure(figsize=(6, 9)) \n",
    "    gs = gridspec.GridSpec(3, 2, width_ratios=[20, 1]) \n",
    "    ax0 = plt.subplot(gs[0],projection=ccrs.Robinson())\n",
    "    ax0.set_global() # make axis consistent with projection limits\n",
    "    cx0 = plt.subplot(gs[1])\n",
    "    ax1 = plt.subplot(gs[2],projection=ccrs.Robinson())\n",
    "    ax1.set_global() # make axis consistent with projection limits\n",
    "    cx1 = plt.subplot(gs[3])\n",
    "    ax2 = plt.subplot(gs[4],projection=ccrs.Robinson())\n",
    "    ax2.set_global() # make axis consistent with projection limits\n",
    "    cx2 = plt.subplot(gs[5])\n",
    "    return fig,[ax0,ax1,ax2],[cx0,cx1,cx2];\n",
    "\n",
    "def defset (data, plotOpt, attribute):\n",
    "    \"\"\"return a sensible attribute\n",
    "    if data is a numpy array, the default is an empty string\n",
    "    if data is a smarter object like a cdms var it looks for an attribute\n",
    "        if present that becomes the default\n",
    "        else default is empty string\n",
    "    if plotOpt dictionary contains a value, that is the returned quantity\n",
    "    \"\"\"\n",
    "#    print \"defset searching for \", attribute\n",
    "    if hasattr(data,attribute):\n",
    "        defval = getattr(data,attribute)\n",
    "#        print attribute, \"present, defval set to\", defval\n",
    "        #    variance.units = '(%s)^2'%var.units\n",
    "    else:\n",
    "#        print \"no attribute defval set empty\"\n",
    "        defval = None\n",
    "    val = plotOpt.get(attribute,defval)\n",
    "#    print \"defset returning\", val\n",
    "    return val;\n",
    "\n",
    "\n",
    "\n"
   ]
  },
  {
   "cell_type": "code",
   "execution_count": null,
   "metadata": {},
   "outputs": [],
   "source": []
  },
  {
   "cell_type": "code",
   "execution_count": 5,
   "metadata": {},
   "outputs": [
    {
     "name": "stdout",
     "output_type": "stream",
     "text": [
      "obs varlist ['va', 'rsds', 'tas', 'rsdscs', 'zg', 'hfss', 'lon_bnds', 'height', 'rlutcs', 'prw', 'hfls', 'pr', 'rlut', 'climatology_bnds', 'rlus', 'rlds', 'vas', 'lat_bnds', 'uas', 'ta', 'psl', 'rsdt', 'hur', 'rsutcs', 'tauv', 'tauu', 'rsus', 'wap', 'ua', 'rsut']\n"
     ]
    },
    {
     "ename": "NameError",
     "evalue": "name 'pltdat' is not defined",
     "output_type": "error",
     "traceback": [
      "\u001b[0;31m\u001b[0m",
      "\u001b[0;31mNameError\u001b[0mTraceback (most recent call last)",
      "\u001b[0;32m<ipython-input-5-7339917f5147>\u001b[0m in \u001b[0;36m<module>\u001b[0;34m()\u001b[0m\n\u001b[1;32m      8\u001b[0m \u001b[0;34m\u001b[0m\u001b[0m\n\u001b[1;32m      9\u001b[0m \u001b[0mfig\u001b[0m\u001b[0;34m,\u001b[0m \u001b[0max3\u001b[0m\u001b[0;34m,\u001b[0m \u001b[0mcx3\u001b[0m \u001b[0;34m=\u001b[0m \u001b[0msetup3\u001b[0m\u001b[0;34m(\u001b[0m\u001b[0;34m)\u001b[0m\u001b[0;34m\u001b[0m\u001b[0m\n\u001b[0;32m---> 10\u001b[0;31m \u001b[0mpltdat\u001b[0m\u001b[0;34m(\u001b[0m\u001b[0mTP0\u001b[0m\u001b[0;34m,\u001b[0m \u001b[0mDT1\u001b[0m\u001b[0;34m,\u001b[0m \u001b[0mDT2\u001b[0m\u001b[0;34m)\u001b[0m\u001b[0;34m\u001b[0m\u001b[0m\n\u001b[0m\u001b[1;32m     11\u001b[0m \u001b[0;32mfor\u001b[0m \u001b[0mi\u001b[0m \u001b[0;32min\u001b[0m \u001b[0mvlist\u001b[0m\u001b[0;34m:\u001b[0m\u001b[0;34m\u001b[0m\u001b[0m\n\u001b[1;32m     12\u001b[0m     \u001b[0;32mbreak\u001b[0m\u001b[0;34m\u001b[0m\u001b[0m\n",
      "\u001b[0;31mNameError\u001b[0m: name 'pltdat' is not defined"
     ]
    },
    {
     "data": {
      "image/png": "[encoded data removed]",
      "text/plain": [
       "<Figure size 432x648 with 6 Axes>"
      ]
     },
     "metadata": {
      "needs_background": "light"
     },
     "output_type": "display_data"
    }
   ],
   "source": [
    "\n",
    "g0 = cdms2.open(jname0);\n",
    "varlist = g0.listvariables();\n",
    "print \"obs varlist\", varlist\n",
    "dims = g0.listdimension();\n",
    "g1 = cdms2.open(jname1);\n",
    "g2 = cdms2.open(jname2)\n",
    "\n",
    "fig, ax3, cx3 = setup3()\n",
    "pltdat(TP0, DT1, DT2)\n",
    "for i in vlist:\n",
    "    break\n",
    "    print \"i\", i.name\n",
    "    pltname = \"Moll_\"+i.name+\"_\"+seas+\"_MERRAvsModels.pdf\"\n",
    "    TP0, DT1, DT2 = getdat(g0, i.oname, g1, g2, i.mname)\n",
    "    print pltname\n",
    "    pltdat(TP0, DT1, DT2)\n",
    "#    plt.savefig(pltname,type=\"pdf\",bbox_inches='tight')\n",
    "    #break\n"
   ]
  },
  {
   "cell_type": "code",
   "execution_count": null,
   "metadata": {},
   "outputs": [],
   "source": []
  }
 ],
 "metadata": {
  "kernelspec": {
   "display_name": "e3sm-jupyter",
   "language": "python",
   "name": "e3sm-jupyter"
  },
  "language_info": {
   "codemirror_mode": {
    "name": "ipython",
    "version": 2
   },
   "file_extension": ".py",
   "mimetype": "text/x-python",
   "name": "python",
   "nbconvert_exporter": "python",
   "pygments_lexer": "ipython2",
   "version": "2.7.15"
  }
 },
 "nbformat": 4,
 "nbformat_minor": 2
}
