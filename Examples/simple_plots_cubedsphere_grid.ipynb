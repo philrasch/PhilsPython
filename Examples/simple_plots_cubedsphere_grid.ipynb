{
 "cells": [
  {
   "cell_type": "code",
   "execution_count": 2,
   "metadata": {},
   "outputs": [
    {
     "name": "stdout",
     "output_type": "stream",
     "text": [
      "3.10.1 | packaged by conda-forge | (main, Dec 22 2021, 01:39:05) [GCC 9.4.0]\n",
      "pjr3.py complete\n"
     ]
    }
   ],
   "source": [
    "import sys\n",
    "print(sys.version)\n",
    "%matplotlib inline\n",
    "%run -i ~/Python/pjr3"
   ]
  },
  {
   "cell_type": "code",
   "execution_count": 10,
   "metadata": {},
   "outputs": [
    {
     "name": "stdout",
     "output_type": "stream",
     "text": [
      "/home/phil/NetCDF_Files/*F2010*01.nc\n",
      "DS <xarray.Dataset>\n",
      "Dimensions:          (ncol: 21600, lev: 72, ilev: 73, time: 1, nbnd: 2)\n",
      "Coordinates:\n",
      "  * lev              (lev) float64 0.1238 0.1828 0.2699 ... 986.2 993.8 998.5\n",
      "  * ilev             (ilev) float64 0.1 0.1477 0.218 ... 990.5 997.0 1e+03\n",
      "  * time             (time) object 0001-02-01 00:00:00\n",
      "Dimensions without coordinates: ncol, nbnd\n",
      "Data variables: (12/413)\n",
      "    lat              (ncol) float64 dask.array<chunksize=(21600,), meta=np.ndarray>\n",
      "    lon              (ncol) float64 dask.array<chunksize=(21600,), meta=np.ndarray>\n",
      "    area             (ncol) float64 dask.array<chunksize=(21600,), meta=np.ndarray>\n",
      "    hyam             (lev) float64 dask.array<chunksize=(72,), meta=np.ndarray>\n",
      "    hybm             (lev) float64 dask.array<chunksize=(72,), meta=np.ndarray>\n",
      "    P0               float64 ...\n",
      "    ...               ...\n",
      "    soa_c1DDF        (time, ncol) float32 dask.array<chunksize=(1, 21600), meta=np.ndarray>\n",
      "    soa_c1SFWET      (time, ncol) float32 dask.array<chunksize=(1, 21600), meta=np.ndarray>\n",
      "    soa_c2DDF        (time, ncol) float32 dask.array<chunksize=(1, 21600), meta=np.ndarray>\n",
      "    soa_c2SFWET      (time, ncol) float32 dask.array<chunksize=(1, 21600), meta=np.ndarray>\n",
      "    soa_c3DDF        (time, ncol) float32 dask.array<chunksize=(1, 21600), meta=np.ndarray>\n",
      "    soa_c3SFWET      (time, ncol) float32 dask.array<chunksize=(1, 21600), meta=np.ndarray>\n",
      "Attributes: (12/19)\n",
      "    ne:                30\n",
      "    fv_nphys:          2\n",
      "    title:             EAM History file information\n",
      "    source:            E3SM Atmosphere Model\n",
      "    source_id:         29599f4a21\n",
      "    product:           model-output\n",
      "    ...                ...\n",
      "    institution_id:    E3SM-Project\n",
      "    institution:       LLNL (Lawrence Livermore National Laboratory, Livermor...\n",
      "    contact:           e3sm-data-support@listserv.llnl.gov\n",
      "    initial_file:      /lustre/climate/csmdata//atm/cam/inic/homme/20180716.D...\n",
      "    topography_file:   /lustre/climate/csmdata//atm/cam/topo/USGS-gtopo30_ne3...\n",
      "    time_period_freq:  month_1\n",
      "(1, 21600)\n",
      "area weighted mean 9.416591314238199\n"
     ]
    }
   ],
   "source": [
    "indir = os.path.expanduser('~/NetCDF_Files/*F2010*.nc')\n",
    "#indir = os.path.expanduser('/lustre/choi040/20210920.F2010.1Nudg.ne30pg2_r05_oECv3/run/20210920.F2010.1Nudg.ne30pg2_r05_oECv3.eam.h2.2015-01-01-00000.nc')\n",
    "indir = os.path.expanduser('~/NetCDF_Files/*F2010*01.nc')\n",
    "#indir = os.path.expanduser('~/NetCDF_Files/vd05_ANN_climo.nc')\n",
    "\n",
    "print(indir)\n",
    "#print('exists',os.path.exists(indir))\n",
    "DS = xr.open_mfdataset(indir).chunk({'time': 20})\n",
    "print('DS',DS)\n",
    "weights = DS.area\n",
    "weights.name = 'weights'\n",
    "Var = DS.FSNT - DS.FLNT  # net radiative flux at Top of Model\n",
    "print(Var.shape)\n",
    "Varm2 = Var.weighted(weights).mean() # calculate global average\n",
    "print('area weighted mean', Varm2.values)"
   ]
  },
  {
   "cell_type": "code",
   "execution_count": 5,
   "metadata": {},
   "outputs": [
    {
     "name": "stdout",
     "output_type": "stream",
     "text": [
      "Tout <xarray.DataArray (plev: 20, ncol: 21600)>\n",
      "array([[271.77803314, 271.88166787, 271.58988583, ..., 247.45571226,\n",
      "        247.4806769 , 248.20443033],\n",
      "       [213.18663947, 213.6021184 , 212.35790378, ..., 215.45417854,\n",
      "        215.52250377, 215.15539015],\n",
      "       [205.35539304, 206.11643913, 203.86083285, ..., 211.83477059,\n",
      "        212.17812236, 210.99015355],\n",
      "       ...,\n",
      "       [287.21514669, 286.62321389, 288.49389508, ..., 267.40549609,\n",
      "        268.11114787, 268.51219565],\n",
      "       [289.76341564, 289.04907859, 291.03213896, ..., 271.57738751,\n",
      "        272.35397103, 272.69652137],\n",
      "       [292.65288394, 292.11240069, 293.54021051, ..., 275.8186439 ,\n",
      "                 nan, 276.94223309]])\n",
      "Coordinates:\n",
      "    time     object 0001-02-01 00:00:00\n",
      "  * plev     (plev) float64 1.0 53.58 106.2 158.7 ... 842.3 894.8 947.4 1e+03\n",
      "Dimensions without coordinates: ncol\n",
      "Attributes:\n",
      "    mdims:          1\n",
      "    units:          K\n",
      "    long_name:      Temperature\n",
      "    standard_name:  air_temperature\n",
      "    cell_methods:   time: mean\n"
     ]
    }
   ],
   "source": [
    "# interpolate xarray datavariable on eta hybrid surfaces to 20 pressure levels\n",
    "Tin = DS.T\n",
    "Tin = Tin.squeeze()\n",
    "#print(\"Tin\",Tin)\n",
    "\n",
    "# calculate the pressure levels for the model from PS and the hybrid coordinates\n",
    "Pin = (DS.hyam*DS.P0 + DS.hybm*DS.PS)/100.\n",
    "Pin.attrs[\"units\"] = 'hPa'\n",
    "Pin.attrs[\"long_name\"] = 'Pressure'\n",
    "Pin = Pin.squeeze()\n",
    "\n",
    "# specify the pressures to interpolate to\n",
    "nzout = 20\n",
    "pout = np.linspace(1.,1000.,nzout)\n",
    "\n",
    "\n",
    "Tout = hy2plev(Tin, Pin, pout)\n",
    "print('Tout',Tout)"
   ]
  },
  {
   "cell_type": "code",
   "execution_count": 6,
   "metadata": {},
   "outputs": [
    {
     "name": "stdout",
     "output_type": "stream",
     "text": [
      "xxx -35.98099838266331 321.74210020666715\n",
      "ind 10 -35.98099838266331 321.74210020666715\n"
     ]
    }
   ],
   "source": [
    "def gcd(lon1, lat1, lon2, lat2):\n",
    "    \"\"\"calculate great circle distance in km\n",
    "       given input longitude and latitudes in degrees\n",
    "    \"\"\"\n",
    "    d2r = 57.296\n",
    "    lonr1 = lon1/d2r\n",
    "    latr1 = lat1/d2r\n",
    "    lonr2 = lon2/d2r\n",
    "    latr2 = lat2/d2r\n",
    "\n",
    "    d = 6371.*(np.arccos(np.sin(latr1) * np.sin(latr2) + np.cos(latr1) * np.cos(latr2) * np.cos(lonr1 - lonr2)))\n",
    "    return d\n",
    "\n",
    "lat = DS['lat'].values#[0,:]\n",
    "lon = DS['lon'].values#[0,:]\n",
    "print('xxx',lat[10],lon[10])\n",
    "tlon = 321.6\n",
    "tlat = -35.8\n",
    "dd = gcd(lon,lat, tlon, tlat)\n",
    "\n",
    "ind = np.where(dd == np.min(dd))\n",
    "ind = int(ind[0])\n",
    "print('ind',ind,lat[ind],lon[ind])"
   ]
  },
  {
   "cell_type": "code",
   "execution_count": 7,
   "metadata": {},
   "outputs": [
    {
     "name": "stdout",
     "output_type": "stream",
     "text": [
      "dist 0.7500003953503928 -88.93939984132163 117.94418571451939\n",
      "xxx 1.061000000000007\n",
      "ind 16260 -88.93939984132163 44.99999999999992\n"
     ]
    },
    {
     "data": {
      "image/png": "[encoded data removed]",
      "text/plain": [
       "<Figure size 432x288 with 1 Axes>"
      ]
     },
     "metadata": {
      "needs_background": "light"
     },
     "output_type": "display_data"
    }
   ],
   "source": [
    "# plot a column specified by xlook and ylook for fields specified on a cubed sphere grid\n",
    "xlook = 0.\n",
    "ylook = -90.\n",
    "lat = DS['lat'].values#[0,:]\n",
    "lon = DS['lon'].values#[0,:]\n",
    "#dist = np.abs(ylook-lat) + np.abs(xlook-lon)\n",
    "dist = gcd(lon,lat, xlook, ylook)\n",
    "\n",
    "print('dist',lon.min(),lat.min(),dist.min())\n",
    "print('xxx',-88.939-ylook)\n",
    "# find the index closest to xlook ylook\n",
    "ind = np.where(dist == np.min(dist))\n",
    "ind = int(ind[0])\n",
    "print('ind',ind,lat[ind],lon[ind])\n",
    "Toutm = Tout[:,ind]\n",
    "pl = Toutm.plot(y=\"plev\",yincrease=False)"
   ]
  },
  {
   "cell_type": "code",
   "execution_count": 8,
   "metadata": {},
   "outputs": [
    {
     "name": "stdout",
     "output_type": "stream",
     "text": [
      "dmin,dmax 246.86406668657014 298.17111960514734\n"
     ]
    },
    {
     "ename": "RuntimeError",
     "evalue": "Error in qhull Delaunay triangulation calculation: input inconsistency (exitcode=1); use python verbose option (-v) to see original qhull error.",
     "output_type": "error",
     "traceback": [
      "\u001b[0;31m---------------------------------------------------------------------------\u001b[0m",
      "\u001b[0;31mRuntimeError\u001b[0m                              Traceback (most recent call last)",
      "Input \u001b[0;32mIn [8]\u001b[0m, in \u001b[0;36m<module>\u001b[0;34m\u001b[0m\n\u001b[1;32m     44\u001b[0m dmax \u001b[38;5;241m=\u001b[39m datai\u001b[38;5;241m.\u001b[39mmax()\u001b[38;5;241m.\u001b[39mvalues\n\u001b[1;32m     45\u001b[0m \u001b[38;5;28mprint\u001b[39m(\u001b[38;5;124m'\u001b[39m\u001b[38;5;124mdmin,dmax\u001b[39m\u001b[38;5;124m'\u001b[39m,dmin,dmax)\n\u001b[0;32m---> 46\u001b[0m pl \u001b[38;5;241m=\u001b[39m \u001b[43max\u001b[49m\u001b[38;5;241;43m.\u001b[39;49m\u001b[43mtripcolor\u001b[49m\u001b[43m(\u001b[49m\u001b[43mtc\u001b[49m\u001b[43m[\u001b[49m\u001b[43m:\u001b[49m\u001b[43m,\u001b[49m\u001b[38;5;241;43m0\u001b[39;49m\u001b[43m]\u001b[49m\u001b[43m,\u001b[49m\u001b[43mtc\u001b[49m\u001b[43m[\u001b[49m\u001b[43m:\u001b[49m\u001b[43m,\u001b[49m\u001b[38;5;241;43m1\u001b[39;49m\u001b[43m]\u001b[49m\u001b[43m,\u001b[49m\u001b[43m \u001b[49m\u001b[43mdatai\u001b[49m\u001b[43m,\u001b[49m\u001b[43mshading\u001b[49m\u001b[38;5;241;43m=\u001b[39;49m\u001b[38;5;124;43m'\u001b[39;49m\u001b[38;5;124;43mgouraud\u001b[39;49m\u001b[38;5;124;43m'\u001b[39;49m\u001b[43m,\u001b[49m\u001b[43mvmin\u001b[49m\u001b[38;5;241;43m=\u001b[39;49m\u001b[43mdmin\u001b[49m\u001b[43m,\u001b[49m\u001b[43mvmax\u001b[49m\u001b[38;5;241;43m=\u001b[39;49m\u001b[43mdmax\u001b[49m\u001b[43m)\u001b[49m \u001b[38;5;66;03m# looks good\u001b[39;00m\n\u001b[1;32m     47\u001b[0m \u001b[38;5;66;03m#pl = ax.tripcolor(tc[:,0],tc[:,1], datai,shading='flat') # looks bad\u001b[39;00m\n\u001b[1;32m     48\u001b[0m \u001b[38;5;66;03m# Add colorbar to plot\u001b[39;00m\n\u001b[1;32m     49\u001b[0m cb \u001b[38;5;241m=\u001b[39m plt\u001b[38;5;241m.\u001b[39mcolorbar(\n\u001b[1;32m     50\u001b[0m     pl, orientation\u001b[38;5;241m=\u001b[39m\u001b[38;5;124m'\u001b[39m\u001b[38;5;124mhorizontal\u001b[39m\u001b[38;5;124m'\u001b[39m,\n\u001b[1;32m     51\u001b[0m     label\u001b[38;5;241m=\u001b[39m\u001b[38;5;124m'\u001b[39m\u001b[38;5;132;01m%s\u001b[39;00m\u001b[38;5;124m (\u001b[39m\u001b[38;5;132;01m%s\u001b[39;00m\u001b[38;5;124m)\u001b[39m\u001b[38;5;124m'\u001b[39m\u001b[38;5;241m%\u001b[39m(data\u001b[38;5;241m.\u001b[39mlong_name, data\u001b[38;5;241m.\u001b[39munits), pad\u001b[38;5;241m=\u001b[39m\u001b[38;5;241m0.05\u001b[39m\n\u001b[1;32m     52\u001b[0m )\n",
      "File \u001b[0;32m~/miniconda3/envs/pjrpy3/lib/python3.10/site-packages/matplotlib/tri/tripcolor.py:49\u001b[0m, in \u001b[0;36mtripcolor\u001b[0;34m(ax, alpha, norm, cmap, vmin, vmax, shading, facecolors, *args, **kwargs)\u001b[0m\n\u001b[1;32m     11\u001b[0m \u001b[38;5;124;03m\"\"\"\u001b[39;00m\n\u001b[1;32m     12\u001b[0m \u001b[38;5;124;03mCreate a pseudocolor plot of an unstructured triangular grid.\u001b[39;00m\n\u001b[1;32m     13\u001b[0m \n\u001b[0;32m   (...)\u001b[0m\n\u001b[1;32m     45\u001b[0m \u001b[38;5;124;03mThe remaining kwargs are the same as for `~.Axes.pcolor`.\u001b[39;00m\n\u001b[1;32m     46\u001b[0m \u001b[38;5;124;03m\"\"\"\u001b[39;00m\n\u001b[1;32m     47\u001b[0m _api\u001b[38;5;241m.\u001b[39mcheck_in_list([\u001b[38;5;124m'\u001b[39m\u001b[38;5;124mflat\u001b[39m\u001b[38;5;124m'\u001b[39m, \u001b[38;5;124m'\u001b[39m\u001b[38;5;124mgouraud\u001b[39m\u001b[38;5;124m'\u001b[39m], shading\u001b[38;5;241m=\u001b[39mshading)\n\u001b[0;32m---> 49\u001b[0m tri, args, kwargs \u001b[38;5;241m=\u001b[39m \u001b[43mTriangulation\u001b[49m\u001b[38;5;241;43m.\u001b[39;49m\u001b[43mget_from_args_and_kwargs\u001b[49m\u001b[43m(\u001b[49m\u001b[38;5;241;43m*\u001b[39;49m\u001b[43margs\u001b[49m\u001b[43m,\u001b[49m\u001b[43m \u001b[49m\u001b[38;5;241;43m*\u001b[39;49m\u001b[38;5;241;43m*\u001b[39;49m\u001b[43mkwargs\u001b[49m\u001b[43m)\u001b[49m\n\u001b[1;32m     51\u001b[0m \u001b[38;5;66;03m# C is the colors array defined at either points or faces (i.e. triangles).\u001b[39;00m\n\u001b[1;32m     52\u001b[0m \u001b[38;5;66;03m# If facecolors is None, C are defined at points.\u001b[39;00m\n\u001b[1;32m     53\u001b[0m \u001b[38;5;66;03m# If facecolors is not None, C are defined at faces.\u001b[39;00m\n\u001b[1;32m     54\u001b[0m \u001b[38;5;28;01mif\u001b[39;00m facecolors \u001b[38;5;129;01mis\u001b[39;00m \u001b[38;5;129;01mnot\u001b[39;00m \u001b[38;5;28;01mNone\u001b[39;00m:\n",
      "File \u001b[0;32m~/miniconda3/envs/pjrpy3/lib/python3.10/site-packages/matplotlib/tri/triangulation.py:164\u001b[0m, in \u001b[0;36mTriangulation.get_from_args_and_kwargs\u001b[0;34m(*args, **kwargs)\u001b[0m\n\u001b[1;32m    161\u001b[0m     \u001b[38;5;66;03m# Check for mask in kwargs.\u001b[39;00m\n\u001b[1;32m    162\u001b[0m     mask \u001b[38;5;241m=\u001b[39m kwargs\u001b[38;5;241m.\u001b[39mpop(\u001b[38;5;124m'\u001b[39m\u001b[38;5;124mmask\u001b[39m\u001b[38;5;124m'\u001b[39m, \u001b[38;5;28;01mNone\u001b[39;00m)\n\u001b[0;32m--> 164\u001b[0m     triangulation \u001b[38;5;241m=\u001b[39m \u001b[43mTriangulation\u001b[49m\u001b[43m(\u001b[49m\u001b[43mx\u001b[49m\u001b[43m,\u001b[49m\u001b[43m \u001b[49m\u001b[43my\u001b[49m\u001b[43m,\u001b[49m\u001b[43m \u001b[49m\u001b[43mtriangles\u001b[49m\u001b[43m,\u001b[49m\u001b[43m \u001b[49m\u001b[43mmask\u001b[49m\u001b[43m)\u001b[49m\n\u001b[1;32m    165\u001b[0m \u001b[38;5;28;01mreturn\u001b[39;00m triangulation, args, kwargs\n",
      "File \u001b[0;32m~/miniconda3/envs/pjrpy3/lib/python3.10/site-packages/matplotlib/tri/triangulation.py:54\u001b[0m, in \u001b[0;36mTriangulation.__init__\u001b[0;34m(self, x, y, triangles, mask)\u001b[0m\n\u001b[1;32m     49\u001b[0m \u001b[38;5;28mself\u001b[39m\u001b[38;5;241m.\u001b[39mis_delaunay \u001b[38;5;241m=\u001b[39m \u001b[38;5;28;01mFalse\u001b[39;00m\n\u001b[1;32m     51\u001b[0m \u001b[38;5;28;01mif\u001b[39;00m triangles \u001b[38;5;129;01mis\u001b[39;00m \u001b[38;5;28;01mNone\u001b[39;00m:\n\u001b[1;32m     52\u001b[0m     \u001b[38;5;66;03m# No triangulation specified, so use matplotlib._qhull to obtain\u001b[39;00m\n\u001b[1;32m     53\u001b[0m     \u001b[38;5;66;03m# Delaunay triangulation.\u001b[39;00m\n\u001b[0;32m---> 54\u001b[0m     \u001b[38;5;28mself\u001b[39m\u001b[38;5;241m.\u001b[39mtriangles, \u001b[38;5;28mself\u001b[39m\u001b[38;5;241m.\u001b[39m_neighbors \u001b[38;5;241m=\u001b[39m \u001b[43m_qhull\u001b[49m\u001b[38;5;241;43m.\u001b[39;49m\u001b[43mdelaunay\u001b[49m\u001b[43m(\u001b[49m\u001b[43mx\u001b[49m\u001b[43m,\u001b[49m\u001b[43m \u001b[49m\u001b[43my\u001b[49m\u001b[43m)\u001b[49m\n\u001b[1;32m     55\u001b[0m     \u001b[38;5;28mself\u001b[39m\u001b[38;5;241m.\u001b[39mis_delaunay \u001b[38;5;241m=\u001b[39m \u001b[38;5;28;01mTrue\u001b[39;00m\n\u001b[1;32m     56\u001b[0m \u001b[38;5;28;01melse\u001b[39;00m:\n\u001b[1;32m     57\u001b[0m     \u001b[38;5;66;03m# Triangulation specified. Copy, since we may correct triangle\u001b[39;00m\n\u001b[1;32m     58\u001b[0m     \u001b[38;5;66;03m# orientation.\u001b[39;00m\n",
      "\u001b[0;31mRuntimeError\u001b[0m: Error in qhull Delaunay triangulation calculation: input inconsistency (exitcode=1); use python verbose option (-v) to see original qhull error."
     ]
    },
    {
     "data": {
      "image/png": "[encoded data removed]",
      "text/plain": [
       "<Figure size 432x288 with 1 Axes>"
      ]
     },
     "metadata": {
      "needs_background": "light"
     },
     "output_type": "display_data"
    }
   ],
   "source": [
    "# a simple method to plot a horizontal field using a map projection.\n",
    "# this method is fine for plots where you dont care too much about the exact shape of the cells\n",
    "# the plot uses triangulation from cell center to cell center. Other methods are better for knowing exactly the shape of each cell\n",
    "\n",
    "#indir = os.path.expanduser('/lustre/choi040/20210920.F2010.1Nudg.ne30pg2_r05_oECv3/run/20210920.F2010.1Nudg.ne30pg2_r05_oECv3.eam.h0.2015-01.nc')\n",
    "DS = xr.open_mfdataset(indir).chunk({'time': 20})\n",
    "Tout = DS.PS.isel(time=0)\n",
    "#indir = os.path.expanduser('/lustre/choi040/20210920.F2010.1Nudg.ne30pg2_r05_oECv3/run/20210920.F2010.1Nudg.ne30pg2_r05_oECv3.eam.h2.2015-01-01-00000.nc')\n",
    "#DS = xr.open_mfdataset(indir).chunk({'time': 20})\n",
    "#Tout = DS.T850.isel(time=0)\n",
    "\n",
    "#gridfile = '/lustre/d3x345/maps/ne30pg2_scrip_c20191218.nc'\n",
    "\n",
    "Tin = DS.T\n",
    "Tin = Tin.squeeze()\n",
    "\n",
    "Pin = (DS.hyam*DS.P0 + DS.hybm*DS.PS)/100.\n",
    "Pin.attrs[\"units\"] = 'hPa'\n",
    "Pin.attrs[\"long_name\"] = 'Pressure'\n",
    "Pin = Pin.squeeze()\n",
    "\n",
    "pout = 850.\n",
    "\n",
    "Tout2 = hy2plev(Tin, Pin, pout).squeeze()\n",
    "\n",
    "# Read data\n",
    "data = Tout2\n",
    "\n",
    "lon = DS['lon']\n",
    "lat = DS['lat']\n",
    "\n",
    "dataproj=ccrs.PlateCarree()    # data is always assumed to be lat/lon\n",
    "plotproj=ccrs.Orthographic(central_latitude=-50)   # any projections should work \n",
    "ax = plt.axes(projection=plotproj)\n",
    "ax.set_global()\n",
    "ax.coastlines(linewidth=0.2)\n",
    "\n",
    "tcoords = plotproj.transform_points(dataproj,np.array(lon[:]),np.array(lat[:]))\n",
    "data2d = data\n",
    "xi=tcoords[:,0]!=np.inf\n",
    "tc=tcoords[xi,:]\n",
    "datai=data2d[:][xi]  # convert to numpy array, then subset\n",
    "dmin = datai.min().values\n",
    "dmax = datai.max().values\n",
    "print('dmin,dmax',dmin,dmax)\n",
    "pl = ax.tripcolor(tc[:,0],tc[:,1], datai,shading='gouraud',vmin=dmin,vmax=dmax) # looks good\n",
    "#pl = ax.tripcolor(tc[:,0],tc[:,1], datai,shading='flat') # looks bad\n",
    "# Add colorbar to plot\n",
    "cb = plt.colorbar(\n",
    "    pl, orientation='horizontal',\n",
    "    label='%s (%s)'%(data.long_name, data.units), pad=0.05\n",
    ")\n",
    "plt.show"
   ]
  },
  {
   "cell_type": "code",
   "execution_count": 9,
   "metadata": {},
   "outputs": [
    {
     "data": {
      "text/plain": [
       "<function matplotlib.pyplot.show(close=None, block=None)>"
      ]
     },
     "execution_count": 9,
     "metadata": {},
     "output_type": "execute_result"
    },
    {
     "data": {
      "image/png": "[encoded data removed]",
      "text/plain": [
       "<Figure size 432x288 with 2 Axes>"
      ]
     },
     "metadata": {
      "needs_background": "light"
     },
     "output_type": "display_data"
    }
   ],
   "source": [
    "# create a regular lat/lon grid\n",
    "# OK for quick and dirty plotting, but leaves NaNs near domain edges\n",
    "from scipy.interpolate import griddata\n",
    "import numpy\n",
    "\n",
    "xi = numpy.linspace(0, 360, 361)  # to regrid to 1/2 degree\n",
    "yi = numpy.linspace(-90, 90, 181)  # to regrid to 1/2 degree\n",
    "\n",
    "data_regridded = griddata((lon, lat), data2d, (xi[None,:], yi[:,None]), method='linear')\n",
    "df = data_regridded.flatten()\n",
    "dsub = df[np.isfinite(df)] # ignore NaN\n",
    "zmax = dsub.max()\n",
    "zmin = dsub.min()\n",
    "\n",
    "dataproj=ccrs.PlateCarree()    # data is always assumed to be lat/lon\n",
    "plotproj=ccrs.Orthographic(central_latitude=-50)   # any projections should work \n",
    "ax = plt.axes(projection=plotproj)\n",
    "ax.set_global()\n",
    "ax.coastlines(linewidth=0.2)\n",
    "clevs = findNiceContours(np.array([dmin,dmax]),nlevs=10)\n",
    "pl = ax.contourf(xi, yi, data_regridded, clevs, vmin=dmin, vmax=dmax,  extend='both', transform=ccrs.PlateCarree())\n",
    "# Add colorbar to plot\n",
    "cb = plt.colorbar(\n",
    "    pl, orientation='horizontal',ticks=clevs,\n",
    "    label='%s (%s)'%(data.long_name, data.units), pad=0.05\n",
    ")\n",
    "plt.show"
   ]
  }
 ],
 "metadata": {
  "kernelspec": {
   "display_name": "Python [conda env:pjrpy3] *",
   "language": "python",
   "name": "conda-env-pjrpy3-py"
  },
  "language_info": {
   "codemirror_mode": {
    "name": "ipython",
    "version": 3
   },
   "file_extension": ".py",
   "mimetype": "text/x-python",
   "name": "python",
   "nbconvert_exporter": "python",
   "pygments_lexer": "ipython3",
   "version": "3.10.1"
  },
  "selected_variables": [],
  "vcdat_file_path": "",
  "vcdat_loaded_variables": [],
  "vcdat_variable_info": {}
 },
 "nbformat": 4,
 "nbformat_minor": 4
}
