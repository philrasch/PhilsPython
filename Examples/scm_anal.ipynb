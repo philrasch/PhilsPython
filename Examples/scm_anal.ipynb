{
 "cells": [
  {
   "cell_type": "code",
   "execution_count": 2,
   "metadata": {},
   "outputs": [
    {
     "name": "stdout",
     "output_type": "stream",
     "text": [
      "3.7.10 | packaged by conda-forge | (default, Feb 19 2021, 15:59:12) \n",
      "[Clang 11.0.1 ]\n",
      "pjr3.py complete\n",
      "xxx\n"
     ]
    }
   ],
   "source": [
    "import sys\n",
    "print(sys.version)\n",
    "%matplotlib inline\n",
    "%run -i ~/Python/pjr3\n",
    "print('xxx')"
   ]
  },
  {
   "cell_type": "code",
   "execution_count": 3,
   "metadata": {},
   "outputs": [
    {
     "name": "stdout",
     "output_type": "stream",
     "text": [
      "WE36375\n",
      "/Users/d3x345/projects/e3sm/scratch/SCM_runs/e3sm_scm_TWP06/run/e3sm_scm_TWP06.eam.h0.2006-01-17-10800.nc\n",
      "x1 ['2006-01-17T03:00:00.000000000' '2006-01-17T03:30:00.000000000'\n",
      " '2006-01-17T04:00:00.000000000' '2006-01-17T04:30:00.000000000'\n",
      " '2006-01-17T05:00:00.000000000' '2006-01-17T05:30:00.000000000'\n",
      " '2006-01-17T06:00:00.000000000' '2006-01-17T06:30:00.000000000'\n",
      " '2006-01-17T07:00:00.000000000' '2006-01-17T07:30:00.000000000'\n",
      " '2006-01-17T08:00:00.000000000' '2006-01-17T08:30:00.000000000'\n",
      " '2006-01-17T09:00:00.000000000' '2006-01-17T09:30:00.000000000'\n",
      " '2006-01-17T10:00:00.000000000' '2006-01-17T10:30:00.000000000'\n",
      " '2006-01-17T11:00:00.000000000' '2006-01-17T11:30:00.000000000'\n",
      " '2006-01-17T12:00:00.000000000' '2006-01-17T12:30:00.000000000'\n",
      " '2006-01-17T13:00:00.000000000' '2006-01-17T13:30:00.000000000'\n",
      " '2006-01-17T14:00:00.000000000' '2006-01-17T14:30:00.000000000'\n",
      " '2006-01-17T15:00:00.000000000' '2006-01-17T15:30:00.000000000'\n",
      " '2006-01-17T16:00:00.000000000' '2006-01-17T16:30:00.000000000'\n",
      " '2006-01-17T17:00:00.000000000' '2006-01-17T17:30:00.000000000'\n",
      " '2006-01-17T18:00:00.000000000' '2006-01-17T18:30:00.000000000'\n",
      " '2006-01-17T19:00:00.000000000' '2006-01-17T19:30:00.000000000'\n",
      " '2006-01-17T20:00:00.000000000' '2006-01-17T20:30:00.000000000'\n",
      " '2006-01-17T21:00:00.000000000' '2006-01-17T21:30:00.000000000'\n",
      " '2006-01-17T22:00:00.000000000' '2006-01-17T22:30:00.000000000'\n",
      " '2006-01-17T23:00:00.000000000' '2006-01-17T23:30:00.000000000'\n",
      " '2006-01-18T00:00:00.000000000' '2006-01-18T00:30:00.000000000'\n",
      " '2006-01-18T01:00:00.000000000' '2006-01-18T01:30:00.000000000'\n",
      " '2006-01-18T02:00:00.000000000' '2006-01-18T02:30:00.000000000'\n",
      " '2006-01-18T03:00:00.000000000']\n",
      "time ['2006-01-17T03:00:00.000000000' '2006-01-17T03:30:00.000000000'\n",
      " '2006-01-17T04:00:00.000000000' '2006-01-17T04:30:00.000000000'\n",
      " '2006-01-17T05:00:00.000000000' '2006-01-17T05:30:00.000000000'\n",
      " '2006-01-17T06:00:00.000000000' '2006-01-17T06:30:00.000000000'\n",
      " '2006-01-17T07:00:00.000000000' '2006-01-17T07:30:00.000000000'\n",
      " '2006-01-17T08:00:00.000000000' '2006-01-17T08:30:00.000000000'\n",
      " '2006-01-17T09:00:00.000000000' '2006-01-17T09:30:00.000000000'\n",
      " '2006-01-17T10:00:00.000000000' '2006-01-17T10:30:00.000000000'\n",
      " '2006-01-17T11:00:00.000000000' '2006-01-17T11:30:00.000000000'\n",
      " '2006-01-17T12:00:00.000000000' '2006-01-17T12:30:00.000000000'\n",
      " '2006-01-17T13:00:00.000000000' '2006-01-17T13:30:00.000000000'\n",
      " '2006-01-17T14:00:00.000000000' '2006-01-17T14:30:00.000000000'\n",
      " '2006-01-17T15:00:00.000000000' '2006-01-17T15:30:00.000000000'\n",
      " '2006-01-17T16:00:00.000000000' '2006-01-17T16:30:00.000000000'\n",
      " '2006-01-17T17:00:00.000000000' '2006-01-17T17:30:00.000000000'\n",
      " '2006-01-17T18:00:00.000000000' '2006-01-17T18:30:00.000000000'\n",
      " '2006-01-17T19:00:00.000000000' '2006-01-17T19:30:00.000000000'\n",
      " '2006-01-17T20:00:00.000000000' '2006-01-17T20:30:00.000000000'\n",
      " '2006-01-17T21:00:00.000000000' '2006-01-17T21:30:00.000000000'\n",
      " '2006-01-17T22:00:00.000000000' '2006-01-17T22:30:00.000000000'\n",
      " '2006-01-17T23:00:00.000000000' '2006-01-17T23:30:00.000000000'\n",
      " '2006-01-18T00:00:00.000000000' '2006-01-18T00:30:00.000000000'\n",
      " '2006-01-18T01:00:00.000000000' '2006-01-18T01:30:00.000000000'\n",
      " '2006-01-18T02:00:00.000000000' '2006-01-18T02:30:00.000000000'\n",
      " '2006-01-18T03:00:00.000000000']\n",
      "tb [['2006-01-17T03:00:00.000000000' '2006-01-17T03:00:00.000000000']\n",
      " ['2006-01-17T03:00:00.000000000' '2006-01-17T03:30:00.000000000']\n",
      " ['2006-01-17T03:30:00.000000000' '2006-01-17T04:00:00.000000000']\n",
      " ['2006-01-17T04:00:00.000000000' '2006-01-17T04:30:00.000000000']\n",
      " ['2006-01-17T04:30:00.000000000' '2006-01-17T05:00:00.000000000']\n",
      " ['2006-01-17T05:00:00.000000000' '2006-01-17T05:30:00.000000000']\n",
      " ['2006-01-17T05:30:00.000000000' '2006-01-17T06:00:00.000000000']\n",
      " ['2006-01-17T06:00:00.000000000' '2006-01-17T06:30:00.000000000']\n",
      " ['2006-01-17T06:30:00.000000000' '2006-01-17T07:00:00.000000000']\n",
      " ['2006-01-17T07:00:00.000000000' '2006-01-17T07:30:00.000000000']\n",
      " ['2006-01-17T07:30:00.000000000' '2006-01-17T08:00:00.000000000']\n",
      " ['2006-01-17T08:00:00.000000000' '2006-01-17T08:30:00.000000000']\n",
      " ['2006-01-17T08:30:00.000000000' '2006-01-17T09:00:00.000000000']\n",
      " ['2006-01-17T09:00:00.000000000' '2006-01-17T09:30:00.000000000']\n",
      " ['2006-01-17T09:30:00.000000000' '2006-01-17T10:00:00.000000000']\n",
      " ['2006-01-17T10:00:00.000000000' '2006-01-17T10:30:00.000000000']\n",
      " ['2006-01-17T10:30:00.000000000' '2006-01-17T11:00:00.000000000']\n",
      " ['2006-01-17T11:00:00.000000000' '2006-01-17T11:30:00.000000000']\n",
      " ['2006-01-17T11:30:00.000000000' '2006-01-17T12:00:00.000000000']\n",
      " ['2006-01-17T12:00:00.000000000' '2006-01-17T12:30:00.000000000']\n",
      " ['2006-01-17T12:30:00.000000000' '2006-01-17T13:00:00.000000000']\n",
      " ['2006-01-17T13:00:00.000000000' '2006-01-17T13:30:00.000000000']\n",
      " ['2006-01-17T13:30:00.000000000' '2006-01-17T14:00:00.000000000']\n",
      " ['2006-01-17T14:00:00.000000000' '2006-01-17T14:30:00.000000000']\n",
      " ['2006-01-17T14:30:00.000000000' '2006-01-17T15:00:00.000000000']\n",
      " ['2006-01-17T15:00:00.000000000' '2006-01-17T15:30:00.000000000']\n",
      " ['2006-01-17T15:30:00.000000000' '2006-01-17T16:00:00.000000000']\n",
      " ['2006-01-17T16:00:00.000000000' '2006-01-17T16:30:00.000000000']\n",
      " ['2006-01-17T16:30:00.000000000' '2006-01-17T17:00:00.000000000']\n",
      " ['2006-01-17T17:00:00.000000000' '2006-01-17T17:30:00.000000000']\n",
      " ['2006-01-17T17:30:00.000000000' '2006-01-17T18:00:00.000000000']\n",
      " ['2006-01-17T18:00:00.000000000' '2006-01-17T18:30:00.000000000']\n",
      " ['2006-01-17T18:30:00.000000000' '2006-01-17T19:00:00.000000000']\n",
      " ['2006-01-17T19:00:00.000000000' '2006-01-17T19:30:00.000000000']\n",
      " ['2006-01-17T19:30:00.000000000' '2006-01-17T20:00:00.000000000']\n",
      " ['2006-01-17T20:00:00.000000000' '2006-01-17T20:30:00.000000000']\n",
      " ['2006-01-17T20:30:00.000000000' '2006-01-17T21:00:00.000000000']\n",
      " ['2006-01-17T21:00:00.000000000' '2006-01-17T21:30:00.000000000']\n",
      " ['2006-01-17T21:30:00.000000000' '2006-01-17T22:00:00.000000000']\n",
      " ['2006-01-17T22:00:00.000000000' '2006-01-17T22:30:00.000000000']\n",
      " ['2006-01-17T22:30:00.000000000' '2006-01-17T23:00:00.000000000']\n",
      " ['2006-01-17T23:00:00.000000000' '2006-01-17T23:30:00.000000000']\n",
      " ['2006-01-17T23:30:00.000000000' '2006-01-18T00:00:00.000000000']\n",
      " ['2006-01-18T00:00:00.000000000' '2006-01-18T00:30:00.000000000']\n",
      " ['2006-01-18T00:30:00.000000000' '2006-01-18T01:00:00.000000000']\n",
      " ['2006-01-18T01:00:00.000000000' '2006-01-18T01:30:00.000000000']\n",
      " ['2006-01-18T01:30:00.000000000' '2006-01-18T02:00:00.000000000']\n",
      " ['2006-01-18T02:00:00.000000000' '2006-01-18T02:30:00.000000000']\n",
      " ['2006-01-18T02:30:00.000000000' '2006-01-18T03:00:00.000000000']]\n"
     ]
    },
    {
     "data": {
      "image/png": "[encoded data removed]",
      "text/plain": [
       "<Figure size 432x288 with 1 Axes>"
      ]
     },
     "metadata": {
      "needs_background": "light"
     },
     "output_type": "display_data"
    }
   ],
   "source": [
    "import os\n",
    "import platform\n",
    "host = platform.node()\n",
    "print(host)\n",
    "resolution = 'low'\n",
    "if ('sooty' in host):\n",
    "    if (resolution == 'low'):\n",
    "        indir = 'x'\n",
    "    else:\n",
    "        indir = 'y'\n",
    "    indir = '/lustre/d3x345/E3SM_prodsims/20210720.F2010.ne30pg2_r05_PJR2b.ne30pg2_r05_oECv3/tests/S_1x10_ndays/run/climo_ne30/20210720.F2010.ne30pg2_r05_PJR2b.ne30pg2_r05_oECv3_ANN_000101_000212_climo.nc'\n",
    "#    indir = '/home/d3x345/20210720.F2010.ne30pg2_r05_PJR2d.ne30pg2_r05_oECv3_ANN_000101_000212_climo.nc'\n",
    "else:\n",
    "    indir = os.path.expanduser('~/NetCDF_Files/vd05_ANN_climo.nc')\n",
    "indir = '/Users/d3x345/projects/e3sm/scratch/SCM_runs/e3sm_scm_TWP06/run/e3sm_scm_TWP06.eam.h0.2006-01-17-10800.nc'\n",
    "print(indir)\n",
    "#print('exists',os.path.exists(indir))\n",
    "DS = xr.open_mfdataset(indir) #.chunk({'time': 20})\n",
    "#print(DS)\n",
    "weights = DS.area\n",
    "weights.name = 'weights'\n",
    "#print(weights)\n",
    "#print(weights.sum(),4.*pi)\n",
    "#Var = DS.FSNT.isel(time=0)\n",
    "varname = 'FLNT'\n",
    "LF = DS['LANDFRAC']\n",
    "OF = DS['OCNFRAC']\n",
    "IF = DS['ICEFRAC']\n",
    "Var = DS[varname]\n",
    "#print(Var)\n",
    "#Var.plot()\n",
    "Cloud = DS['CLOUD']\n",
    "#Cloud.plot(x='time',yincrease=False)\n",
    "Precc = DS['PRECC']*8.64e7\n",
    "Precc['units'] = 'mm/day'\n",
    "Precc.plot()\n",
    "print('x1',Precc['time'].values)\n",
    "# the time coord is registered at the end of the time averaging interval\n",
    "# determine the midpoint of the interval and the length of the interval, \n",
    "time = DS['time']\n",
    "print('time',time.values)\n",
    "bndname = time.attrs['bounds']\n",
    "time_bnds = DS[bndname]\n",
    "tb = time_bnds.values\n",
    "print('tb',tb)"
   ]
  },
  {
   "cell_type": "code",
   "execution_count": null,
   "metadata": {},
   "outputs": [],
   "source": [
    "indira = '/lustre/d3x345/E3SM_prodsims/20210720.F2010.ne30pg2_r05_PJR2b.ne30pg2_r05_oECv3/tests/S_1x10_ndays/run/*.eam.h0.*.nc'\n",
    "DSA = xr.open_mfdataset(indira)\n",
    "print(DSA)\n"
   ]
  },
  {
   "cell_type": "code",
   "execution_count": null,
   "metadata": {},
   "outputs": [],
   "source": [
    "# the time coord is registered at the end of the time averaging interval\n",
    "# determine the midpoint of the interval and the length of the interval, \n",
    "time = DSA['time']\n",
    "print('time',time)\n",
    "bndname = time.attrs['bounds']\n",
    "time_bnds = DSA[bndname]\n",
    "tb = time_bnds.values\n",
    "tint = (tb[:,1]-tb[:,0])\n",
    "tbm = tint/2. + tb[:,0]\n"
   ]
  },
  {
   "cell_type": "code",
   "execution_count": null,
   "metadata": {},
   "outputs": [],
   "source": [
    "# reset the time coordinate, and make sure it keeps its original attributes\n",
    "DSA.coords[\"time\"] = tbm\n",
    "DSA['time'].attrs['long_name'] = 'time'\n",
    "DSA['time'].attrs['bounds'] = 'time_bnds'\n",
    "print(DSA)"
   ]
  },
  {
   "cell_type": "code",
   "execution_count": null,
   "metadata": {},
   "outputs": [],
   "source": [
    "# assuming we are using monthly mean history files\n",
    "# calculate the number of days per month and convert to a dataarray with same time coord\n",
    "\n",
    "#print('tttdays',ttt.astype(int))\n",
    "##print(tint)\n",
    "#print(tint.shape, type(tint[0]), tint.astype(\"timedelta64[D]\").astype(float)  )\n",
    "#DSA.coords[\"days_in_month\"]\n",
    "#DSA.coords[\"days_in_month\"] = tint.astype(\"timedelta64[D]\").astype(int) \n",
    "#dpm = xr.DataArray(dims='time',data=DSA['days_in_month'].values)\n",
    "dpm = xr.DataArray(dims='time',data=tint.astype(\"timedelta64[D]\").astype(int))\n",
    "dpm = dpm.assign_coords(time=DSA['time'])\n",
    "print(dpm)"
   ]
  },
  {
   "cell_type": "code",
   "execution_count": null,
   "metadata": {},
   "outputs": [],
   "source": [
    "RESTOM1 = DSA['FSNT'].sel(time='0001') - DSA['FLNT'].sel(time='0001')\n",
    "RESTOM1 = DSA['FLNT'].sel(time='0001')\n",
    "RESTOM2 = DSA['FSNT'].sel(time='0002') - DSA['FLNT'].sel(time='0002')\n",
    "RESTOMA = DSA['FSNT']-DSA['FLNT']\n",
    "wlocal = weights\n",
    "RESTOM1G = RESTOM1.weighted(wlocal).mean(dim='ncol')\n",
    "RESTOM2G = RESTOM2.weighted(wlocal).mean(dim='ncol')\n",
    "RESTOMAG = RESTOMA.weighted(wlocal).mean(dim='ncol')\n",
    "print('x1', RESTOMAG.values)\n",
    "print('Y1', RESTOM1G.weighted(dpm.sel(time='0001')).mean(dim='time').values)\n",
    "print('Y2', RESTOM2G.weighted(dpm.sel(time='0002')).mean(dim='time').values)\n",
    "print('YA', RESTOMAG.weighted(dpm).mean(dim='time').values)\n"
   ]
  },
  {
   "cell_type": "code",
   "execution_count": null,
   "metadata": {},
   "outputs": [],
   "source": [
    "for x in range(5):\n",
    "    syear = format(x+1, '0004')\n",
    "    print(syear)\n",
    "    RESTOM = DSA['FSNT'].sel(time=syear) - DSA['FLNT'].sel(time=syear)\n",
    "    wlocal = weights\n",
    "    RESTOMG = RESTOM.weighted(wlocal).mean(dim='ncol')\n",
    "    print('syear, RESTOMG', syear, RESTOMG.weighted(dpm).mean(dim='time').values)\n"
   ]
  },
  {
   "cell_type": "markdown",
   "metadata": {},
   "source": [
    "# debugging stuff"
   ]
  },
  {
   "cell_type": "code",
   "execution_count": null,
   "metadata": {},
   "outputs": [],
   "source": [
    "month_length = DSA.time.dt.days_in_month\n",
    "month_length"
   ]
  },
  {
   "cell_type": "code",
   "execution_count": null,
   "metadata": {},
   "outputs": [],
   "source": [
    "DSAY = DSA.groupby(\"time.year\")\n",
    "print(DSAY)\n",
    "print(DSAY.groups)\n",
    "year = 1\n",
    "#print('x1',DSAY[year])\n",
    "#print('x2',DSAY[year].time.dt.days_in_month)\n",
    "FLNT = DSAY[year].FLNT\n",
    "area = DSAY[year].area\n",
    "dinm = DSAY[year].time.dt.days_in_month\n",
    "FLNTG = FLNT.weighted(area).mean('ncol')\n",
    "FLNTGTM = FLNTG.weighted(dinm).mean('time')\n",
    "print(FLNTGTM.values)"
   ]
  },
  {
   "cell_type": "code",
   "execution_count": null,
   "metadata": {},
   "outputs": [],
   "source": [
    "# checking the selection of times\n",
    "SWCF1 = DSA['SWCF'].sel(time='0001')\n",
    "#print(SWCF1)\n",
    "SWCF2 = DSA['SWCF'].sel(time='0002')\n",
    "#print(SWCF2)\n",
    "SWCFA = DSA['SWCF'].sel(time=slice('0001','0003'))\n",
    "print(SWCFA)"
   ]
  },
  {
   "cell_type": "code",
   "execution_count": null,
   "metadata": {},
   "outputs": [],
   "source": [
    "# checking the effect of correct weighting of days per month\n",
    "print('dpm',dpm)\n",
    "print('area wts', type(weights))\n",
    "SWCFAG = SWCFA.weighted(weights).mean(dim='ncol')\n",
    "#print(SWCFAG)\n",
    "print('all months get same weight', SWCFAG.mean().values)\n",
    "print('weighted by days in month', SWCFAG.weighted(dpm).mean(dim='time').values)\n"
   ]
  },
  {
   "cell_type": "code",
   "execution_count": null,
   "metadata": {},
   "outputs": [],
   "source": [
    "import os\n",
    "inCmd='ncdump -h '+indir\n",
    "outCmd = os.popen(inCmd).read()\n",
    "print(inCmd)\n",
    "print(outCmd)"
   ]
  },
  {
   "cell_type": "code",
   "execution_count": null,
   "metadata": {},
   "outputs": [],
   "source": [
    "# understanding datatime behavior\n",
    "import datetime\n",
    "import numpy\n",
    "\n",
    "times = numpy.array([datetime.timedelta(0, 1, 36000)] * 4)\n",
    "print('xxx',times)\n",
    "print('x2',times[0])\n",
    "\n",
    "dt1 = datetime.timedelta(0, 1, 36000)\n",
    "dt2 = datetime.timedelta(2,2,36000)\n",
    "dt3 = datetime.timedelta(0,7,3600)\n",
    "\n",
    "ttt = np.array([dt1,dt2,dt3])\n",
    "print('d1',dt1.days)\n",
    "print('d2',dt2.days)\n",
    "print('d3',dt3.days)\n",
    "print('ttt',ttt)\n",
    "ttt.astype(\"timedelta64[D]\").astype(int)"
   ]
  }
 ],
 "metadata": {
  "kernelspec": {
   "display_name": "pjrpy3",
   "language": "python",
   "name": "pjrpy3"
  },
  "language_info": {
   "codemirror_mode": {
    "name": "ipython",
    "version": 3
   },
   "file_extension": ".py",
   "mimetype": "text/x-python",
   "name": "python",
   "nbconvert_exporter": "python",
   "pygments_lexer": "ipython3",
   "version": "3.7.10"
  },
  "selected_variables": [],
  "vcdat_file_path": "",
  "vcdat_loaded_variables": [],
  "vcdat_variable_info": {}
 },
 "nbformat": 4,
 "nbformat_minor": 4
}
