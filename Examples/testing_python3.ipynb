{
 "cells": [
  {
   "cell_type": "code",
   "execution_count": 1,
   "id": "0bd8729d",
   "metadata": {},
   "outputs": [
    {
     "name": "stdout",
     "output_type": "stream",
     "text": [
      "3.7.12 | packaged by conda-forge | (default, Oct 26 2021, 06:08:53) \n",
      "[GCC 9.4.0]\n",
      "pjr3.py complete\n",
      "xxx\n",
      "jupytext config file is  /global/homes/p/pjr/.config/jupytext\n",
      "['/global/homes/p/pjr/.config/jupytext', '/global/homes/p/pjr/.config', '/global/homes/p/pjr/jupytext', '/global/homes/p/pjr', '/global/common/software/nersc/current/jupyter/xc/test/etc/jupytext/jupytext', '/global/common/software/nersc/current/jupyter/xc/test/etc/jupytext', '/etc/xdg/jupytext', '/etc/xdg']\n",
      "sss\n"
     ]
    }
   ],
   "source": [
    "import sys\n",
    "print(sys.version)\n",
    "%matplotlib inline\n",
    "%run -i ~/Python/pjr3\n",
    "from jupytext.config import find_jupytext_configuration_file\n",
    "print('jupytext config file is ',find_jupytext_configuration_file('.'))"
   ]
  },
  {
   "cell_type": "code",
   "execution_count": null,
   "id": "139fe938",
   "metadata": {},
   "outputs": [],
   "source": [
    "print (\"two vals of pi\", np.pi, pi)"
   ]
  },
  {
   "cell_type": "markdown",
   "id": "6cf78ba1",
   "metadata": {},
   "source": [
    "$$\n",
    "f(t) = \\Sigma_i (a_i cos({2\\pi\\over i} t) + b_i sin({2\\pi\\over i} t)))\n",
    "$$\n"
   ]
  },
  {
   "cell_type": "code",
   "execution_count": null,
   "id": "ed651b38",
   "metadata": {},
   "outputs": [],
   "source": [
    "hy2plev?"
   ]
  },
  {
   "cell_type": "code",
   "execution_count": null,
   "id": "0438a2ae",
   "metadata": {},
   "outputs": [],
   "source": [
    "plotZMf?"
   ]
  },
  {
   "cell_type": "code",
   "execution_count": null,
   "id": "3138fb8b",
   "metadata": {},
   "outputs": [],
   "source": [
    "from nco import Nco"
   ]
  },
  {
   "cell_type": "code",
   "execution_count": null,
   "id": "bebe70ba",
   "metadata": {},
   "outputs": [],
   "source": [
    "# identify a model case directory, and a directory to store remapped climo files\n",
    "import os\n",
    "#host = os.environ.get('HOST')\n",
    "#print(host)\n",
    "#print(os.environ)\n",
    "import platform\n",
    "host = platform.node()\n",
    "print(host)\n",
    "filename = os.path.expanduser('~/my_folder/output.txt')\n",
    "if ('cori' in host):\n",
    "    indir = '/global/cscratch1/sd/ogaruba/acme_scratch/cori-haswell/archive/E1850C5CLM45CNMC.ne30_oECv3_3/atm/hist/E1850C5CLM45CNMC.ne30_oECv3_3.cam.h0.*-06.nc'\n",
    "    indir = '/global/cscratch1/sd/ogaruba/acme_scratch/cori-haswell/archive/E1850C5CLM45CNMC.ne30_oECv3_3/atm/hist/E1850C5CLM45CNMC.ne30_oECv3_3.cam.h0.*.nc'\n",
    "    indir = '/global/cscratch1/sd/ogaruba/acme_scratch/cori-haswell/archive/E1850C5CLM45CNMC.ne30_oECv3_3/atm/hist/E1850C5CLM45CNMC.ne30_oECv3_3.cam.h0.0049-06.nc'\n",
    "    indir = os.path.expanduser('~/NetCDF_Files/vd05_ANN_climo.nc')\n",
    "else:\n",
    "    indir = os.path.expanduser('~/NetCDF_Files/vd05_JJA_climo.nc')\n",
    "    #indir = os.path.expanduser('~/NetCDF_Files/F2010_PJR1.eam.h0.0001-01.nc')\n",
    "print(indir)\n",
    "#print('exists',os.path.exists(indir))\n",
    "DS = xr.open_mfdataset(indir).chunk({'time': 20})\n",
    "#print(DS)\n",
    "weights = DS.area\n",
    "weights.name = 'weights'\n",
    "print(weights)\n",
    "print('weights.sum',weights.sum().values,4.*pi)\n",
    "#Var = DS.FSNT.isel(time=0)\n",
    "Var = DS.FSNT - DS.FLNT\n",
    "print(Var.shape)\n",
    "#Varwt = Var.weighted(weights)\n",
    "#print(Varwt)\n",
    "#Varmean = Varwt.mean('ncol')\n",
    "#print(Varmean)\n",
    "#Varm2 = Var.weighted(weights).mean('ncol')\n",
    "Varm2 = Var.weighted(weights).mean()\n",
    "print('area weighted mean', Varm2.values)"
   ]
  },
  {
   "cell_type": "code",
   "execution_count": null,
   "id": "a82fe91d",
   "metadata": {},
   "outputs": [],
   "source": [
    "print(Varm2.values)\n",
    "Varm2.plot()"
   ]
  },
  {
   "cell_type": "code",
   "execution_count": null,
   "id": "322109dd",
   "metadata": {},
   "outputs": [],
   "source": [
    "FSNT = DS.FSNT\n",
    "#FSNTg = FSNT.weighted(weights).mean('ncol')\n",
    "FSNTg = FSNT.weighted(weights).mean()\n",
    "FSNTg.plot()"
   ]
  },
  {
   "cell_type": "code",
   "execution_count": null,
   "id": "7afe4ff9",
   "metadata": {},
   "outputs": [],
   "source": [
    "\n",
    "inCmd='ncdump -v time '+indir+' | grep \"FRAC.*=\"'\n",
    "outCmd = os.popen(inCmd).read()\n",
    "print(inCmd)\n",
    "print(outCmd)"
   ]
  },
  {
   "cell_type": "code",
   "execution_count": null,
   "id": "d39b5195",
   "metadata": {},
   "outputs": [],
   "source": [
    "T = DS.T\n",
    "print(T)"
   ]
  },
  {
   "cell_type": "code",
   "execution_count": null,
   "id": "22362379",
   "metadata": {},
   "outputs": [],
   "source": [
    "#DS = xr.open_dataset('~/NetCDF_Files/vd05_ANN_climo.nc')\n",
    "#print (DS.T) \n",
    "T = DS.T.isel(time=0)\n",
    "#T?\n",
    "TZ = T.mean(dim='lon')\n",
    "#TZ?\n",
    "lev = TZ['lev']\n",
    "lat = TZ['lat']\n",
    "vals = TZ.values\n",
    "print('plotting on eta levels')\n",
    "plotZMf(vals, lat, lev)\n"
   ]
  },
  {
   "cell_type": "code",
   "execution_count": null,
   "id": "98ad0a8b",
   "metadata": {},
   "outputs": [],
   "source": [
    "# demonstrate shape specification to force correct broadcasting\n",
    "# add a vector of numbers to a particular axis (in this case axis=1)\n",
    "pout = np.arange(20)\n",
    "x = np.zeros([2,20,100])\n",
    "newshape = [1,20,1]\n",
    "z = x + pout.reshape(newshape)\n",
    "print('z shape', z.shape)\n",
    "print(z[0,:,3])\n",
    "print(z[1,:,-1])"
   ]
  },
  {
   "cell_type": "code",
   "execution_count": null,
   "id": "cda18752",
   "metadata": {},
   "outputs": [],
   "source": [
    "# interpolate xarray datavariable on eta hybrid surfaces to pressure\n",
    "\n",
    "indir = os.path.expanduser('~/NetCDF_Files/F2010*-01.nc')\n",
    "#indir = os.path.expanduser('/lustre/choi040/20210920.F2010.1Nudg.ne30pg2_r05_oECv3/run/20210920.F2010.1Nudg.ne30pg2_r05_oECv3.eam.h2.2015-01-01-00000.nc')\n",
    "#indir = os.path.expanduser('~/NetCDF_Files/*F2010*01.nc')\n",
    "#indir = os.path.expanduser('~/NetCDF_Files/vd05_ANN_climo.nc')\n",
    "\n",
    "print(indir)\n",
    "#print('exists',os.path.exists(indir))\n",
    "DS = xr.open_mfdataset(indir).chunk({'time': 20})\n",
    "\n",
    "\n",
    "    \n",
    "Tin = DS.T\n",
    "Tin = Tin.squeeze()\n",
    "#print(\"Tin\",Tin)\n",
    "Pin = (DS.hyam*DS.P0 + DS.hybm*DS.PS)/100.\n",
    "Pin.attrs[\"units\"] = 'hPa'\n",
    "Pin.attrs[\"long_name\"] = 'Pressure'\n",
    "Pin = Pin.squeeze()\n",
    "nzout = 20\n",
    "pout = np.linspace(1.,1000.,nzout)\n",
    "#pout = [850.]\n",
    "#pout = 850.\n",
    "#print (\"pout\", pout.shape, pout)\n",
    "\n",
    "Tout = hy2plev(Tin, Pin, pout)\n"
   ]
  },
  {
   "cell_type": "code",
   "execution_count": null,
   "id": "cb05dad9",
   "metadata": {},
   "outputs": [],
   "source": [
    "%run -i ~/Python/pjr3\n",
    "from cartopy import crs\n",
    "\n",
    "indir = os.path.expanduser('/lustre/choi040/20210920.F2010.1Nudg.ne30pg2_r05_oECv3/run/20210920.F2010.1Nudg.ne30pg2_r05_oECv3.eam.h0.2015-01.nc')\n",
    "indir = os.path.expanduser('~/NetCDF_Files/F2010_PJR1.eam.h0.0001-01.nc')\n",
    "\n",
    "DS = xr.open_mfdataset(indir).chunk({'time': 20})\n",
    "Tout = DS.PS.isel(time=0)\n",
    "#indir = os.path.expanduser('/lustre/choi040/20210920.F2010.1Nudg.ne30pg2_r05_oECv3/run/20210920.F2010.1Nudg.ne30pg2_r05_oECv3.eam.h2.2015-01-01-00000.nc')\n",
    "#DS = xr.open_mfdataset(indir).chunk({'time': 20})\n",
    "#Tout = DS.T850.isel(time=0)\n",
    "\n",
    "Tin = DS.T\n",
    "Tin = Tin.squeeze()\n",
    "#print(\"Tin\",Tin)\n",
    "Pin = (DS.hyam*DS.P0 + DS.hybm*DS.PS)/100.\n",
    "Pin.attrs[\"units\"] = 'hPa'\n",
    "Pin.attrs[\"long_name\"] = 'Pressure'\n",
    "Pin = Pin.squeeze()\n",
    "pout = 850.\n",
    "\n",
    "Tout2 = hy2plev(Tin, Pin, pout).squeeze()\n",
    "\n",
    "# Read data\n",
    "data = Tout2\n",
    "print('plotting ', data)\n",
    "\n",
    "lon = DS['lon']\n",
    "lat = DS['lat']\n",
    "\n",
    "dataproj=crs.PlateCarree()    # data is always assumed to be lat/lon\n",
    "plotproj=crs.Orthographic(central_latitude=-50)   # any projections should work \n",
    "ax = plt.axes(projection=plotproj)\n",
    "ax.set_global()\n",
    "ax.coastlines(linewidth=0.2)\n",
    "\n",
    "tcoords = plotproj.transform_points(dataproj,np.array(lon[:]),np.array(lat[:]))\n",
    "data2d = data\n",
    "#xi=tcoords[:,0]!=np.inf\n",
    "xi = np.where(~(np.isnan(tcoords[:,0])|np.isinf(tcoords[:,0])))[0] # this works for either\n",
    "tc=tcoords[xi,:]\n",
    "datai=data2d[:][xi]  # convert to numpy array, then subset\n",
    "dmin = datai.min().values\n",
    "dmax = datai.max().values\n",
    "pl = ax.tripcolor(tc[:,0],tc[:,1], datai,shading='gouraud',vmin=dmin,vmax=dmax) # looks good\n",
    "#pl = ax.tripcolor(tc[:,0],tc[:,1], datai,shading='flat') # looks bad\n",
    "# Add colorbar to plot\n",
    "cb = plt.colorbar(\n",
    "    pl, orientation='horizontal',\n",
    "    label='%s (%s)'%(data.long_name, data.units), pad=0.05\n",
    ")\n",
    "plt.show"
   ]
  },
  {
   "cell_type": "code",
   "execution_count": null,
   "id": "9a21de73",
   "metadata": {},
   "outputs": [],
   "source": [
    "# plot a column specified by xlook and ylook for fields specified on a cubed sphere grid\n",
    "xlook = 0.\n",
    "ylook = -90.\n",
    "lat = DS['lat'].values#[0,:]\n",
    "#print('latshape',lat.shape)\n",
    "#print('lat4',lat[0:3])\n",
    "lon = DS['lon'].values#[0,:]\n",
    "#print('lon4',lon[0:3])\n",
    "#print('lat',lat.min(),lat.max())\n",
    "#print('lon',lon.min(),lon.max())\n",
    "dist = np.abs(ylook-lat) + np.abs(xlook-lon)\n",
    "#print('dist',dist)\n",
    "ind = np.where(dist == np.min(dist))\n",
    "ind = int(ind[0])\n",
    "#print('ind',ind, ind.shape, ind[0])\n",
    "print('ind',ind,lat[ind],lon[ind])\n",
    "print('Tout', Tout.shape, Tout.squeeze().shape)\n",
    "#Toutm = Tout.mean(dim=['ncol','time'])\n",
    "#Tinm = Tin[0,:,ind]\n",
    "#print('Tinm',Tinm.values)\n",
    "#Pinm = Pin[0,:,ind]\n",
    "#print('Pinm',Pinm.values)\n",
    "#tind = 0\n",
    "#for index, item in enumerate(Pinm):\n",
    "#    print('Pinx ',index, Pinm[index].values, Tinm[index].values)\n",
    "#Toutm = Tout[:,ind]\n",
    "Toutm = Tout[ind]\n",
    "#print('Toutm',Toutm)\n",
    "#for index, item in enumerate(Toutm):\n",
    "#    print('Poutx ',index, pout[index], Toutm[index].values)\n",
    "\n",
    "Toutm.plot()"
   ]
  },
  {
   "cell_type": "code",
   "execution_count": null,
   "id": "76112e47",
   "metadata": {},
   "outputs": [],
   "source": [
    "# fast 1d interpolation of fields along an axis\n",
    "import matplotlib.pyplot as plt\n",
    "from scipy.interpolate import interp1d as scipy1d\n",
    "\n",
    "# toy coordinates and data\n",
    "nx, ny, nz = 25, 30, 10\n",
    "x = np.arange(nx)\n",
    "y = np.arange(ny)\n",
    "z = np.tile(np.arange(nz), (nx,ny,1)) + np.random.randn(nx, ny, nz)*.1\n",
    "testdata = np.random.randn(nx,ny,nz) # x,y,z\n",
    "\n",
    "# Desired z-coordinates (must be between bounds of z)\n",
    "znew = np.tile(np.linspace(2,nz-2,50), (nx,ny,1)) + np.random.randn(nx, ny, 50)*0.01\n",
    "\n",
    "# Inverse the coordinates for testing\n",
    "z = z[..., ::-1]\n",
    "znew = znew[..., ::-1]\n",
    "\n",
    "# Now use own routine \n",
    "ynew = interp_along_axis(testdata, z, znew, axis=2, inverse=True, method='cubic')\n",
    "\n",
    "# Check some random profiles\n",
    "for i in range(5):\n",
    "    randx = np.random.randint(nx)\n",
    "    randy = np.random.randint(ny)\n",
    "\n",
    "    checkfunc = scipy1d(z[randx, randy], testdata[randx,randy], kind='cubic')\n",
    "    checkdata = checkfunc(znew)\n",
    "\n",
    "    fig, ax = plt.subplots()\n",
    "    ax.plot(testdata[randx, randy], z[randx, randy], 'x', label='original data')\n",
    "    ax.plot(checkdata[randx, randy], znew[randx, randy], label='scipy')\n",
    "    ax.plot(ynew[randx, randy], znew[randx, randy], '--', label='Peter')\n",
    "    ax.legend()\n",
    "    plt.show()\n"
   ]
  },
  {
   "cell_type": "code",
   "execution_count": null,
   "id": "cc60b7d2",
   "metadata": {},
   "outputs": [],
   "source": []
  }
 ],
 "metadata": {
  "kernelspec": {
   "display_name": "pjrpy3",
   "language": "python",
   "name": "pjrpy3"
  },
  "language_info": {
   "codemirror_mode": {
    "name": "ipython",
    "version": 3
   },
   "file_extension": ".py",
   "mimetype": "text/x-python",
   "name": "python",
   "nbconvert_exporter": "python",
   "pygments_lexer": "ipython3",
   "version": "3.7.12"
  }
 },
 "nbformat": 4,
 "nbformat_minor": 5
}
