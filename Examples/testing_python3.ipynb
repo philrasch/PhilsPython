{
 "cells": [
  {
   "cell_type": "code",
   "execution_count": 1,
   "metadata": {},
   "outputs": [
    {
     "name": "stdout",
     "output_type": "stream",
     "text": [
      "3.7.10 | packaged by conda-forge | (default, Feb 19 2021, 16:07:37) \n",
      "[GCC 9.3.0]\n",
      "pjr3.py complete\n"
     ]
    }
   ],
   "source": [
    "import sys\n",
    "print(sys.version)\n",
    "%matplotlib inline\n",
    "%run -i ~/Python/pjr3"
   ]
  },
  {
   "cell_type": "code",
   "execution_count": null,
   "metadata": {},
   "outputs": [],
   "source": [
    "print (\"two vals of pi\", np.pi, pi)"
   ]
  },
  {
   "cell_type": "markdown",
   "metadata": {},
   "source": [
    "$$\n",
    "f(t) = \\Sigma_i (a_i cos({2\\pi\\over i} t) + b_i sin({2\\pi\\over i} t)))\n",
    "$$\n"
   ]
  },
  {
   "cell_type": "code",
   "execution_count": null,
   "metadata": {},
   "outputs": [],
   "source": [
    "hy2plev?"
   ]
  },
  {
   "cell_type": "code",
   "execution_count": null,
   "metadata": {},
   "outputs": [],
   "source": [
    "plotZMf?"
   ]
  },
  {
   "cell_type": "code",
   "execution_count": null,
   "metadata": {},
   "outputs": [],
   "source": [
    "from nco import Nco"
   ]
  },
  {
   "cell_type": "code",
   "execution_count": null,
   "metadata": {},
   "outputs": [],
   "source": [
    "# identify a model case directory, and a directory to store remapped climo files\n",
    "import os\n",
    "#host = os.environ.get('HOST')\n",
    "#print(host)\n",
    "#print(os.environ)\n",
    "import platform\n",
    "host = platform.node()\n",
    "print(host)\n",
    "filename = os.path.expanduser('~/my_folder/output.txt')\n",
    "if ('corix' in host):\n",
    "    indir = '/global/cscratch1/sd/ogaruba/acme_scratch/cori-haswell/archive/E1850C5CLM45CNMC.ne30_oECv3_3/atm/hist/E1850C5CLM45CNMC.ne30_oECv3_3.cam.h0.*-06.nc'\n",
    "    indir = '/global/cscratch1/sd/ogaruba/acme_scratch/cori-haswell/archive/E1850C5CLM45CNMC.ne30_oECv3_3/atm/hist/E1850C5CLM45CNMC.ne30_oECv3_3.cam.h0.*.nc'\n",
    "    indir = '/global/cscratch1/sd/ogaruba/acme_scratch/cori-haswell/archive/E1850C5CLM45CNMC.ne30_oECv3_3/atm/hist/E1850C5CLM45CNMC.ne30_oECv3_3.cam.h0.0049-06.nc'\n",
    "else:\n",
    "    indir = os.path.expanduser('~/NetCDF_Files/vd05_ANN_climo.nc')\n",
    "print(indir)\n",
    "#print('exists',os.path.exists(indir))\n",
    "DS = xr.open_mfdataset(indir).chunk({'time': 20})\n",
    "#print(DS)\n",
    "weights = DS.area\n",
    "weights.name = 'weights'\n",
    "print(weights)\n",
    "print('weights.sum',weights.sum().values,4.*pi)\n",
    "#Var = DS.FSNT.isel(time=0)\n",
    "Var = DS.FSNT - DS.FLNT\n",
    "print(Var.shape)\n",
    "#Varwt = Var.weighted(weights)\n",
    "#print(Varwt)\n",
    "#Varmean = Varwt.mean('ncol')\n",
    "#print(Varmean)\n",
    "#Varm2 = Var.weighted(weights).mean('ncol')\n",
    "Varm2 = Var.weighted(weights).mean()\n",
    "print('area weighted mean', Varm2.values)"
   ]
  },
  {
   "cell_type": "code",
   "execution_count": null,
   "metadata": {},
   "outputs": [],
   "source": [
    "print(Varm2.values)\n",
    "Varm2.plot()"
   ]
  },
  {
   "cell_type": "code",
   "execution_count": null,
   "metadata": {},
   "outputs": [],
   "source": [
    "Varm2.shape \n",
    "print(Varm2)\n",
    "#Varm2.compute_chunk_sizes()\n",
    "Varm2gra = Varm2.rolling(center=True, time=12).mean()\n",
    "Varm2gra.plot()"
   ]
  },
  {
   "cell_type": "code",
   "execution_count": null,
   "metadata": {},
   "outputs": [],
   "source": [
    "FSNT = DS.FSNT\n",
    "#FSNTg = FSNT.weighted(weights).mean('ncol')\n",
    "FSNTg = FSNT.weighted(weights).mean()\n",
    "FSNTg.plot()"
   ]
  },
  {
   "cell_type": "code",
   "execution_count": null,
   "metadata": {},
   "outputs": [],
   "source": [
    "\n",
    "inCmd='ncdump -v time '+indir+' | grep \"time.*=\"'\n",
    "outCmd = os.popen(inCmd).read()\n",
    "print(inCmd)\n",
    "print(outCmd)"
   ]
  },
  {
   "cell_type": "code",
   "execution_count": null,
   "metadata": {},
   "outputs": [],
   "source": [
    "T = DS.T\n",
    "print(T)"
   ]
  },
  {
   "cell_type": "code",
   "execution_count": null,
   "metadata": {},
   "outputs": [],
   "source": [
    "#DS = xr.open_dataset('~/NetCDF_Files/vd05_ANN_climo.nc')\n",
    "#print (DS.T) \n",
    "T = DS.T.isel(time=0)\n",
    "#T?\n",
    "TZ = T.mean(dim='lon')\n",
    "#TZ?\n",
    "lev = TZ['lev']\n",
    "lat = TZ['lat']\n",
    "vals = TZ.values\n",
    "print('plotting on eta levels')\n",
    "plotZMf(vals, lat, lev)\n"
   ]
  },
  {
   "cell_type": "code",
   "execution_count": null,
   "metadata": {},
   "outputs": [],
   "source": [
    "# demonstrate shape specification to force correct broadcasting\n",
    "# add a vector of numbers to a particular axis (in this case axis=1)\n",
    "pout = np.arange(20)\n",
    "x = np.zeros([2,20,100])\n",
    "newshape = [1,20,1]\n",
    "z = x + pout.reshape(newshape)\n",
    "print('z shape', z.shape)\n",
    "print(z[0,:,3])\n",
    "print(z[1,:,-1])"
   ]
  },
  {
   "cell_type": "code",
   "execution_count": null,
   "metadata": {},
   "outputs": [],
   "source": [
    "# interpolate xarray datavariable on eta hybrid surfaces to pressure\n",
    "\n",
    "indir = os.path.expanduser('~/NetCDF_Files/*F2010*.nc')\n",
    "#indir = os.path.expanduser('/lustre/choi040/20210920.F2010.1Nudg.ne30pg2_r05_oECv3/run/20210920.F2010.1Nudg.ne30pg2_r05_oECv3.eam.h2.2015-01-01-00000.nc')\n",
    "#indir = os.path.expanduser('~/NetCDF_Files/*F2010*01.nc')\n",
    "#indir = os.path.expanduser('~/NetCDF_Files/vd05_ANN_climo.nc')\n",
    "\n",
    "print(indir)\n",
    "#print('exists',os.path.exists(indir))\n",
    "DS = xr.open_mfdataset(indir).chunk({'time': 20})\n",
    "\n",
    "\n",
    "    \n",
    "Tin = DS.T\n",
    "Tin = Tin.squeeze()\n",
    "#print(\"Tin\",Tin)\n",
    "Pin = (DS.hyam*DS.P0 + DS.hybm*DS.PS)/100.\n",
    "Pin.attrs[\"units\"] = 'hPa'\n",
    "Pin.attrs[\"long_name\"] = 'Pressure'\n",
    "Pin = Pin.squeeze()\n",
    "nzout = 20\n",
    "pout = np.linspace(1.,1000.,nzout)\n",
    "#pout = [850.]\n",
    "#pout = 850.\n",
    "#print (\"pout\", pout.shape, pout)\n",
    "\n",
    "Tout = hy2plev(Tin, Pin, pout)\n"
   ]
  },
  {
   "cell_type": "code",
   "execution_count": 49,
   "metadata": {},
   "outputs": [
    {
     "name": "stdout",
     "output_type": "stream",
     "text": [
      "pjr3.py complete\n",
      "plotting  <xarray.DataArray (ncol: 21600)>\n",
      "array([285.11100242, 284.29763697, 286.44000716, ..., 265.72855136,\n",
      "       265.91184516, 266.57738767])\n",
      "Coordinates:\n",
      "    time     object 2015-02-01 00:00:00\n",
      "    plev     float64 850.0\n",
      "Dimensions without coordinates: ncol\n",
      "Attributes:\n",
      "    mdims:          1\n",
      "    units:          K\n",
      "    long_name:      Temperature\n",
      "    standard_name:  air_temperature\n",
      "    cell_methods:   time: mean\n"
     ]
    },
    {
     "data": {
      "text/plain": [
       "<function matplotlib.pyplot.show(close=None, block=None)>"
      ]
     },
     "execution_count": 49,
     "metadata": {},
     "output_type": "execute_result"
    },
    {
     "data": {
      "image/png": "[encoded data removed]",
      "text/plain": [
       "<Figure size 432x288 with 2 Axes>"
      ]
     },
     "metadata": {
      "needs_background": "light"
     },
     "output_type": "display_data"
    }
   ],
   "source": [
    "%run -i ~/Python/pjr3\n",
    "from cartopy import crs\n",
    "\n",
    "indir = os.path.expanduser('/lustre/choi040/20210920.F2010.1Nudg.ne30pg2_r05_oECv3/run/20210920.F2010.1Nudg.ne30pg2_r05_oECv3.eam.h0.2015-01.nc')\n",
    "DS = xr.open_mfdataset(indir).chunk({'time': 20})\n",
    "Tout = DS.PS.isel(time=0)\n",
    "#indir = os.path.expanduser('/lustre/choi040/20210920.F2010.1Nudg.ne30pg2_r05_oECv3/run/20210920.F2010.1Nudg.ne30pg2_r05_oECv3.eam.h2.2015-01-01-00000.nc')\n",
    "#DS = xr.open_mfdataset(indir).chunk({'time': 20})\n",
    "#Tout = DS.T850.isel(time=0)\n",
    "\n",
    "gridfile = '/lustre/d3x345/maps/ne30pg2_scrip_c20191218.nc'\n",
    "\n",
    "Tin = DS.T\n",
    "Tin = Tin.squeeze()\n",
    "#print(\"Tin\",Tin)\n",
    "Pin = (DS.hyam*DS.P0 + DS.hybm*DS.PS)/100.\n",
    "Pin.attrs[\"units\"] = 'hPa'\n",
    "Pin.attrs[\"long_name\"] = 'Pressure'\n",
    "Pin = Pin.squeeze()\n",
    "pout = 850.\n",
    "\n",
    "Tout2 = hy2plev(Tin, Pin, pout).squeeze()\n",
    "\n",
    "# Read data\n",
    "data = Tout2\n",
    "print('plotting ', data)\n",
    "\n",
    "lon = DS['lon']\n",
    "lat = DS['lat']\n",
    "\n",
    "dataproj=crs.PlateCarree()    # data is always assumed to be lat/lon\n",
    "plotproj=crs.Orthographic(central_latitude=-50)   # any projections should work \n",
    "ax = plt.axes(projection=plotproj)\n",
    "ax.set_global()\n",
    "ax.coastlines(linewidth=0.2)\n",
    "\n",
    "tcoords = plotproj.transform_points(dataproj,np.array(lon[:]),np.array(lat[:]))\n",
    "data2d = data\n",
    "xi=tcoords[:,0]!=np.inf\n",
    "tc=tcoords[xi,:]\n",
    "datai=data2d[:][xi]  # convert to numpy array, then subset\n",
    "dmin = datai.min().values\n",
    "dmax = datai.max().values\n",
    "pl = ax.tripcolor(tc[:,0],tc[:,1], datai,shading='gouraud',vmin=dmin,vmax=dmax) # looks good\n",
    "#pl = ax.tripcolor(tc[:,0],tc[:,1], datai,shading='flat') # looks bad\n",
    "# Add colorbar to plot\n",
    "cb = plt.colorbar(\n",
    "    pl, orientation='horizontal',\n",
    "    label='%s (%s)'%(data.long_name, data.units), pad=0.05\n",
    ")\n",
    "plt.show"
   ]
  },
  {
   "cell_type": "code",
   "execution_count": 48,
   "metadata": {},
   "outputs": [
    {
     "name": "stdout",
     "output_type": "stream",
     "text": [
      "ind 16500 -83.20921924057815 6.311501752522137\n"
     ]
    },
    {
     "ename": "IndexError",
     "evalue": "too many indices",
     "output_type": "error",
     "traceback": [
      "\u001b[0;31m---------------------------------------------------------------------------\u001b[0m",
      "\u001b[0;31mIndexError\u001b[0m                                Traceback (most recent call last)",
      "\u001b[0;32m~/Python/pjr3.py\u001b[0m in \u001b[0;36m<module>\u001b[0;34m\u001b[0m\n\u001b[1;32m     24\u001b[0m \u001b[0;31m#for index, item in enumerate(Pinm):\u001b[0m\u001b[0;34m\u001b[0m\u001b[0;34m\u001b[0m\u001b[0;34m\u001b[0m\u001b[0m\n\u001b[1;32m     25\u001b[0m \u001b[0;31m#    print('Pinx ',index, Pinm[index].values, Tinm[index].values)\u001b[0m\u001b[0;34m\u001b[0m\u001b[0;34m\u001b[0m\u001b[0;34m\u001b[0m\u001b[0m\n\u001b[0;32m---> 26\u001b[0;31m \u001b[0mToutm\u001b[0m \u001b[0;34m=\u001b[0m \u001b[0mTout\u001b[0m\u001b[0;34m[\u001b[0m\u001b[0;34m:\u001b[0m\u001b[0;34m,\u001b[0m\u001b[0mind\u001b[0m\u001b[0;34m]\u001b[0m\u001b[0;34m\u001b[0m\u001b[0;34m\u001b[0m\u001b[0m\n\u001b[0m\u001b[1;32m     27\u001b[0m \u001b[0;31m#print('Toutm',Toutm)\u001b[0m\u001b[0;34m\u001b[0m\u001b[0;34m\u001b[0m\u001b[0;34m\u001b[0m\u001b[0m\n\u001b[1;32m     28\u001b[0m \u001b[0;31m#for index, item in enumerate(Toutm):\u001b[0m\u001b[0;34m\u001b[0m\u001b[0;34m\u001b[0m\u001b[0;34m\u001b[0m\u001b[0m\n",
      "\u001b[0;32m~/.conda/envs/pjrpy3/lib/python3.7/site-packages/xarray/core/dataarray.py\u001b[0m in \u001b[0;36m__getitem__\u001b[0;34m(self, key)\u001b[0m\n\u001b[1;32m    705\u001b[0m         \u001b[0;32melse\u001b[0m\u001b[0;34m:\u001b[0m\u001b[0;34m\u001b[0m\u001b[0;34m\u001b[0m\u001b[0m\n\u001b[1;32m    706\u001b[0m             \u001b[0;31m# xarray-style array indexing\u001b[0m\u001b[0;34m\u001b[0m\u001b[0;34m\u001b[0m\u001b[0;34m\u001b[0m\u001b[0m\n\u001b[0;32m--> 707\u001b[0;31m             \u001b[0;32mreturn\u001b[0m \u001b[0mself\u001b[0m\u001b[0;34m.\u001b[0m\u001b[0misel\u001b[0m\u001b[0;34m(\u001b[0m\u001b[0mindexers\u001b[0m\u001b[0;34m=\u001b[0m\u001b[0mself\u001b[0m\u001b[0;34m.\u001b[0m\u001b[0m_item_key_to_dict\u001b[0m\u001b[0;34m(\u001b[0m\u001b[0mkey\u001b[0m\u001b[0;34m)\u001b[0m\u001b[0;34m)\u001b[0m\u001b[0;34m\u001b[0m\u001b[0;34m\u001b[0m\u001b[0m\n\u001b[0m\u001b[1;32m    708\u001b[0m \u001b[0;34m\u001b[0m\u001b[0m\n\u001b[1;32m    709\u001b[0m     \u001b[0;32mdef\u001b[0m \u001b[0m__setitem__\u001b[0m\u001b[0;34m(\u001b[0m\u001b[0mself\u001b[0m\u001b[0;34m,\u001b[0m \u001b[0mkey\u001b[0m\u001b[0;34m:\u001b[0m \u001b[0mAny\u001b[0m\u001b[0;34m,\u001b[0m \u001b[0mvalue\u001b[0m\u001b[0;34m:\u001b[0m \u001b[0mAny\u001b[0m\u001b[0;34m)\u001b[0m \u001b[0;34m->\u001b[0m \u001b[0;32mNone\u001b[0m\u001b[0;34m:\u001b[0m\u001b[0;34m\u001b[0m\u001b[0;34m\u001b[0m\u001b[0m\n",
      "\u001b[0;32m~/.conda/envs/pjrpy3/lib/python3.7/site-packages/xarray/core/dataarray.py\u001b[0m in \u001b[0;36m_item_key_to_dict\u001b[0;34m(self, key)\u001b[0m\n\u001b[1;32m    669\u001b[0m             \u001b[0;32mreturn\u001b[0m \u001b[0mkey\u001b[0m\u001b[0;34m\u001b[0m\u001b[0;34m\u001b[0m\u001b[0m\n\u001b[1;32m    670\u001b[0m         \u001b[0;32melse\u001b[0m\u001b[0;34m:\u001b[0m\u001b[0;34m\u001b[0m\u001b[0;34m\u001b[0m\u001b[0m\n\u001b[0;32m--> 671\u001b[0;31m             \u001b[0mkey\u001b[0m \u001b[0;34m=\u001b[0m \u001b[0mindexing\u001b[0m\u001b[0;34m.\u001b[0m\u001b[0mexpanded_indexer\u001b[0m\u001b[0;34m(\u001b[0m\u001b[0mkey\u001b[0m\u001b[0;34m,\u001b[0m \u001b[0mself\u001b[0m\u001b[0;34m.\u001b[0m\u001b[0mndim\u001b[0m\u001b[0;34m)\u001b[0m\u001b[0;34m\u001b[0m\u001b[0;34m\u001b[0m\u001b[0m\n\u001b[0m\u001b[1;32m    672\u001b[0m             \u001b[0;32mreturn\u001b[0m \u001b[0mdict\u001b[0m\u001b[0;34m(\u001b[0m\u001b[0mzip\u001b[0m\u001b[0;34m(\u001b[0m\u001b[0mself\u001b[0m\u001b[0;34m.\u001b[0m\u001b[0mdims\u001b[0m\u001b[0;34m,\u001b[0m \u001b[0mkey\u001b[0m\u001b[0;34m)\u001b[0m\u001b[0;34m)\u001b[0m\u001b[0;34m\u001b[0m\u001b[0;34m\u001b[0m\u001b[0m\n\u001b[1;32m    673\u001b[0m \u001b[0;34m\u001b[0m\u001b[0m\n",
      "\u001b[0;32m~/.conda/envs/pjrpy3/lib/python3.7/site-packages/xarray/core/indexing.py\u001b[0m in \u001b[0;36mexpanded_indexer\u001b[0;34m(key, ndim)\u001b[0m\n\u001b[1;32m     54\u001b[0m             \u001b[0mnew_key\u001b[0m\u001b[0;34m.\u001b[0m\u001b[0mappend\u001b[0m\u001b[0;34m(\u001b[0m\u001b[0mk\u001b[0m\u001b[0;34m)\u001b[0m\u001b[0;34m\u001b[0m\u001b[0;34m\u001b[0m\u001b[0m\n\u001b[1;32m     55\u001b[0m     \u001b[0;32mif\u001b[0m \u001b[0mlen\u001b[0m\u001b[0;34m(\u001b[0m\u001b[0mnew_key\u001b[0m\u001b[0;34m)\u001b[0m \u001b[0;34m>\u001b[0m \u001b[0mndim\u001b[0m\u001b[0;34m:\u001b[0m\u001b[0;34m\u001b[0m\u001b[0;34m\u001b[0m\u001b[0m\n\u001b[0;32m---> 56\u001b[0;31m         \u001b[0;32mraise\u001b[0m \u001b[0mIndexError\u001b[0m\u001b[0;34m(\u001b[0m\u001b[0;34m\"too many indices\"\u001b[0m\u001b[0;34m)\u001b[0m\u001b[0;34m\u001b[0m\u001b[0;34m\u001b[0m\u001b[0m\n\u001b[0m\u001b[1;32m     57\u001b[0m     \u001b[0mnew_key\u001b[0m\u001b[0;34m.\u001b[0m\u001b[0mextend\u001b[0m\u001b[0;34m(\u001b[0m\u001b[0;34m(\u001b[0m\u001b[0mndim\u001b[0m \u001b[0;34m-\u001b[0m \u001b[0mlen\u001b[0m\u001b[0;34m(\u001b[0m\u001b[0mnew_key\u001b[0m\u001b[0;34m)\u001b[0m\u001b[0;34m)\u001b[0m \u001b[0;34m*\u001b[0m \u001b[0;34m[\u001b[0m\u001b[0mslice\u001b[0m\u001b[0;34m(\u001b[0m\u001b[0;32mNone\u001b[0m\u001b[0;34m)\u001b[0m\u001b[0;34m]\u001b[0m\u001b[0;34m)\u001b[0m\u001b[0;34m\u001b[0m\u001b[0;34m\u001b[0m\u001b[0m\n\u001b[1;32m     58\u001b[0m     \u001b[0;32mreturn\u001b[0m \u001b[0mtuple\u001b[0m\u001b[0;34m(\u001b[0m\u001b[0mnew_key\u001b[0m\u001b[0;34m)\u001b[0m\u001b[0;34m\u001b[0m\u001b[0;34m\u001b[0m\u001b[0m\n",
      "\u001b[0;31mIndexError\u001b[0m: too many indices"
     ]
    }
   ],
   "source": [
    "# plot a column specified by xlook and ylook for fields specified on a cubed sphere grid\n",
    "xlook = 0.\n",
    "ylook = -90.\n",
    "lat = DS['lat'].values#[0,:]\n",
    "#print('latshape',lat.shape)\n",
    "#print('lat4',lat[0:3])\n",
    "lon = DS['lon'].values#[0,:]\n",
    "#print('lon4',lon[0:3])\n",
    "#print('lat',lat.min(),lat.max())\n",
    "#print('lon',lon.min(),lon.max())\n",
    "dist = np.abs(ylook-lat) + np.abs(xlook-lon)\n",
    "#print('dist',dist)\n",
    "ind = np.where(dist == np.min(dist))\n",
    "ind = int(ind[0])\n",
    "#print('ind',ind, ind.shape, ind[0])\n",
    "print('ind',ind,lat[ind],lon[ind])\n",
    "#print('Tout', Tout.shape, Tout.squeeze().shape)\n",
    "#Toutm = Tout.mean(dim=['ncol','time'])\n",
    "#Tinm = Tin[0,:,ind]\n",
    "#print('Tinm',Tinm.values)\n",
    "#Pinm = Pin[0,:,ind]\n",
    "#print('Pinm',Pinm.values)\n",
    "#tind = 0\n",
    "#for index, item in enumerate(Pinm):\n",
    "#    print('Pinx ',index, Pinm[index].values, Tinm[index].values)\n",
    "Toutm = Tout[:,ind]\n",
    "#print('Toutm',Toutm)\n",
    "#for index, item in enumerate(Toutm):\n",
    "#    print('Poutx ',index, pout[index], Toutm[index].values)\n",
    "\n",
    "Toutm.plot()"
   ]
  },
  {
   "cell_type": "code",
   "execution_count": null,
   "metadata": {},
   "outputs": [],
   "source": [
    "ToutZ = Tout.mean(dim='lon')\n",
    "lev = ToutZ['plev']\n",
    "lat = ToutZ['lat']\n",
    "vals = ToutZ.values\n",
    "plotZMf(vals, lat, lev)"
   ]
  },
  {
   "cell_type": "code",
   "execution_count": null,
   "metadata": {},
   "outputs": [],
   "source": [
    "da = DS.PS# Draw coastlines of the Earth\n",
    "ax = plt.axes(projection=ccrs.PlateCarree())\n",
    "ax.coastlines() \n",
    "\n",
    "\n",
    "\n",
    "da.plot()\n",
    "plt.show()"
   ]
  },
  {
   "cell_type": "code",
   "execution_count": null,
   "metadata": {},
   "outputs": [],
   "source": [
    "TS = DS.TS# Draw coastlines of the Earth\n",
    "TS = TS.isel(time=0)\n",
    "ax = plt.axes(projection=ccrs.Robinson())\n",
    "ax.coastlines()\n",
    "lon = TS['lon']\n",
    "lat = TS['lat']\n",
    "ax.contourf(lon, lat, TS, transform=ccrs.PlateCarree())\n",
    "\n",
    "da.plot()\n",
    "plt.show()"
   ]
  },
  {
   "cell_type": "code",
   "execution_count": null,
   "metadata": {},
   "outputs": [],
   "source": [
    "# fast 1d interpolation of fields along an axis\n",
    "import matplotlib.pyplot as plt\n",
    "from scipy.interpolate import interp1d as scipy1d\n",
    "\n",
    "# toy coordinates and data\n",
    "nx, ny, nz = 25, 30, 10\n",
    "x = np.arange(nx)\n",
    "y = np.arange(ny)\n",
    "z = np.tile(np.arange(nz), (nx,ny,1)) + np.random.randn(nx, ny, nz)*.1\n",
    "testdata = np.random.randn(nx,ny,nz) # x,y,z\n",
    "\n",
    "# Desired z-coordinates (must be between bounds of z)\n",
    "znew = np.tile(np.linspace(2,nz-2,50), (nx,ny,1)) + np.random.randn(nx, ny, 50)*0.01\n",
    "\n",
    "# Inverse the coordinates for testing\n",
    "z = z[..., ::-1]\n",
    "znew = znew[..., ::-1]\n",
    "\n",
    "# Now use own routine \n",
    "ynew = interp_along_axis(testdata, z, znew, axis=2, inverse=True, method='cubic')\n",
    "\n",
    "# Check some random profiles\n",
    "for i in range(5):\n",
    "    randx = np.random.randint(nx)\n",
    "    randy = np.random.randint(ny)\n",
    "\n",
    "    checkfunc = scipy1d(z[randx, randy], testdata[randx,randy], kind='cubic')\n",
    "    checkdata = checkfunc(znew)\n",
    "\n",
    "    fig, ax = plt.subplots()\n",
    "    ax.plot(testdata[randx, randy], z[randx, randy], 'x', label='original data')\n",
    "    ax.plot(checkdata[randx, randy], znew[randx, randy], label='scipy')\n",
    "    ax.plot(ynew[randx, randy], znew[randx, randy], '--', label='Peter')\n",
    "    ax.legend()\n",
    "    plt.show()\n"
   ]
  },
  {
   "cell_type": "code",
   "execution_count": null,
   "metadata": {},
   "outputs": [],
   "source": []
  }
 ],
 "metadata": {
  "kernelspec": {
   "display_name": "pjrpy3",
   "language": "python",
   "name": "pjrpy3"
  },
  "language_info": {
   "codemirror_mode": {
    "name": "ipython",
    "version": 3
   },
   "file_extension": ".py",
   "mimetype": "text/x-python",
   "name": "python",
   "nbconvert_exporter": "python",
   "pygments_lexer": "ipython3",
   "version": "3.7.10"
  },
  "selected_variables": [],
  "vcdat_file_path": "",
  "vcdat_loaded_variables": [],
  "vcdat_variable_info": {}
 },
 "nbformat": 4,
 "nbformat_minor": 4
}
