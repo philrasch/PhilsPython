{
 "cells": [
  {
   "cell_type": "code",
   "execution_count": 10,
   "metadata": {},
   "outputs": [
    {
     "name": "stdout",
     "output_type": "stream",
     "text": [
      "3.8.5 | packaged by conda-forge | (default, Jul 24 2020, 01:25:15) \n",
      "[GCC 7.5.0]\n",
      "pjr3.py complete\n"
     ]
    },
    {
     "data": {
      "text/plain": [
       "<Figure size 432x288 with 0 Axes>"
      ]
     },
     "metadata": {},
     "output_type": "display_data"
    }
   ],
   "source": [
    "import sys\n",
    "print(sys.version)\n",
    "%matplotlib inline\n",
    "%run -i ~/Python/pjr3"
   ]
  },
  {
   "cell_type": "code",
   "execution_count": 11,
   "metadata": {},
   "outputs": [
    {
     "name": "stdout",
     "output_type": "stream",
     "text": [
      "two vals of pi 3.141592653589793 3.141592653589793\n"
     ]
    }
   ],
   "source": [
    "print (\"two vals of pi\", np.pi, pi)"
   ]
  },
  {
   "cell_type": "markdown",
   "metadata": {},
   "source": [
    "$$\n",
    "f(t) = \\Sigma_i (a_i cos({2\\pi\\over i} t) + b_i sin({2\\pi\\over i} t)))\n",
    "$$\n"
   ]
  },
  {
   "cell_type": "code",
   "execution_count": 12,
   "metadata": {},
   "outputs": [
    {
     "data": {
      "text/plain": [
       "\u001b[0;31mSignature:\u001b[0m \u001b[0mfindNiceContours\u001b[0m\u001b[0;34m(\u001b[0m\u001b[0mdata\u001b[0m\u001b[0;34m,\u001b[0m \u001b[0mnlevs\u001b[0m\u001b[0;34m=\u001b[0m\u001b[0;32mNone\u001b[0m\u001b[0;34m,\u001b[0m \u001b[0mrmClev\u001b[0m\u001b[0;34m=\u001b[0m\u001b[0;32mNone\u001b[0m\u001b[0;34m,\u001b[0m \u001b[0msym\u001b[0m\u001b[0;34m=\u001b[0m\u001b[0;32mNone\u001b[0m\u001b[0;34m,\u001b[0m \u001b[0mverbose\u001b[0m\u001b[0;34m=\u001b[0m\u001b[0;32mNone\u001b[0m\u001b[0;34m)\u001b[0m\u001b[0;34m\u001b[0m\u001b[0;34m\u001b[0m\u001b[0m\n",
       "\u001b[0;31mDocstring:\u001b[0m\n",
       "Find Nice Contours\n",
       "data = 2d numpy array (or data structure base on numpy) ordered (latitude, pressure)\n",
       "nlevs = approximate number of contour levels to return (default 10)\n",
       "rmClev = if defined delete the contour level near this value\n",
       "sym = if defined make the contour intervals symmetric about zero\n",
       "verbose = if defined, print out some info to help debug\n",
       "\u001b[0;31mFile:\u001b[0m      ~/Python/pjr3.py\n",
       "\u001b[0;31mType:\u001b[0m      function\n"
      ]
     },
     "metadata": {},
     "output_type": "display_data"
    }
   ],
   "source": [
    "findNiceContours?"
   ]
  },
  {
   "cell_type": "code",
   "execution_count": 13,
   "metadata": {},
   "outputs": [
    {
     "data": {
      "text/plain": [
       "\u001b[0;31mSignature:\u001b[0m\n",
       "\u001b[0mplotZMf\u001b[0m\u001b[0;34m(\u001b[0m\u001b[0;34m\u001b[0m\n",
       "\u001b[0;34m\u001b[0m    \u001b[0mdata\u001b[0m\u001b[0;34m,\u001b[0m\u001b[0;34m\u001b[0m\n",
       "\u001b[0;34m\u001b[0m    \u001b[0mx\u001b[0m\u001b[0;34m,\u001b[0m\u001b[0;34m\u001b[0m\n",
       "\u001b[0;34m\u001b[0m    \u001b[0my\u001b[0m\u001b[0;34m,\u001b[0m\u001b[0;34m\u001b[0m\n",
       "\u001b[0;34m\u001b[0m    \u001b[0mplotOpt\u001b[0m\u001b[0;34m=\u001b[0m\u001b[0;32mNone\u001b[0m\u001b[0;34m,\u001b[0m\u001b[0;34m\u001b[0m\n",
       "\u001b[0;34m\u001b[0m    \u001b[0mmodelLevels\u001b[0m\u001b[0;34m=\u001b[0m\u001b[0;32mNone\u001b[0m\u001b[0;34m,\u001b[0m\u001b[0;34m\u001b[0m\n",
       "\u001b[0;34m\u001b[0m    \u001b[0msurfacePressure\u001b[0m\u001b[0;34m=\u001b[0m\u001b[0;32mNone\u001b[0m\u001b[0;34m,\u001b[0m\u001b[0;34m\u001b[0m\n",
       "\u001b[0;34m\u001b[0m    \u001b[0maxesa\u001b[0m\u001b[0;34m=\u001b[0m\u001b[0;32mNone\u001b[0m\u001b[0;34m,\u001b[0m\u001b[0;34m\u001b[0m\n",
       "\u001b[0;34m\u001b[0m    \u001b[0mfig\u001b[0m\u001b[0;34m=\u001b[0m\u001b[0;32mNone\u001b[0m\u001b[0;34m,\u001b[0m\u001b[0;34m\u001b[0m\n",
       "\u001b[0;34m\u001b[0m\u001b[0;34m)\u001b[0m\u001b[0;34m\u001b[0m\u001b[0;34m\u001b[0m\u001b[0m\n",
       "\u001b[0;31mDocstring:\u001b[0m\n",
       "Create a zonal mean contour plot of one variable\n",
       "axesa = the axes that we make the plot on \n",
       "data = 2d numpy array (or data structure base on numpy) ordered (latitude, pressure)\n",
       "x = 1d numpy array of latitude\n",
       "y = 1d numpy array of pressures (or pseudo pressure (like eta))\n",
       "plotOpt is a optional dictionary with plotting options:\n",
       "  'scale_factor': multiply values with this factor before plotting\n",
       "  'units': a units label for the colorbar\n",
       "  'clevs': use list of values as contour intervals\n",
       "  'cmap': the color map to use\n",
       "  'cabv': the above color\n",
       "  'cbel': the below color\n",
       "  'colorbar': location of colorbar ('bot','top','left','right','None')\n",
       "  'rmClev': contour level to delete; frequently Zero, see findNiceContours\n",
       "  'title': a title for the plot\n",
       "  'ybot': if present, the pressure at the plot bottom\n",
       "  'ytop': if present, the pressure at the top\n",
       "modelLevels:  If present a small side panel will be drawn with lines for each model level\n",
       "surfacePressure: a list (dimension len(x)) of surface pressure values. If present, these will\n",
       "    be used to mask out regions below the surface\n",
       "\u001b[0;31mFile:\u001b[0m      ~/Python/pjr3.py\n",
       "\u001b[0;31mType:\u001b[0m      function\n"
      ]
     },
     "metadata": {},
     "output_type": "display_data"
    }
   ],
   "source": [
    "plotZMf?"
   ]
  },
  {
   "cell_type": "code",
   "execution_count": 14,
   "metadata": {},
   "outputs": [],
   "source": [
    "from nco import Nco"
   ]
  },
  {
   "cell_type": "code",
   "execution_count": 15,
   "metadata": {},
   "outputs": [
    {
     "name": "stdout",
     "output_type": "stream",
     "text": [
      "cori16\n",
      "<xarray.Dataset>\n",
      "Dimensions:        (ilev: 31, lev: 30, nbnd: 2, ncol: 48602, time: 1)\n",
      "Coordinates:\n",
      "  * lev            (lev) float64 3.643 7.595 14.36 24.61 ... 957.5 976.3 992.6\n",
      "  * ilev           (ilev) float64 2.255 5.032 10.16 18.56 ... 967.5 985.1 1e+03\n",
      "  * time           (time) object 0049-07-01 00:00:00\n",
      "Dimensions without coordinates: nbnd, ncol\n",
      "Data variables:\n",
      "    lat            (ncol) float64 dask.array<chunksize=(48602,), meta=np.ndarray>\n",
      "    lon            (ncol) float64 dask.array<chunksize=(48602,), meta=np.ndarray>\n",
      "    area           (ncol) float64 dask.array<chunksize=(48602,), meta=np.ndarray>\n",
      "    hyam           (lev) float64 dask.array<chunksize=(30,), meta=np.ndarray>\n",
      "    hybm           (lev) float64 dask.array<chunksize=(30,), meta=np.ndarray>\n",
      "    P0             float64 ...\n",
      "    hyai           (ilev) float64 dask.array<chunksize=(31,), meta=np.ndarray>\n",
      "    hybi           (ilev) float64 dask.array<chunksize=(31,), meta=np.ndarray>\n",
      "    date           (time) int32 dask.array<chunksize=(1,), meta=np.ndarray>\n",
      "    datesec        (time) int32 dask.array<chunksize=(1,), meta=np.ndarray>\n",
      "    time_bnds      (time, nbnd) object dask.array<chunksize=(1, 2), meta=np.ndarray>\n",
      "    date_written   (time) |S8 dask.array<chunksize=(1,), meta=np.ndarray>\n",
      "    time_written   (time) |S8 dask.array<chunksize=(1,), meta=np.ndarray>\n",
      "    ndbase         int32 ...\n",
      "    nsbase         int32 ...\n",
      "    nbdate         int32 ...\n",
      "    nbsec          int32 ...\n",
      "    mdt            int32 ...\n",
      "    ndcur          (time) int32 dask.array<chunksize=(1,), meta=np.ndarray>\n",
      "    nscur          (time) int32 dask.array<chunksize=(1,), meta=np.ndarray>\n",
      "    co2vmr         (time) float64 dask.array<chunksize=(1,), meta=np.ndarray>\n",
      "    ch4vmr         (time) float64 dask.array<chunksize=(1,), meta=np.ndarray>\n",
      "    n2ovmr         (time) float64 dask.array<chunksize=(1,), meta=np.ndarray>\n",
      "    f11vmr         (time) float64 dask.array<chunksize=(1,), meta=np.ndarray>\n",
      "    f12vmr         (time) float64 dask.array<chunksize=(1,), meta=np.ndarray>\n",
      "    sol_tsi        (time) float64 dask.array<chunksize=(1,), meta=np.ndarray>\n",
      "    nsteph         (time) int32 dask.array<chunksize=(1,), meta=np.ndarray>\n",
      "    AEROD_v        (time, ncol) float32 dask.array<chunksize=(1, 48602), meta=np.ndarray>\n",
      "    ANRAIN         (time, lev, ncol) float32 dask.array<chunksize=(1, 30, 48602), meta=np.ndarray>\n",
      "    ANSNOW         (time, lev, ncol) float32 dask.array<chunksize=(1, 30, 48602), meta=np.ndarray>\n",
      "    AODDUST1       (time, ncol) float32 dask.array<chunksize=(1, 48602), meta=np.ndarray>\n",
      "    AODDUST3       (time, ncol) float32 dask.array<chunksize=(1, 48602), meta=np.ndarray>\n",
      "    AODVIS         (time, ncol) float32 dask.array<chunksize=(1, 48602), meta=np.ndarray>\n",
      "    AQRAIN         (time, lev, ncol) float32 dask.array<chunksize=(1, 30, 48602), meta=np.ndarray>\n",
      "    AQSNOW         (time, lev, ncol) float32 dask.array<chunksize=(1, 30, 48602), meta=np.ndarray>\n",
      "    AREI           (time, lev, ncol) float32 dask.array<chunksize=(1, 30, 48602), meta=np.ndarray>\n",
      "    AREL           (time, lev, ncol) float32 dask.array<chunksize=(1, 30, 48602), meta=np.ndarray>\n",
      "    AWNC           (time, lev, ncol) float32 dask.array<chunksize=(1, 30, 48602), meta=np.ndarray>\n",
      "    AWNI           (time, lev, ncol) float32 dask.array<chunksize=(1, 30, 48602), meta=np.ndarray>\n",
      "    CCN3           (time, lev, ncol) float32 dask.array<chunksize=(1, 30, 48602), meta=np.ndarray>\n",
      "    CDNUMC         (time, ncol) float32 dask.array<chunksize=(1, 48602), meta=np.ndarray>\n",
      "    CLDHGH         (time, ncol) float32 dask.array<chunksize=(1, 48602), meta=np.ndarray>\n",
      "    CLDICE         (time, lev, ncol) float32 dask.array<chunksize=(1, 30, 48602), meta=np.ndarray>\n",
      "    CLDLIQ         (time, lev, ncol) float32 dask.array<chunksize=(1, 30, 48602), meta=np.ndarray>\n",
      "    CLDLOW         (time, ncol) float32 dask.array<chunksize=(1, 48602), meta=np.ndarray>\n",
      "    CLDMED         (time, ncol) float32 dask.array<chunksize=(1, 48602), meta=np.ndarray>\n",
      "    CLDTOT         (time, ncol) float32 dask.array<chunksize=(1, 48602), meta=np.ndarray>\n",
      "    CLOUD          (time, lev, ncol) float32 dask.array<chunksize=(1, 30, 48602), meta=np.ndarray>\n",
      "    CONCLD         (time, lev, ncol) float32 dask.array<chunksize=(1, 30, 48602), meta=np.ndarray>\n",
      "    DCQ            (time, lev, ncol) float32 dask.array<chunksize=(1, 30, 48602), meta=np.ndarray>\n",
      "    DMS_SRF        (time, ncol) float32 dask.array<chunksize=(1, 48602), meta=np.ndarray>\n",
      "    DTCOND         (time, lev, ncol) float32 dask.array<chunksize=(1, 30, 48602), meta=np.ndarray>\n",
      "    DTENDTH        (time, ncol) float32 dask.array<chunksize=(1, 48602), meta=np.ndarray>\n",
      "    DTENDTQ        (time, ncol) float32 dask.array<chunksize=(1, 48602), meta=np.ndarray>\n",
      "    DTV            (time, lev, ncol) float32 dask.array<chunksize=(1, 30, 48602), meta=np.ndarray>\n",
      "    FICE           (time, lev, ncol) float32 dask.array<chunksize=(1, 30, 48602), meta=np.ndarray>\n",
      "    FLDS           (time, ncol) float32 dask.array<chunksize=(1, 48602), meta=np.ndarray>\n",
      "    FLNS           (time, ncol) float32 dask.array<chunksize=(1, 48602), meta=np.ndarray>\n",
      "    FLNSC          (time, ncol) float32 dask.array<chunksize=(1, 48602), meta=np.ndarray>\n",
      "    FLNT           (time, ncol) float32 dask.array<chunksize=(1, 48602), meta=np.ndarray>\n",
      "    FLNTC          (time, ncol) float32 dask.array<chunksize=(1, 48602), meta=np.ndarray>\n",
      "    FLUT           (time, ncol) float32 dask.array<chunksize=(1, 48602), meta=np.ndarray>\n",
      "    FLUTC          (time, ncol) float32 dask.array<chunksize=(1, 48602), meta=np.ndarray>\n",
      "    FREQI          (time, lev, ncol) float32 dask.array<chunksize=(1, 30, 48602), meta=np.ndarray>\n",
      "    FREQL          (time, lev, ncol) float32 dask.array<chunksize=(1, 30, 48602), meta=np.ndarray>\n",
      "    FREQR          (time, lev, ncol) float32 dask.array<chunksize=(1, 30, 48602), meta=np.ndarray>\n",
      "    FREQS          (time, lev, ncol) float32 dask.array<chunksize=(1, 30, 48602), meta=np.ndarray>\n",
      "    FSDS           (time, ncol) float32 dask.array<chunksize=(1, 48602), meta=np.ndarray>\n",
      "    FSDSC          (time, ncol) float32 dask.array<chunksize=(1, 48602), meta=np.ndarray>\n",
      "    FSNS           (time, ncol) float32 dask.array<chunksize=(1, 48602), meta=np.ndarray>\n",
      "    FSNSC          (time, ncol) float32 dask.array<chunksize=(1, 48602), meta=np.ndarray>\n",
      "    FSNT           (time, ncol) float32 dask.array<chunksize=(1, 48602), meta=np.ndarray>\n",
      "    FSNTC          (time, ncol) float32 dask.array<chunksize=(1, 48602), meta=np.ndarray>\n",
      "    FSNTOA         (time, ncol) float32 dask.array<chunksize=(1, 48602), meta=np.ndarray>\n",
      "    FSNTOAC        (time, ncol) float32 dask.array<chunksize=(1, 48602), meta=np.ndarray>\n",
      "    FSUTOA         (time, ncol) float32 dask.array<chunksize=(1, 48602), meta=np.ndarray>\n",
      "    FSUTOAC        (time, ncol) float32 dask.array<chunksize=(1, 48602), meta=np.ndarray>\n",
      "    H2O2_SRF       (time, ncol) float32 dask.array<chunksize=(1, 48602), meta=np.ndarray>\n",
      "    H2SO4_SRF      (time, ncol) float32 dask.array<chunksize=(1, 48602), meta=np.ndarray>\n",
      "    ICEFRAC        (time, ncol) float32 dask.array<chunksize=(1, 48602), meta=np.ndarray>\n",
      "    ICIMR          (time, lev, ncol) float32 dask.array<chunksize=(1, 30, 48602), meta=np.ndarray>\n",
      "    ICWMR          (time, lev, ncol) float32 dask.array<chunksize=(1, 30, 48602), meta=np.ndarray>\n",
      "    IWC            (time, lev, ncol) float32 dask.array<chunksize=(1, 30, 48602), meta=np.ndarray>\n",
      "    LANDFRAC       (time, ncol) float32 dask.array<chunksize=(1, 48602), meta=np.ndarray>\n",
      "    LHFLX          (time, ncol) float32 dask.array<chunksize=(1, 48602), meta=np.ndarray>\n",
      "    LIQCLDF        (time, lev, ncol) float32 dask.array<chunksize=(1, 30, 48602), meta=np.ndarray>\n",
      "    LWCF           (time, ncol) float32 dask.array<chunksize=(1, 48602), meta=np.ndarray>\n",
      "    NUMICE         (time, lev, ncol) float32 dask.array<chunksize=(1, 30, 48602), meta=np.ndarray>\n",
      "    NUMLIQ         (time, lev, ncol) float32 dask.array<chunksize=(1, 30, 48602), meta=np.ndarray>\n",
      "    OCNFRAC        (time, ncol) float32 dask.array<chunksize=(1, 48602), meta=np.ndarray>\n",
      "    OMEGA          (time, lev, ncol) float32 dask.array<chunksize=(1, 30, 48602), meta=np.ndarray>\n",
      "    OMEGA500       (time, ncol) float32 dask.array<chunksize=(1, 48602), meta=np.ndarray>\n",
      "    OMEGAT         (time, lev, ncol) float32 dask.array<chunksize=(1, 30, 48602), meta=np.ndarray>\n",
      "    PBLH           (time, ncol) float32 dask.array<chunksize=(1, 48602), meta=np.ndarray>\n",
      "    PHIS           (time, ncol) float32 dask.array<chunksize=(1, 48602), meta=np.ndarray>\n",
      "    PRECC          (time, ncol) float32 dask.array<chunksize=(1, 48602), meta=np.ndarray>\n",
      "    PRECL          (time, ncol) float32 dask.array<chunksize=(1, 48602), meta=np.ndarray>\n",
      "    PRECSC         (time, ncol) float32 dask.array<chunksize=(1, 48602), meta=np.ndarray>\n",
      "    PRECSL         (time, ncol) float32 dask.array<chunksize=(1, 48602), meta=np.ndarray>\n",
      "    PS             (time, ncol) float32 dask.array<chunksize=(1, 48602), meta=np.ndarray>\n",
      "    PSL            (time, ncol) float32 dask.array<chunksize=(1, 48602), meta=np.ndarray>\n",
      "    Q              (time, lev, ncol) float32 dask.array<chunksize=(1, 30, 48602), meta=np.ndarray>\n",
      "    QFLX           (time, ncol) float32 dask.array<chunksize=(1, 48602), meta=np.ndarray>\n",
      "    QREFHT         (time, ncol) float32 dask.array<chunksize=(1, 48602), meta=np.ndarray>\n",
      "    QRL            (time, lev, ncol) float32 dask.array<chunksize=(1, 30, 48602), meta=np.ndarray>\n",
      "    QRS            (time, lev, ncol) float32 dask.array<chunksize=(1, 30, 48602), meta=np.ndarray>\n",
      "    RELHUM         (time, lev, ncol) float32 dask.array<chunksize=(1, 30, 48602), meta=np.ndarray>\n",
      "    SHFLX          (time, ncol) float32 dask.array<chunksize=(1, 48602), meta=np.ndarray>\n",
      "    SNOWHICE       (time, ncol) float32 dask.array<chunksize=(1, 48602), meta=np.ndarray>\n",
      "    SNOWHLND       (time, ncol) float32 dask.array<chunksize=(1, 48602), meta=np.ndarray>\n",
      "    SO2_SRF        (time, ncol) float32 dask.array<chunksize=(1, 48602), meta=np.ndarray>\n",
      "    SOAG_SRF       (time, ncol) float32 dask.array<chunksize=(1, 48602), meta=np.ndarray>\n",
      "    SOLIN          (time, ncol) float32 dask.array<chunksize=(1, 48602), meta=np.ndarray>\n",
      "    SWCF           (time, ncol) float32 dask.array<chunksize=(1, 48602), meta=np.ndarray>\n",
      "    T              (time, lev, ncol) float32 dask.array<chunksize=(1, 30, 48602), meta=np.ndarray>\n",
      "    TAUGWX         (time, ncol) float32 dask.array<chunksize=(1, 48602), meta=np.ndarray>\n",
      "    TAUGWY         (time, ncol) float32 dask.array<chunksize=(1, 48602), meta=np.ndarray>\n",
      "    TAUX           (time, ncol) float32 dask.array<chunksize=(1, 48602), meta=np.ndarray>\n",
      "    TAUY           (time, ncol) float32 dask.array<chunksize=(1, 48602), meta=np.ndarray>\n",
      "    TGCLDCWP       (time, ncol) float32 dask.array<chunksize=(1, 48602), meta=np.ndarray>\n",
      "    TGCLDIWP       (time, ncol) float32 dask.array<chunksize=(1, 48602), meta=np.ndarray>\n",
      "    TGCLDLWP       (time, ncol) float32 dask.array<chunksize=(1, 48602), meta=np.ndarray>\n",
      "    TH7001000      (time, ncol) float32 dask.array<chunksize=(1, 48602), meta=np.ndarray>\n",
      "    TMQ            (time, ncol) float32 dask.array<chunksize=(1, 48602), meta=np.ndarray>\n",
      "    TREFHT         (time, ncol) float32 dask.array<chunksize=(1, 48602), meta=np.ndarray>\n",
      "    TROP_P         (time, ncol) float32 dask.array<chunksize=(1, 48602), meta=np.ndarray>\n",
      "    TROP_T         (time, ncol) float32 dask.array<chunksize=(1, 48602), meta=np.ndarray>\n",
      "    TS             (time, ncol) float32 dask.array<chunksize=(1, 48602), meta=np.ndarray>\n",
      "    TSMN           (time, ncol) float32 dask.array<chunksize=(1, 48602), meta=np.ndarray>\n",
      "    TSMX           (time, ncol) float32 dask.array<chunksize=(1, 48602), meta=np.ndarray>\n",
      "    TUH            (time, ncol) float32 dask.array<chunksize=(1, 48602), meta=np.ndarray>\n",
      "    TUQ            (time, ncol) float32 dask.array<chunksize=(1, 48602), meta=np.ndarray>\n",
      "    TVH            (time, ncol) float32 dask.array<chunksize=(1, 48602), meta=np.ndarray>\n",
      "    TVQ            (time, ncol) float32 dask.array<chunksize=(1, 48602), meta=np.ndarray>\n",
      "    U              (time, lev, ncol) float32 dask.array<chunksize=(1, 30, 48602), meta=np.ndarray>\n",
      "    U10            (time, ncol) float32 dask.array<chunksize=(1, 48602), meta=np.ndarray>\n",
      "    UU             (time, lev, ncol) float32 dask.array<chunksize=(1, 30, 48602), meta=np.ndarray>\n",
      "    V              (time, lev, ncol) float32 dask.array<chunksize=(1, 30, 48602), meta=np.ndarray>\n",
      "    VD01           (time, lev, ncol) float32 dask.array<chunksize=(1, 30, 48602), meta=np.ndarray>\n",
      "    VQ             (time, lev, ncol) float32 dask.array<chunksize=(1, 30, 48602), meta=np.ndarray>\n",
      "    VT             (time, lev, ncol) float32 dask.array<chunksize=(1, 30, 48602), meta=np.ndarray>\n",
      "    VU             (time, lev, ncol) float32 dask.array<chunksize=(1, 30, 48602), meta=np.ndarray>\n",
      "    VV             (time, lev, ncol) float32 dask.array<chunksize=(1, 30, 48602), meta=np.ndarray>\n",
      "    WGUSTD         (time, ncol) float32 dask.array<chunksize=(1, 48602), meta=np.ndarray>\n",
      "    WSUB           (time, lev, ncol) float32 dask.array<chunksize=(1, 30, 48602), meta=np.ndarray>\n",
      "    Z3             (time, lev, ncol) float32 dask.array<chunksize=(1, 30, 48602), meta=np.ndarray>\n",
      "    bc_a1_SRF      (time, ncol) float32 dask.array<chunksize=(1, 48602), meta=np.ndarray>\n",
      "    dst_a1_SRF     (time, ncol) float32 dask.array<chunksize=(1, 48602), meta=np.ndarray>\n",
      "    dst_a3_SRF     (time, ncol) float32 dask.array<chunksize=(1, 48602), meta=np.ndarray>\n",
      "    hstobie_linoz  (time, lev, ncol) float32 dask.array<chunksize=(1, 30, 48602), meta=np.ndarray>\n",
      "    ncl_a1_SRF     (time, ncol) float32 dask.array<chunksize=(1, 48602), meta=np.ndarray>\n",
      "    ncl_a2_SRF     (time, ncol) float32 dask.array<chunksize=(1, 48602), meta=np.ndarray>\n",
      "    ncl_a3_SRF     (time, ncol) float32 dask.array<chunksize=(1, 48602), meta=np.ndarray>\n",
      "    num_a1_SRF     (time, ncol) float32 dask.array<chunksize=(1, 48602), meta=np.ndarray>\n",
      "    num_a2_SRF     (time, ncol) float32 dask.array<chunksize=(1, 48602), meta=np.ndarray>\n",
      "    num_a3_SRF     (time, ncol) float32 dask.array<chunksize=(1, 48602), meta=np.ndarray>\n",
      "    pom_a1_SRF     (time, ncol) float32 dask.array<chunksize=(1, 48602), meta=np.ndarray>\n",
      "    so4_a1_SRF     (time, ncol) float32 dask.array<chunksize=(1, 48602), meta=np.ndarray>\n",
      "    so4_a2_SRF     (time, ncol) float32 dask.array<chunksize=(1, 48602), meta=np.ndarray>\n",
      "    so4_a3_SRF     (time, ncol) float32 dask.array<chunksize=(1, 48602), meta=np.ndarray>\n",
      "    soa_a1_SRF     (time, ncol) float32 dask.array<chunksize=(1, 48602), meta=np.ndarray>\n",
      "    soa_a2_SRF     (time, ncol) float32 dask.array<chunksize=(1, 48602), meta=np.ndarray>\n",
      "Attributes:\n",
      "    ne:                30\n",
      "    np:                4\n",
      "    Conventions:       CF-1.0\n",
      "    source:            CAM\n",
      "    case:              E1850C5CLM45CNMC.ne30_oECv3_3\n",
      "    title:             UNSET\n",
      "    logname:           ogaruba\n",
      "    host:              cori06\n",
      "    Version:           $Name$\n",
      "    revision_Id:       $Id$\n",
      "    initial_file:      /project/projectdirs/e3sm/inputdata/atm/cam/inic/homme...\n",
      "    topography_file:   /project/projectdirs/e3sm/inputdata/atm/cam/topo/USGS-...\n",
      "    time_period_freq:  month_1\n",
      "(1, 48602)\n",
      "area weighted mean [-9.82662606]\n"
     ]
    }
   ],
   "source": [
    "# identify a model case directory, and a directory to store remapped climo files\n",
    "import os\n",
    "host = os.environ.get('HOST')\n",
    "print(host)\n",
    "if ('cori' in host):\n",
    "    indir = '/global/cscratch1/sd/ogaruba/acme_scratch/cori-haswell/archive/E1850C5CLM45CNMC.ne30_oECv3_3/atm/hist/E1850C5CLM45CNMC.ne30_oECv3_3.cam.h0.*-06.nc'\n",
    "    indir = '/global/cscratch1/sd/ogaruba/acme_scratch/cori-haswell/archive/E1850C5CLM45CNMC.ne30_oECv3_3/atm/hist/E1850C5CLM45CNMC.ne30_oECv3_3.cam.h0.*.nc'\n",
    "    indir = '/global/cscratch1/sd/ogaruba/acme_scratch/cori-haswell/archive/E1850C5CLM45CNMC.ne30_oECv3_3/atm/hist/E1850C5CLM45CNMC.ne30_oECv3_3.cam.h0.0049-06.nc'\n",
    "else:\n",
    "    indir = '~/NetCDF_Files/vd05_ANN_climo.nc'\n",
    "#os.path.exists(indir)\n",
    "DS = xr.open_mfdataset(indir).chunk({'time': 20})\n",
    "print(DS)\n",
    "weights = DS.area\n",
    "weights.name = 'weights'\n",
    "#print(weights)\n",
    "#print(weights.sum(),4.*pi)\n",
    "#Var = DS.FSNT.isel(time=0)\n",
    "Var = DS.FSNT - DS.FLNT\n",
    "print(Var.shape)\n",
    "#Varwt = Var.weighted(weights)\n",
    "#print(Varwt)\n",
    "#Varmean = Varwt.mean('ncol')\n",
    "#print(Varmean)\n",
    "Varm2 = Var.weighted(weights).mean('ncol')\n",
    "print('area weighted mean', Varm2.values)"
   ]
  },
  {
   "cell_type": "code",
   "execution_count": 16,
   "metadata": {},
   "outputs": [
    {
     "name": "stdout",
     "output_type": "stream",
     "text": [
      "[-9.82662606]\n"
     ]
    },
    {
     "data": {
      "text/plain": [
       "(array([0., 0., 0., 0., 0., 1., 0., 0., 0., 0.]),\n",
       " array([-10.32662606, -10.22662606, -10.12662606, -10.02662606,\n",
       "         -9.92662606,  -9.82662606,  -9.72662606,  -9.62662606,\n",
       "         -9.52662606,  -9.42662606,  -9.32662606]),\n",
       " <BarContainer object of 10 artists>)"
      ]
     },
     "execution_count": 16,
     "metadata": {},
     "output_type": "execute_result"
    },
    {
     "data": {
      "image/png": "[encoded data removed]",
      "text/plain": [
       "<Figure size 432x288 with 1 Axes>"
      ]
     },
     "metadata": {
      "needs_background": "light"
     },
     "output_type": "display_data"
    }
   ],
   "source": [
    "print(Varm2.values)\n",
    "Varm2.plot()"
   ]
  },
  {
   "cell_type": "code",
   "execution_count": 17,
   "metadata": {},
   "outputs": [
    {
     "name": "stdout",
     "output_type": "stream",
     "text": [
      "<xarray.DataArray (time: 1)>\n",
      "dask.array<truediv, shape=(1,), dtype=float64, chunksize=(1,), chunktype=numpy.ndarray>\n",
      "Coordinates:\n",
      "  * time     (time) object 0049-07-01 00:00:00\n"
     ]
    },
    {
     "ename": "ValueError",
     "evalue": "For window size 12, every chunk should be larger than 6, but the smallest chunk size is 1. Rechunk your array\nwith a larger chunk size or a chunk size that\nmore evenly divides the shape of your array.",
     "output_type": "error",
     "traceback": [
      "\u001b[0;31m---------------------------------------------------------------------------\u001b[0m",
      "\u001b[0;31mValueError\u001b[0m                                Traceback (most recent call last)",
      "\u001b[0;32m~/Python/pjr3.py\u001b[0m in \u001b[0;36m<module>\u001b[0;34m\u001b[0m\n\u001b[1;32m      2\u001b[0m \u001b[0mprint\u001b[0m\u001b[0;34m(\u001b[0m\u001b[0mVarm2\u001b[0m\u001b[0;34m)\u001b[0m\u001b[0;34m\u001b[0m\u001b[0;34m\u001b[0m\u001b[0m\n\u001b[1;32m      3\u001b[0m \u001b[0;31m#Varm2.compute_chunk_sizes()\u001b[0m\u001b[0;34m\u001b[0m\u001b[0;34m\u001b[0m\u001b[0;34m\u001b[0m\u001b[0m\n\u001b[0;32m----> 4\u001b[0;31m \u001b[0mVarm2gra\u001b[0m \u001b[0;34m=\u001b[0m \u001b[0mVarm2\u001b[0m\u001b[0;34m.\u001b[0m\u001b[0mrolling\u001b[0m\u001b[0;34m(\u001b[0m\u001b[0mcenter\u001b[0m\u001b[0;34m=\u001b[0m\u001b[0;32mTrue\u001b[0m\u001b[0;34m,\u001b[0m \u001b[0mtime\u001b[0m\u001b[0;34m=\u001b[0m\u001b[0;36m12\u001b[0m\u001b[0;34m)\u001b[0m\u001b[0;34m.\u001b[0m\u001b[0mmean\u001b[0m\u001b[0;34m(\u001b[0m\u001b[0;34m)\u001b[0m\u001b[0;34m\u001b[0m\u001b[0;34m\u001b[0m\u001b[0m\n\u001b[0m\u001b[1;32m      5\u001b[0m \u001b[0mVarm2gra\u001b[0m\u001b[0;34m.\u001b[0m\u001b[0mplot\u001b[0m\u001b[0;34m(\u001b[0m\u001b[0;34m)\u001b[0m\u001b[0;34m\u001b[0m\u001b[0;34m\u001b[0m\u001b[0m\n",
      "\u001b[0;32m/global/homes/p/pjr/.conda/envs/pjrpy3/lib/python3.8/site-packages/xarray/core/rolling.py\u001b[0m in \u001b[0;36mmethod\u001b[0;34m(self, **kwargs)\u001b[0m\n\u001b[1;32m    123\u001b[0m \u001b[0;34m\u001b[0m\u001b[0m\n\u001b[1;32m    124\u001b[0m         \u001b[0;32mdef\u001b[0m \u001b[0mmethod\u001b[0m\u001b[0;34m(\u001b[0m\u001b[0mself\u001b[0m\u001b[0;34m,\u001b[0m \u001b[0;34m**\u001b[0m\u001b[0mkwargs\u001b[0m\u001b[0;34m)\u001b[0m\u001b[0;34m:\u001b[0m\u001b[0;34m\u001b[0m\u001b[0;34m\u001b[0m\u001b[0m\n\u001b[0;32m--> 125\u001b[0;31m             return self._numpy_or_bottleneck_reduce(\n\u001b[0m\u001b[1;32m    126\u001b[0m                 \u001b[0marray_agg_func\u001b[0m\u001b[0;34m,\u001b[0m \u001b[0mbottleneck_move_func\u001b[0m\u001b[0;34m,\u001b[0m \u001b[0;34m**\u001b[0m\u001b[0mkwargs\u001b[0m\u001b[0;34m\u001b[0m\u001b[0;34m\u001b[0m\u001b[0m\n\u001b[1;32m    127\u001b[0m             )\n",
      "\u001b[0;32m/global/homes/p/pjr/.conda/envs/pjrpy3/lib/python3.8/site-packages/xarray/core/rolling.py\u001b[0m in \u001b[0;36m_numpy_or_bottleneck_reduce\u001b[0;34m(self, array_agg_func, bottleneck_move_func, **kwargs)\u001b[0m\n\u001b[1;32m    387\u001b[0m             \u001b[0;32mreturn\u001b[0m \u001b[0mself\u001b[0m\u001b[0;34m.\u001b[0m\u001b[0m_bottleneck_reduce\u001b[0m\u001b[0;34m(\u001b[0m\u001b[0mbottleneck_move_func\u001b[0m\u001b[0;34m,\u001b[0m \u001b[0;34m**\u001b[0m\u001b[0mkwargs\u001b[0m\u001b[0;34m)\u001b[0m\u001b[0;34m\u001b[0m\u001b[0;34m\u001b[0m\u001b[0m\n\u001b[1;32m    388\u001b[0m         \u001b[0;32melse\u001b[0m\u001b[0;34m:\u001b[0m\u001b[0;34m\u001b[0m\u001b[0;34m\u001b[0m\u001b[0m\n\u001b[0;32m--> 389\u001b[0;31m             \u001b[0;32mreturn\u001b[0m \u001b[0mself\u001b[0m\u001b[0;34m.\u001b[0m\u001b[0mreduce\u001b[0m\u001b[0;34m(\u001b[0m\u001b[0marray_agg_func\u001b[0m\u001b[0;34m,\u001b[0m \u001b[0;34m**\u001b[0m\u001b[0mkwargs\u001b[0m\u001b[0;34m)\u001b[0m\u001b[0;34m\u001b[0m\u001b[0;34m\u001b[0m\u001b[0m\n\u001b[0m\u001b[1;32m    390\u001b[0m \u001b[0;34m\u001b[0m\u001b[0m\n\u001b[1;32m    391\u001b[0m \u001b[0;34m\u001b[0m\u001b[0m\n",
      "\u001b[0;32m/global/homes/p/pjr/.conda/envs/pjrpy3/lib/python3.8/site-packages/xarray/core/rolling.py\u001b[0m in \u001b[0;36mreduce\u001b[0;34m(self, func, **kwargs)\u001b[0m\n\u001b[1;32m    302\u001b[0m         \"\"\"\n\u001b[1;32m    303\u001b[0m         \u001b[0mrolling_dim\u001b[0m \u001b[0;34m=\u001b[0m \u001b[0mutils\u001b[0m\u001b[0;34m.\u001b[0m\u001b[0mget_temp_dimname\u001b[0m\u001b[0;34m(\u001b[0m\u001b[0mself\u001b[0m\u001b[0;34m.\u001b[0m\u001b[0mobj\u001b[0m\u001b[0;34m.\u001b[0m\u001b[0mdims\u001b[0m\u001b[0;34m,\u001b[0m \u001b[0;34m\"_rolling_dim\"\u001b[0m\u001b[0;34m)\u001b[0m\u001b[0;34m\u001b[0m\u001b[0;34m\u001b[0m\u001b[0m\n\u001b[0;32m--> 304\u001b[0;31m         \u001b[0mwindows\u001b[0m \u001b[0;34m=\u001b[0m \u001b[0mself\u001b[0m\u001b[0;34m.\u001b[0m\u001b[0mconstruct\u001b[0m\u001b[0;34m(\u001b[0m\u001b[0mrolling_dim\u001b[0m\u001b[0;34m)\u001b[0m\u001b[0;34m\u001b[0m\u001b[0;34m\u001b[0m\u001b[0m\n\u001b[0m\u001b[1;32m    305\u001b[0m         \u001b[0mresult\u001b[0m \u001b[0;34m=\u001b[0m \u001b[0mwindows\u001b[0m\u001b[0;34m.\u001b[0m\u001b[0mreduce\u001b[0m\u001b[0;34m(\u001b[0m\u001b[0mfunc\u001b[0m\u001b[0;34m,\u001b[0m \u001b[0mdim\u001b[0m\u001b[0;34m=\u001b[0m\u001b[0mrolling_dim\u001b[0m\u001b[0;34m,\u001b[0m \u001b[0;34m**\u001b[0m\u001b[0mkwargs\u001b[0m\u001b[0;34m)\u001b[0m\u001b[0;34m\u001b[0m\u001b[0;34m\u001b[0m\u001b[0m\n\u001b[1;32m    306\u001b[0m \u001b[0;34m\u001b[0m\u001b[0m\n",
      "\u001b[0;32m/global/homes/p/pjr/.conda/envs/pjrpy3/lib/python3.8/site-packages/xarray/core/rolling.py\u001b[0m in \u001b[0;36mconstruct\u001b[0;34m(self, window_dim, stride, fill_value)\u001b[0m\n\u001b[1;32m    252\u001b[0m         \u001b[0;32mfrom\u001b[0m \u001b[0;34m.\u001b[0m\u001b[0mdataarray\u001b[0m \u001b[0;32mimport\u001b[0m \u001b[0mDataArray\u001b[0m\u001b[0;34m\u001b[0m\u001b[0;34m\u001b[0m\u001b[0m\n\u001b[1;32m    253\u001b[0m \u001b[0;34m\u001b[0m\u001b[0m\n\u001b[0;32m--> 254\u001b[0;31m         window = self.obj.variable.rolling_window(\n\u001b[0m\u001b[1;32m    255\u001b[0m             \u001b[0mself\u001b[0m\u001b[0;34m.\u001b[0m\u001b[0mdim\u001b[0m\u001b[0;34m,\u001b[0m \u001b[0mself\u001b[0m\u001b[0;34m.\u001b[0m\u001b[0mwindow\u001b[0m\u001b[0;34m,\u001b[0m \u001b[0mwindow_dim\u001b[0m\u001b[0;34m,\u001b[0m \u001b[0mself\u001b[0m\u001b[0;34m.\u001b[0m\u001b[0mcenter\u001b[0m\u001b[0;34m,\u001b[0m \u001b[0mfill_value\u001b[0m\u001b[0;34m=\u001b[0m\u001b[0mfill_value\u001b[0m\u001b[0;34m\u001b[0m\u001b[0;34m\u001b[0m\u001b[0m\n\u001b[1;32m    256\u001b[0m         )\n",
      "\u001b[0;32m/global/homes/p/pjr/.conda/envs/pjrpy3/lib/python3.8/site-packages/xarray/core/variable.py\u001b[0m in \u001b[0;36mrolling_window\u001b[0;34m(self, dim, window, window_dim, center, fill_value)\u001b[0m\n\u001b[1;32m   1923\u001b[0m         return Variable(\n\u001b[1;32m   1924\u001b[0m             \u001b[0mnew_dims\u001b[0m\u001b[0;34m,\u001b[0m\u001b[0;34m\u001b[0m\u001b[0;34m\u001b[0m\u001b[0m\n\u001b[0;32m-> 1925\u001b[0;31m             duck_array_ops.rolling_window(\n\u001b[0m\u001b[1;32m   1926\u001b[0m                 \u001b[0marray\u001b[0m\u001b[0;34m,\u001b[0m\u001b[0;34m\u001b[0m\u001b[0;34m\u001b[0m\u001b[0m\n\u001b[1;32m   1927\u001b[0m                 \u001b[0maxis\u001b[0m\u001b[0;34m=\u001b[0m\u001b[0mself\u001b[0m\u001b[0;34m.\u001b[0m\u001b[0mget_axis_num\u001b[0m\u001b[0;34m(\u001b[0m\u001b[0mdim\u001b[0m\u001b[0;34m)\u001b[0m\u001b[0;34m,\u001b[0m\u001b[0;34m\u001b[0m\u001b[0;34m\u001b[0m\u001b[0m\n",
      "\u001b[0;32m/global/homes/p/pjr/.conda/envs/pjrpy3/lib/python3.8/site-packages/xarray/core/duck_array_ops.py\u001b[0m in \u001b[0;36mrolling_window\u001b[0;34m(array, axis, window, center, fill_value)\u001b[0m\n\u001b[1;32m    612\u001b[0m     \"\"\"\n\u001b[1;32m    613\u001b[0m     \u001b[0;32mif\u001b[0m \u001b[0misinstance\u001b[0m\u001b[0;34m(\u001b[0m\u001b[0marray\u001b[0m\u001b[0;34m,\u001b[0m \u001b[0mdask_array_type\u001b[0m\u001b[0;34m)\u001b[0m\u001b[0;34m:\u001b[0m\u001b[0;34m\u001b[0m\u001b[0;34m\u001b[0m\u001b[0m\n\u001b[0;32m--> 614\u001b[0;31m         \u001b[0;32mreturn\u001b[0m \u001b[0mdask_array_ops\u001b[0m\u001b[0;34m.\u001b[0m\u001b[0mrolling_window\u001b[0m\u001b[0;34m(\u001b[0m\u001b[0marray\u001b[0m\u001b[0;34m,\u001b[0m \u001b[0maxis\u001b[0m\u001b[0;34m,\u001b[0m \u001b[0mwindow\u001b[0m\u001b[0;34m,\u001b[0m \u001b[0mcenter\u001b[0m\u001b[0;34m,\u001b[0m \u001b[0mfill_value\u001b[0m\u001b[0;34m)\u001b[0m\u001b[0;34m\u001b[0m\u001b[0;34m\u001b[0m\u001b[0m\n\u001b[0m\u001b[1;32m    615\u001b[0m     \u001b[0;32melse\u001b[0m\u001b[0;34m:\u001b[0m  \u001b[0;31m# np.ndarray\u001b[0m\u001b[0;34m\u001b[0m\u001b[0;34m\u001b[0m\u001b[0m\n\u001b[1;32m    616\u001b[0m         \u001b[0;32mreturn\u001b[0m \u001b[0mnputils\u001b[0m\u001b[0;34m.\u001b[0m\u001b[0mrolling_window\u001b[0m\u001b[0;34m(\u001b[0m\u001b[0marray\u001b[0m\u001b[0;34m,\u001b[0m \u001b[0maxis\u001b[0m\u001b[0;34m,\u001b[0m \u001b[0mwindow\u001b[0m\u001b[0;34m,\u001b[0m \u001b[0mcenter\u001b[0m\u001b[0;34m,\u001b[0m \u001b[0mfill_value\u001b[0m\u001b[0;34m)\u001b[0m\u001b[0;34m\u001b[0m\u001b[0;34m\u001b[0m\u001b[0m\n",
      "\u001b[0;32m/global/homes/p/pjr/.conda/envs/pjrpy3/lib/python3.8/site-packages/xarray/core/dask_array_ops.py\u001b[0m in \u001b[0;36mrolling_window\u001b[0;34m(a, axis, window, center, fill_value)\u001b[0m\n\u001b[1;32m     42\u001b[0m \u001b[0;34m\u001b[0m\u001b[0m\n\u001b[1;32m     43\u001b[0m     \u001b[0;32mif\u001b[0m \u001b[0mdepth\u001b[0m\u001b[0;34m[\u001b[0m\u001b[0maxis\u001b[0m\u001b[0;34m]\u001b[0m \u001b[0;34m>\u001b[0m \u001b[0mmin\u001b[0m\u001b[0;34m(\u001b[0m\u001b[0ma\u001b[0m\u001b[0;34m.\u001b[0m\u001b[0mchunks\u001b[0m\u001b[0;34m[\u001b[0m\u001b[0maxis\u001b[0m\u001b[0;34m]\u001b[0m\u001b[0;34m)\u001b[0m\u001b[0;34m:\u001b[0m\u001b[0;34m\u001b[0m\u001b[0;34m\u001b[0m\u001b[0m\n\u001b[0;32m---> 44\u001b[0;31m         raise ValueError(\n\u001b[0m\u001b[1;32m     45\u001b[0m             \u001b[0;34m\"For window size %d, every chunk should be larger than %d, \"\u001b[0m\u001b[0;34m\u001b[0m\u001b[0;34m\u001b[0m\u001b[0m\n\u001b[1;32m     46\u001b[0m             \u001b[0;34m\"but the smallest chunk size is %d. Rechunk your array\\n\"\u001b[0m\u001b[0;34m\u001b[0m\u001b[0;34m\u001b[0m\u001b[0m\n",
      "\u001b[0;31mValueError\u001b[0m: For window size 12, every chunk should be larger than 6, but the smallest chunk size is 1. Rechunk your array\nwith a larger chunk size or a chunk size that\nmore evenly divides the shape of your array."
     ]
    }
   ],
   "source": [
    "Varm2.shape \n",
    "print(Varm2)\n",
    "#Varm2.compute_chunk_sizes()\n",
    "Varm2gra = Varm2.rolling(center=True, time=12).mean()\n",
    "Varm2gra.plot()"
   ]
  },
  {
   "cell_type": "code",
   "execution_count": 22,
   "metadata": {},
   "outputs": [
    {
     "name": "stdout",
     "output_type": "stream",
     "text": [
      "cori16\n"
     ]
    },
    {
     "ename": "ValueError",
     "evalue": "Could not find any dimension coordinates to use to order the datasets for concatenation",
     "output_type": "error",
     "traceback": [
      "\u001b[0;31m---------------------------------------------------------------------------\u001b[0m",
      "\u001b[0;31mValueError\u001b[0m                                Traceback (most recent call last)",
      "\u001b[0;32m~/Python/pjr3.py\u001b[0m in \u001b[0;36m<module>\u001b[0;34m\u001b[0m\n\u001b[1;32m      9\u001b[0m \u001b[0;34m\u001b[0m\u001b[0m\n\u001b[1;32m     10\u001b[0m \u001b[0;31m#os.path.exists(indir)\u001b[0m\u001b[0;34m\u001b[0m\u001b[0;34m\u001b[0m\u001b[0;34m\u001b[0m\u001b[0m\n\u001b[0;32m---> 11\u001b[0;31m \u001b[0mDSi\u001b[0m \u001b[0;34m=\u001b[0m \u001b[0mxr\u001b[0m\u001b[0;34m.\u001b[0m\u001b[0mopen_mfdataset\u001b[0m\u001b[0;34m(\u001b[0m\u001b[0mindiri\u001b[0m\u001b[0;34m)\u001b[0m\u001b[0;34m.\u001b[0m\u001b[0mchunk\u001b[0m\u001b[0;34m(\u001b[0m\u001b[0;34m{\u001b[0m\u001b[0;34m'time'\u001b[0m\u001b[0;34m:\u001b[0m \u001b[0;36m20\u001b[0m\u001b[0;34m}\u001b[0m\u001b[0;34m)\u001b[0m\u001b[0;34m\u001b[0m\u001b[0;34m\u001b[0m\u001b[0m\n\u001b[0m\u001b[1;32m     12\u001b[0m \u001b[0mprint\u001b[0m\u001b[0;34m(\u001b[0m\u001b[0mDSi\u001b[0m\u001b[0;34m)\u001b[0m\u001b[0;34m\u001b[0m\u001b[0;34m\u001b[0m\u001b[0m\n\u001b[1;32m     13\u001b[0m \u001b[0mweights\u001b[0m \u001b[0;34m=\u001b[0m \u001b[0mDSi\u001b[0m\u001b[0;34m.\u001b[0m\u001b[0marea\u001b[0m\u001b[0;34m\u001b[0m\u001b[0;34m\u001b[0m\u001b[0m\n",
      "\u001b[0;32m/global/homes/p/pjr/.conda/envs/pjrpy3/lib/python3.8/site-packages/xarray/backends/api.py\u001b[0m in \u001b[0;36mopen_mfdataset\u001b[0;34m(paths, chunks, concat_dim, compat, preprocess, engine, lock, data_vars, coords, combine, autoclose, parallel, join, attrs_file, **kwargs)\u001b[0m\n\u001b[1;32m    944\u001b[0m             \u001b[0;31m# Redo ordering from coordinates, ignoring how they were ordered\u001b[0m\u001b[0;34m\u001b[0m\u001b[0;34m\u001b[0m\u001b[0;34m\u001b[0m\u001b[0m\n\u001b[1;32m    945\u001b[0m             \u001b[0;31m# previously\u001b[0m\u001b[0;34m\u001b[0m\u001b[0;34m\u001b[0m\u001b[0;34m\u001b[0m\u001b[0m\n\u001b[0;32m--> 946\u001b[0;31m             combined = combine_by_coords(\n\u001b[0m\u001b[1;32m    947\u001b[0m                 \u001b[0mdatasets\u001b[0m\u001b[0;34m,\u001b[0m\u001b[0;34m\u001b[0m\u001b[0;34m\u001b[0m\u001b[0m\n\u001b[1;32m    948\u001b[0m                 \u001b[0mcompat\u001b[0m\u001b[0;34m=\u001b[0m\u001b[0mcompat\u001b[0m\u001b[0;34m,\u001b[0m\u001b[0;34m\u001b[0m\u001b[0;34m\u001b[0m\u001b[0m\n",
      "\u001b[0;32m/global/homes/p/pjr/.conda/envs/pjrpy3/lib/python3.8/site-packages/xarray/core/combine.py\u001b[0m in \u001b[0;36mcombine_by_coords\u001b[0;34m(datasets, compat, data_vars, coords, fill_value, join, combine_attrs)\u001b[0m\n\u001b[1;32m    720\u001b[0m     \u001b[0mconcatenated_grouped_by_data_vars\u001b[0m \u001b[0;34m=\u001b[0m \u001b[0;34m[\u001b[0m\u001b[0;34m]\u001b[0m\u001b[0;34m\u001b[0m\u001b[0;34m\u001b[0m\u001b[0m\n\u001b[1;32m    721\u001b[0m     \u001b[0;32mfor\u001b[0m \u001b[0mvars\u001b[0m\u001b[0;34m,\u001b[0m \u001b[0mdatasets_with_same_vars\u001b[0m \u001b[0;32min\u001b[0m \u001b[0mgrouped_by_vars\u001b[0m\u001b[0;34m:\u001b[0m\u001b[0;34m\u001b[0m\u001b[0;34m\u001b[0m\u001b[0m\n\u001b[0;32m--> 722\u001b[0;31m         combined_ids, concat_dims = _infer_concat_order_from_coords(\n\u001b[0m\u001b[1;32m    723\u001b[0m             \u001b[0mlist\u001b[0m\u001b[0;34m(\u001b[0m\u001b[0mdatasets_with_same_vars\u001b[0m\u001b[0;34m)\u001b[0m\u001b[0;34m\u001b[0m\u001b[0;34m\u001b[0m\u001b[0m\n\u001b[1;32m    724\u001b[0m         )\n",
      "\u001b[0;32m/global/homes/p/pjr/.conda/envs/pjrpy3/lib/python3.8/site-packages/xarray/core/combine.py\u001b[0m in \u001b[0;36m_infer_concat_order_from_coords\u001b[0;34m(datasets)\u001b[0m\n\u001b[1;32m    104\u001b[0m \u001b[0;34m\u001b[0m\u001b[0m\n\u001b[1;32m    105\u001b[0m     \u001b[0;32mif\u001b[0m \u001b[0mlen\u001b[0m\u001b[0;34m(\u001b[0m\u001b[0mdatasets\u001b[0m\u001b[0;34m)\u001b[0m \u001b[0;34m>\u001b[0m \u001b[0;36m1\u001b[0m \u001b[0;32mand\u001b[0m \u001b[0;32mnot\u001b[0m \u001b[0mconcat_dims\u001b[0m\u001b[0;34m:\u001b[0m\u001b[0;34m\u001b[0m\u001b[0;34m\u001b[0m\u001b[0m\n\u001b[0;32m--> 106\u001b[0;31m         raise ValueError(\n\u001b[0m\u001b[1;32m    107\u001b[0m             \u001b[0;34m\"Could not find any dimension coordinates to use to \"\u001b[0m\u001b[0;34m\u001b[0m\u001b[0;34m\u001b[0m\u001b[0m\n\u001b[1;32m    108\u001b[0m             \u001b[0;34m\"order the datasets for concatenation\"\u001b[0m\u001b[0;34m\u001b[0m\u001b[0;34m\u001b[0m\u001b[0m\n",
      "\u001b[0;31mValueError\u001b[0m: Could not find any dimension coordinates to use to order the datasets for concatenation"
     ]
    }
   ],
   "source": [
    "print(host)\n",
    "if ('cori' in host):\n",
    "    indiri = '/global/cscratch1/sd/ogaruba/acme_scratch/cori-haswell/archive/E1850C5CLM45CNMC.ne30_oECv3_3/ice/hist/E1850C5CLM45CNMC.ne30_oECv3_3.cam.h0.*-06.nc'\n",
    "    indiri = '/global/cscratch1/sd/ogaruba/acme_scratch/cori-haswell/archive/E1850C5CLM45CNMC.ne30_oECv3_3/ice/hist/E1850C5CLM45CNMC.ne30_oECv3_3.cam.h0.*.nc'\n",
    "    indiri = '/global/cscratch1/sd/ogaruba/acme_scratch/cori-haswell/archive/E1850C5CLM45CNMC.ne30_oECv3_3/ice/hist/*hist.0046*.nc'\n",
    "else:\n",
    "    print(host)\n",
    "    indiri = '~/NetCDF_Files/vd05_ANN_climo.nc'\n",
    "\n",
    "#os.path.exists(indir)\n",
    "DSi = xr.open_mfdataset(indiri).chunk({'time': 20})\n",
    "print(DSi)\n",
    "weights = DSi.area\n",
    "weights.name = 'weights'\n",
    "print(weights)\n",
    "#print(weights.sum(),4.*pi)\n"
   ]
  },
  {
   "cell_type": "code",
   "execution_count": null,
   "metadata": {},
   "outputs": [],
   "source": [
    "FSNT = DS.FSNT\n",
    "FSNTg = FSNT.weighted(weights).mean('ncol')\n",
    "FSNTg.plot()"
   ]
  },
  {
   "cell_type": "code",
   "execution_count": null,
   "metadata": {},
   "outputs": [],
   "source": [
    "import os\n",
    "inCmd='ncdump -h '+indir\n",
    "outCmd = os.popen(inCmd).read()\n",
    "print(inCmd)\n",
    "print(outCmd)"
   ]
  },
  {
   "cell_type": "code",
   "execution_count": null,
   "metadata": {},
   "outputs": [],
   "source": [
    "T = DS.T\n",
    "print(T)"
   ]
  },
  {
   "cell_type": "code",
   "execution_count": null,
   "metadata": {},
   "outputs": [],
   "source": [
    "#DS = xr.open_dataset('~/NetCDF_Files/vd05_ANN_climo.nc')\n",
    "#print (DS.T) \n",
    "T = DS.T.isel(time=0)\n",
    "#T?\n",
    "TZ = T.mean(dim='lon')\n",
    "#TZ?\n",
    "lev = TZ['lev']\n",
    "lat = TZ['lat']\n",
    "vals = TZ.values\n",
    "plotZMf(vals, lat, lev)\n"
   ]
  },
  {
   "cell_type": "code",
   "execution_count": null,
   "metadata": {},
   "outputs": [],
   "source": [
    "TZ.plot()\n",
    "plt.show()"
   ]
  },
  {
   "cell_type": "code",
   "execution_count": null,
   "metadata": {},
   "outputs": [],
   "source": [
    "da = DS.PS# Draw coastlines of the Earth\n",
    "ax = plt.axes(projection=ccrs.PlateCarree())\n",
    "ax.coastlines() \n",
    "\n",
    "\n",
    "\n",
    "da.plot()\n",
    "plt.show()"
   ]
  },
  {
   "cell_type": "code",
   "execution_count": null,
   "metadata": {},
   "outputs": [],
   "source": [
    "TS = DS.TS# Draw coastlines of the Earth\n",
    "TS = TS.isel(time=0)\n",
    "ax = plt.axes(projection=ccrs.Robinson())\n",
    "ax.coastlines()\n",
    "lon = TS['lon']\n",
    "lat = TS['lat']\n",
    "ax.contourf(lon, lat, TS, transform=ccrs.PlateCarree())\n",
    "\n",
    "da.plot()\n",
    "plt.show()"
   ]
  }
 ],
 "metadata": {
  "kernelspec": {
   "display_name": "pjrpy3",
   "language": "python",
   "name": "pjrpy3"
  },
  "language_info": {
   "codemirror_mode": {
    "name": "ipython",
    "version": 3
   },
   "file_extension": ".py",
   "mimetype": "text/x-python",
   "name": "python",
   "nbconvert_exporter": "python",
   "pygments_lexer": "ipython3",
   "version": "3.8.5"
  }
 },
 "nbformat": 4,
 "nbformat_minor": 4
}
