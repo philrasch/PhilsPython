{
 "cells": [
  {
   "cell_type": "code",
   "execution_count": 1,
   "metadata": {},
   "outputs": [
    {
     "name": "stdout",
     "output_type": "stream",
     "text": [
      "3.7.10 | packaged by conda-forge | (default, Feb 19 2021, 16:07:37) \n",
      "[GCC 9.3.0]\n",
      "pjr3.py complete\n",
      "xxx\n"
     ]
    }
   ],
   "source": [
    "import sys\n",
    "print(sys.version)\n",
    "%matplotlib inline\n",
    "%run -i ~/Python/pjr3\n",
    "print('xxx')"
   ]
  },
  {
   "cell_type": "code",
   "execution_count": 14,
   "metadata": {},
   "outputs": [
    {
     "name": "stdout",
     "output_type": "stream",
     "text": [
      "sooty.pnl.gov\n",
      "/lustre/d3x345/E3SM_prodsims/20210720.F2010.ne30pg2_r05_PJR2b.ne30pg2_r05_oECv3/tests/S_1x10_ndays/run/climo_ne30/20210720.F2010.ne30pg2_r05_PJR2b.ne30pg2_r05_oECv3_ANN_000101_000212_climo.nc\n",
      "FLNT units, min, mean, landmean, oceanmean, icemean, max,  W/m2 126.25417 239.5527863961146 232.6448983680503 245.19643410198637 195.09955594449312 296.09183\n",
      "FSNT units, min, mean, landmean, oceanmean, icemean, max,  W/m2 49.062614 240.50755796833388 216.29705443763868 259.84157738683416 92.32741820388354 360.4479\n"
     ]
    }
   ],
   "source": [
    "import os\n",
    "import platform\n",
    "host = platform.node()\n",
    "print(host)\n",
    "resolution = 'low'\n",
    "if ('sooty' in host):\n",
    "    if (resolution == 'low'):\n",
    "        indir = 'x'\n",
    "    else:\n",
    "        indir = 'y'\n",
    "    indir = '/lustre/d3x345/E3SM_prodsims/20210720.F2010.ne30pg2_r05_PJR2b.ne30pg2_r05_oECv3/tests/S_1x10_ndays/run/climo_ne30/20210720.F2010.ne30pg2_r05_PJR2b.ne30pg2_r05_oECv3_ANN_000101_000212_climo.nc'\n",
    "#    indir = '/home/d3x345/20210720.F2010.ne30pg2_r05_PJR2d.ne30pg2_r05_oECv3_ANN_000101_000212_climo.nc'\n",
    "else:\n",
    "    indir = os.path.expanduser('~/NetCDF_Files/vd05_ANN_climo.nc')\n",
    "print(indir)\n",
    "#print('exists',os.path.exists(indir))\n",
    "DS = xr.open_mfdataset(indir) #.chunk({'time': 20})\n",
    "#print(DS)\n",
    "weights = DS.area\n",
    "weights.name = 'weights'\n",
    "#print(weights)\n",
    "#print(weights.sum(),4.*pi)\n",
    "#Var = DS.FSNT.isel(time=0)\n",
    "varname = 'FLNT'\n",
    "LF = DS['LANDFRAC']\n",
    "OF = DS['OCNFRAC']\n",
    "IF = DS['ICEFRAC']\n",
    "Var = DS[varname]\n",
    "VG = Var.weighted(weights).mean()\n",
    "VL = (Var*LF).weighted(weights).mean()/LF.weighted(weights).mean()\n",
    "VO = (Var*OF).weighted(weights).mean()/OF.weighted(weights).mean()\n",
    "VI = (Var*IF).weighted(weights).mean()/IF.weighted(weights).mean()\n",
    "\n",
    "print(varname,'units, min, mean, landmean, oceanmean, icemean, max, ',Var.attrs['units'],Var.values.min(),VG.values,VL.values,VO.values,VI.values,Var.values.max())\n",
    "\n",
    "varname = 'FSNT'\n",
    "LF = DS['LANDFRAC']\n",
    "OF = DS['OCNFRAC']\n",
    "IF = DS['ICEFRAC']\n",
    "Var = DS[varname]\n",
    "VG = Var.weighted(weights).mean()\n",
    "VL = (Var*LF).weighted(weights).mean()/LF.weighted(weights).mean()\n",
    "VO = (Var*OF).weighted(weights).mean()/OF.weighted(weights).mean()\n",
    "VI = (Var*IF).weighted(weights).mean()/IF.weighted(weights).mean()\n",
    "\n",
    "print(varname,'units, min, mean, landmean, oceanmean, icemean, max, ',Var.attrs['units'],Var.values.min(),VG.values,VL.values,VO.values,VI.values,Var.values.max())\n"
   ]
  },
  {
   "cell_type": "code",
   "execution_count": 4,
   "metadata": {},
   "outputs": [
    {
     "name": "stdout",
     "output_type": "stream",
     "text": [
      "<xarray.Dataset>\n",
      "Dimensions:              (cosp_ht: 40, cosp_htmisr: 16, cosp_prs: 7, cosp_reffice: 6, cosp_reffliq: 6, cosp_scol: 10, cosp_sr: 15, cosp_sza: 5, cosp_tau: 7, cosp_tau_modis: 7, ilev: 73, lev: 72, nbnd: 2, ncol: 21600, time: 24)\n",
      "Coordinates: (12/13)\n",
      "  * lev                  (lev) float64 0.1238 0.1828 0.2699 ... 993.8 998.5\n",
      "  * ilev                 (ilev) float64 0.1 0.1477 0.218 ... 990.5 997.0 1e+03\n",
      "  * cosp_prs             (cosp_prs) float64 9e+04 7.4e+04 ... 2.45e+04 9e+03\n",
      "  * cosp_tau             (cosp_tau) float64 0.15 0.8 2.45 6.5 16.2 41.5 100.0\n",
      "  * cosp_scol            (cosp_scol) int32 1 2 3 4 5 6 7 8 9 10\n",
      "  * cosp_ht              (cosp_ht) float64 1.896e+04 1.848e+04 ... 720.0 240.0\n",
      "    ...                   ...\n",
      "  * cosp_sza             (cosp_sza) float64 0.0 20.0 40.0 60.0 80.0\n",
      "  * cosp_htmisr          (cosp_htmisr) float64 0.0 250.0 ... 1.6e+04 1.8e+04\n",
      "  * cosp_tau_modis       (cosp_tau_modis) float64 0.15 0.8 2.45 ... 41.5 100.0\n",
      "  * cosp_reffice         (cosp_reffice) float64 5e-06 1.5e-05 ... 5e-05 7.5e-05\n",
      "  * cosp_reffliq         (cosp_reffliq) float64 4e-06 9e-06 ... 1.75e-05 2.5e-05\n",
      "  * time                 (time) object 0001-02-01 00:00:00 ... 0003-01-01 00:...\n",
      "Dimensions without coordinates: nbnd, ncol\n",
      "Data variables: (12/469)\n",
      "    lat                  (time, ncol) float64 dask.array<chunksize=(1, 21600), meta=np.ndarray>\n",
      "    lon                  (time, ncol) float64 dask.array<chunksize=(1, 21600), meta=np.ndarray>\n",
      "    area                 (time, ncol) float64 dask.array<chunksize=(1, 21600), meta=np.ndarray>\n",
      "    hyam                 (time, lev) float64 dask.array<chunksize=(1, 72), meta=np.ndarray>\n",
      "    hybm                 (time, lev) float64 dask.array<chunksize=(1, 72), meta=np.ndarray>\n",
      "    P0                   (time) float64 1e+05 1e+05 1e+05 ... 1e+05 1e+05 1e+05\n",
      "    ...                   ...\n",
      "    soa_c1DDF            (time, ncol) float32 dask.array<chunksize=(1, 21600), meta=np.ndarray>\n",
      "    soa_c1SFWET          (time, ncol) float32 dask.array<chunksize=(1, 21600), meta=np.ndarray>\n",
      "    soa_c2DDF            (time, ncol) float32 dask.array<chunksize=(1, 21600), meta=np.ndarray>\n",
      "    soa_c2SFWET          (time, ncol) float32 dask.array<chunksize=(1, 21600), meta=np.ndarray>\n",
      "    soa_c3DDF            (time, ncol) float32 dask.array<chunksize=(1, 21600), meta=np.ndarray>\n",
      "    soa_c3SFWET          (time, ncol) float32 dask.array<chunksize=(1, 21600), meta=np.ndarray>\n",
      "Attributes: (12/19)\n",
      "    ne:                30\n",
      "    fv_nphys:          2\n",
      "    title:             EAM History file information\n",
      "    source:            E3SM Atmosphere Model\n",
      "    source_id:         47351d206d\n",
      "    product:           model-output\n",
      "    ...                ...\n",
      "    institution_id:    E3SM-Project\n",
      "    institution:       LLNL (Lawrence Livermore National Laboratory, Livermor...\n",
      "    contact:           e3sm-data-support@listserv.llnl.gov\n",
      "    initial_file:      /pic/projects/sooty2/d3x345/e3sm_inputdata/atm/cam/ini...\n",
      "    topography_file:   /pic/projects/sooty2/d3x345/e3sm_inputdata/atm/cam/top...\n",
      "    time_period_freq:  month_1\n"
     ]
    }
   ],
   "source": [
    "indira = '/lustre/d3x345/E3SM_prodsims/20210720.F2010.ne30pg2_r05_PJR2b.ne30pg2_r05_oECv3/tests/S_1x10_ndays/run/*.eam.h0.*.nc'\n",
    "DSA = xr.open_mfdataset(indira)\n",
    "print(DSA)\n"
   ]
  },
  {
   "cell_type": "code",
   "execution_count": 5,
   "metadata": {},
   "outputs": [
    {
     "name": "stdout",
     "output_type": "stream",
     "text": [
      "time <xarray.DataArray 'time' (time: 24)>\n",
      "array([cftime.DatetimeNoLeap(1, 2, 1, 0, 0, 0, 0),\n",
      "       cftime.DatetimeNoLeap(1, 3, 1, 0, 0, 0, 0),\n",
      "       cftime.DatetimeNoLeap(1, 4, 1, 0, 0, 0, 0),\n",
      "       cftime.DatetimeNoLeap(1, 5, 1, 0, 0, 0, 0),\n",
      "       cftime.DatetimeNoLeap(1, 6, 1, 0, 0, 0, 0),\n",
      "       cftime.DatetimeNoLeap(1, 7, 1, 0, 0, 0, 0),\n",
      "       cftime.DatetimeNoLeap(1, 8, 1, 0, 0, 0, 0),\n",
      "       cftime.DatetimeNoLeap(1, 9, 1, 0, 0, 0, 0),\n",
      "       cftime.DatetimeNoLeap(1, 10, 1, 0, 0, 0, 0),\n",
      "       cftime.DatetimeNoLeap(1, 11, 1, 0, 0, 0, 0),\n",
      "       cftime.DatetimeNoLeap(1, 12, 1, 0, 0, 0, 0),\n",
      "       cftime.DatetimeNoLeap(2, 1, 1, 0, 0, 0, 0),\n",
      "       cftime.DatetimeNoLeap(2, 2, 1, 0, 0, 0, 0),\n",
      "       cftime.DatetimeNoLeap(2, 3, 1, 0, 0, 0, 0),\n",
      "       cftime.DatetimeNoLeap(2, 4, 1, 0, 0, 0, 0),\n",
      "       cftime.DatetimeNoLeap(2, 5, 1, 0, 0, 0, 0),\n",
      "       cftime.DatetimeNoLeap(2, 6, 1, 0, 0, 0, 0),\n",
      "       cftime.DatetimeNoLeap(2, 7, 1, 0, 0, 0, 0),\n",
      "       cftime.DatetimeNoLeap(2, 8, 1, 0, 0, 0, 0),\n",
      "       cftime.DatetimeNoLeap(2, 9, 1, 0, 0, 0, 0),\n",
      "       cftime.DatetimeNoLeap(2, 10, 1, 0, 0, 0, 0),\n",
      "       cftime.DatetimeNoLeap(2, 11, 1, 0, 0, 0, 0),\n",
      "       cftime.DatetimeNoLeap(2, 12, 1, 0, 0, 0, 0),\n",
      "       cftime.DatetimeNoLeap(3, 1, 1, 0, 0, 0, 0)], dtype=object)\n",
      "Coordinates:\n",
      "  * time     (time) object 0001-02-01 00:00:00 ... 0003-01-01 00:00:00\n",
      "Attributes:\n",
      "    long_name:  time\n",
      "    bounds:     time_bnds\n"
     ]
    }
   ],
   "source": [
    "# the time coord is registered at the end of the time averaging interval\n",
    "# determine the midpoint of the interval and the length of the interval, \n",
    "time = DSA['time']\n",
    "print('time',time)\n",
    "bndname = time.attrs['bounds']\n",
    "time_bnds = DSA[bndname]\n",
    "tb = time_bnds.values\n",
    "tint = (tb[:,1]-tb[:,0])\n",
    "tbm = tint/2. + tb[:,0]\n"
   ]
  },
  {
   "cell_type": "code",
   "execution_count": 7,
   "metadata": {},
   "outputs": [
    {
     "name": "stdout",
     "output_type": "stream",
     "text": [
      "<xarray.Dataset>\n",
      "Dimensions:              (cosp_ht: 40, cosp_htmisr: 16, cosp_prs: 7, cosp_reffice: 6, cosp_reffliq: 6, cosp_scol: 10, cosp_sr: 15, cosp_sza: 5, cosp_tau: 7, cosp_tau_modis: 7, ilev: 73, lev: 72, nbnd: 2, ncol: 21600, time: 24)\n",
      "Coordinates: (12/13)\n",
      "  * lev                  (lev) float64 0.1238 0.1828 0.2699 ... 993.8 998.5\n",
      "  * ilev                 (ilev) float64 0.1 0.1477 0.218 ... 990.5 997.0 1e+03\n",
      "  * cosp_prs             (cosp_prs) float64 9e+04 7.4e+04 ... 2.45e+04 9e+03\n",
      "  * cosp_tau             (cosp_tau) float64 0.15 0.8 2.45 6.5 16.2 41.5 100.0\n",
      "  * cosp_scol            (cosp_scol) int32 1 2 3 4 5 6 7 8 9 10\n",
      "  * cosp_ht              (cosp_ht) float64 1.896e+04 1.848e+04 ... 720.0 240.0\n",
      "    ...                   ...\n",
      "  * cosp_sza             (cosp_sza) float64 0.0 20.0 40.0 60.0 80.0\n",
      "  * cosp_htmisr          (cosp_htmisr) float64 0.0 250.0 ... 1.6e+04 1.8e+04\n",
      "  * cosp_tau_modis       (cosp_tau_modis) float64 0.15 0.8 2.45 ... 41.5 100.0\n",
      "  * cosp_reffice         (cosp_reffice) float64 5e-06 1.5e-05 ... 5e-05 7.5e-05\n",
      "  * cosp_reffliq         (cosp_reffliq) float64 4e-06 9e-06 ... 1.75e-05 2.5e-05\n",
      "  * time                 (time) object 0001-01-16 12:00:00 ... 0002-12-16 12:...\n",
      "Dimensions without coordinates: nbnd, ncol\n",
      "Data variables: (12/469)\n",
      "    lat                  (time, ncol) float64 dask.array<chunksize=(1, 21600), meta=np.ndarray>\n",
      "    lon                  (time, ncol) float64 dask.array<chunksize=(1, 21600), meta=np.ndarray>\n",
      "    area                 (time, ncol) float64 dask.array<chunksize=(1, 21600), meta=np.ndarray>\n",
      "    hyam                 (time, lev) float64 dask.array<chunksize=(1, 72), meta=np.ndarray>\n",
      "    hybm                 (time, lev) float64 dask.array<chunksize=(1, 72), meta=np.ndarray>\n",
      "    P0                   (time) float64 1e+05 1e+05 1e+05 ... 1e+05 1e+05 1e+05\n",
      "    ...                   ...\n",
      "    soa_c1DDF            (time, ncol) float32 dask.array<chunksize=(1, 21600), meta=np.ndarray>\n",
      "    soa_c1SFWET          (time, ncol) float32 dask.array<chunksize=(1, 21600), meta=np.ndarray>\n",
      "    soa_c2DDF            (time, ncol) float32 dask.array<chunksize=(1, 21600), meta=np.ndarray>\n",
      "    soa_c2SFWET          (time, ncol) float32 dask.array<chunksize=(1, 21600), meta=np.ndarray>\n",
      "    soa_c3DDF            (time, ncol) float32 dask.array<chunksize=(1, 21600), meta=np.ndarray>\n",
      "    soa_c3SFWET          (time, ncol) float32 dask.array<chunksize=(1, 21600), meta=np.ndarray>\n",
      "Attributes: (12/19)\n",
      "    ne:                30\n",
      "    fv_nphys:          2\n",
      "    title:             EAM History file information\n",
      "    source:            E3SM Atmosphere Model\n",
      "    source_id:         47351d206d\n",
      "    product:           model-output\n",
      "    ...                ...\n",
      "    institution_id:    E3SM-Project\n",
      "    institution:       LLNL (Lawrence Livermore National Laboratory, Livermor...\n",
      "    contact:           e3sm-data-support@listserv.llnl.gov\n",
      "    initial_file:      /pic/projects/sooty2/d3x345/e3sm_inputdata/atm/cam/ini...\n",
      "    topography_file:   /pic/projects/sooty2/d3x345/e3sm_inputdata/atm/cam/top...\n",
      "    time_period_freq:  month_1\n"
     ]
    }
   ],
   "source": [
    "# reset the time coordinate, and make sure it keeps its original attributes\n",
    "DSA.coords[\"time\"] = tbm\n",
    "DSA['time'].attrs['long_name'] = 'time'\n",
    "DSA['time'].attrs['bounds'] = 'time_bnds'\n",
    "print(DSA)"
   ]
  },
  {
   "cell_type": "code",
   "execution_count": 25,
   "metadata": {},
   "outputs": [
    {
     "name": "stdout",
     "output_type": "stream",
     "text": [
      "<xarray.DataArray (time: 24)>\n",
      "array([31, 28, 31, 30, 31, 30, 31, 31, 30, 31, 30, 31, 31, 28, 31, 30, 31,\n",
      "       30, 31, 31, 30, 31, 30, 31])\n",
      "Coordinates:\n",
      "  * time     (time) object 0001-01-16 12:00:00 ... 0002-12-16 12:00:00\n"
     ]
    }
   ],
   "source": [
    "# assuming we are using monthly mean history files\n",
    "# calculate the number of days per month and convert to a dataarray with same time coord\n",
    "\n",
    "#print('tttdays',ttt.astype(int))\n",
    "##print(tint)\n",
    "#print(tint.shape, type(tint[0]), tint.astype(\"timedelta64[D]\").astype(float)  )\n",
    "#DSA.coords[\"days_in_month\"]\n",
    "#DSA.coords[\"days_in_month\"] = tint.astype(\"timedelta64[D]\").astype(int) \n",
    "#dpm = xr.DataArray(dims='time',data=DSA['days_in_month'].values)\n",
    "dpm = xr.DataArray(dims='time',data=tint.astype(\"timedelta64[D]\").astype(int))\n",
    "dpm = dpm.assign_coords(time=DSA['time'])\n",
    "print(dpm)"
   ]
  },
  {
   "cell_type": "code",
   "execution_count": 28,
   "metadata": {},
   "outputs": [
    {
     "name": "stdout",
     "output_type": "stream",
     "text": [
      "x1 [ 8.67671036 10.2852225   8.56118621  3.58300336 -0.20695067 -7.07284573\n",
      " -8.14335228 -7.59151847 -2.61458152  1.21169994  5.11338035  7.64363145\n",
      "  8.28590376  8.28283642  6.61736733  3.10035673 -3.50905352 -8.48170193\n",
      " -9.75797678 -9.29180201 -2.66613104  0.73886668  5.32968073  6.06667037]\n",
      "Y1 1.5697219906179252\n",
      "Y2 0.33982138299063785\n",
      "YA 0.9547716868042815\n"
     ]
    }
   ],
   "source": [
    "RESTOM1 = DSA['FSNT'].sel(time='0001') - DSA['FLNT'].sel(time='0001')\n",
    "RESTOM2 = DSA['FSNT'].sel(time='0002') - DSA['FLNT'].sel(time='0002')\n",
    "RESTOMA = DSA['FSNT']-DSA['FLNT']\n",
    "wlocal = weights\n",
    "RESTOM1G = RESTOM1.weighted(wlocal).mean(dim='ncol')\n",
    "RESTOM2G = RESTOM2.weighted(wlocal).mean(dim='ncol')\n",
    "RESTOMAG = RESTOMA.weighted(wlocal).mean(dim='ncol')\n",
    "print('x1', RESTOMAG.values)\n",
    "print('Y1', RESTOM1G.weighted(dpm.sel(time='0001')).mean(dim='time').values)\n",
    "print('Y2', RESTOM2G.weighted(dpm.sel(time='0002')).mean(dim='time').values)\n",
    "print('YA', RESTOMAG.weighted(dpm).mean(dim='time').values)\n"
   ]
  },
  {
   "cell_type": "markdown",
   "metadata": {},
   "source": [
    "# debugging stuff"
   ]
  },
  {
   "cell_type": "code",
   "execution_count": null,
   "metadata": {},
   "outputs": [],
   "source": [
    "# checking the selection of times\n",
    "SWCF1 = DSA['SWCF'].sel(time='0001')\n",
    "#print(SWCF1)\n",
    "SWCF2 = DSA['SWCF'].sel(time='0002')\n",
    "#print(SWCF2)\n",
    "SWCFA = DSA['SWCF'].sel(time=slice('0001','0003'))\n",
    "print(SWCFA)"
   ]
  },
  {
   "cell_type": "code",
   "execution_count": null,
   "metadata": {},
   "outputs": [],
   "source": [
    "# checking the effect of correct weighting of days per month\n",
    "print('dpm',dpm)\n",
    "print('area wts', type(weights))\n",
    "SWCFAG = SWCFA.weighted(weights).mean(dim='ncol')\n",
    "#print(SWCFAG)\n",
    "print('all months get same weight', SWCFAG.mean().values)\n",
    "print('weighted by days in month', SWCFAG.weighted(dpm).mean(dim='time').values)\n"
   ]
  },
  {
   "cell_type": "code",
   "execution_count": null,
   "metadata": {},
   "outputs": [],
   "source": [
    "import os\n",
    "inCmd='ncdump -h '+indir\n",
    "outCmd = os.popen(inCmd).read()\n",
    "print(inCmd)\n",
    "print(outCmd)"
   ]
  },
  {
   "cell_type": "code",
   "execution_count": null,
   "metadata": {},
   "outputs": [],
   "source": [
    "# understanding datatime behavior\n",
    "import datetime\n",
    "import numpy\n",
    "\n",
    "times = numpy.array([datetime.timedelta(0, 1, 36000)] * 4)\n",
    "print('xxx',times)\n",
    "print('x2',times[0])\n",
    "\n",
    "dt1 = datetime.timedelta(0, 1, 36000)\n",
    "dt2 = datetime.timedelta(2,2,36000)\n",
    "dt3 = datetime.timedelta(0,7,3600)\n",
    "\n",
    "ttt = np.array([dt1,dt2,dt3])\n",
    "print('d1',dt1.days)\n",
    "print('d2',dt2.days)\n",
    "print('d3',dt3.days)\n",
    "print('ttt',ttt)\n",
    "ttt.astype(\"timedelta64[D]\").astype(int)"
   ]
  }
 ],
 "metadata": {
  "kernelspec": {
   "display_name": "pjrpy3",
   "language": "python",
   "name": "pjrpy3"
  },
  "language_info": {
   "codemirror_mode": {
    "name": "ipython",
    "version": 3
   },
   "file_extension": ".py",
   "mimetype": "text/x-python",
   "name": "python",
   "nbconvert_exporter": "python",
   "pygments_lexer": "ipython3",
   "version": "3.7.10"
  },
  "selected_variables": [],
  "vcdat_file_path": "",
  "vcdat_loaded_variables": [],
  "vcdat_variable_info": {}
 },
 "nbformat": 4,
 "nbformat_minor": 4
}
