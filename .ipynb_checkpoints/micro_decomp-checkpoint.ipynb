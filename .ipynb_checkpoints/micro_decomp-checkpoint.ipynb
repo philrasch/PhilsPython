{
 "cells": [
  {
   "cell_type": "markdown",
   "metadata": {},
   "source": [
    "# Email from Jiwen\n",
    "\n",
    "Hi Phil,\n",
    "Sorry for the delay in passing the hydrometer size distribution data to you. \n",
    "For start, I provide the SD data from the May20 squall line case from MC3E in the following directory  on Constance (I will add you to project dcc_fan)\n",
    "/pic/projects/dcc_fan/hanb924/Intercomparison/outputs/results_interactive_5minfreq/results_inter_sbmsd_5min\n",
    "\n",
    "The file names starting with \"inter_h02_d01_2011-05-20”. The squall line mature period is around 9:00-10:00 so you can choose the files between the times if you want to try the data during the mature period. You can choose the data in the earlier or later time period too (the data are in 5-min time frequency).\n",
    "\n",
    "In each file, the variables ff1i01 to ff1i33 are the bins for liquid particles,  ff5i01 to ff5i33 for ice/snow bins in the fast version and ff6i01 to ff6i33 for graupel or hail bins. The unite are in kg/kg. if you want to transform to number concentration, you need to multiply by air density (unit:kg/m3) , then divided by mass of a single particle over the corresponding bin.  The mass of a single particle for each bin is in the file masses.asc (under the same folder). The file can be read as \n",
    " XL(33),XI (3, 33),XS(33),XG(33),XH(33) for liquid, 3 types of ice crystals, snow, graupel, and hail. \n",
    "Please let me know if you have any questions about the data.\n",
    "\n",
    "Thanks a lot,\n",
    "Jiwen\n",
    "\n",
    "\n"
   ]
  },
  {
   "cell_type": "code",
   "execution_count": null,
   "metadata": {
    "collapsed": true
   },
   "outputs": [],
   "source": []
  },
  {
   "cell_type": "code",
   "execution_count": 4,
   "metadata": {
    "collapsed": false
   },
   "outputs": [],
   "source": [
    "%matplotlib inline\n",
    "from pjr import *"
   ]
  },
  {
   "cell_type": "code",
   "execution_count": 7,
   "metadata": {
    "collapsed": false
   },
   "outputs": [
    {
     "name": "stdout",
     "output_type": "stream",
     "text": [
      "['DateStrLen', 'Time', 'south_north', 'west_east_stag', 'bottom_top_stag', 'bottom_top', 'west_east', 'south_north_stag']\n",
      "type of varlist <type 'list'>\n",
      "time    id: Time\n",
      "   Designated a time axis.\n",
      "   units:  \n",
      "   Length: 1\n",
      "   First:  0.0\n",
      "   Last:   0.0\n",
      "   Python id:  0x11b489810\n",
      "\n",
      "xc    id: west_east\n",
      "   units:  \n",
      "   Length: 600\n",
      "   First:  0.0\n",
      "   Last:   599.0\n",
      "   Python id:  0x11b489950\n",
      "\n",
      "yc    id: south_north\n",
      "   units:  \n",
      "   Length: 510\n",
      "   First:  0.0\n",
      "   Last:   509.0\n",
      "   Python id:  0x11b489850\n",
      "\n",
      "zc    id: bottom_top\n",
      "   units:  \n",
      "   Length: 50\n",
      "   First:  0.0\n",
      "   Last:   49.0\n",
      "   Python id:  0x11b489910\n",
      "\n",
      "xyz is  (16, 355, 461)\n",
      "bnum [  0.00000000e+00   6.61279718e-19   1.41070942e-08   1.50317845e-07\n",
      "   7.96229813e-07   5.24111783e-06   5.13548366e-06   2.62317280e-05\n",
      "   5.81767817e-05   5.80328342e-05   1.67656799e-05   2.97596625e-06\n",
      "   1.68501671e-07   3.73316933e-09   4.63456551e-10   3.92150135e-09\n",
      "   1.22882412e-07   1.21384312e-06   5.31965634e-06   1.26837867e-05\n",
      "   1.70977655e-05   2.14250576e-05   5.33365492e-05   1.30736677e-04\n",
      "   3.37050529e-04   6.95036375e-04   1.57028949e-03   2.93298927e-03\n",
      "   1.13032875e-03   1.89684535e-04   2.31697231e-05   2.30535920e-06\n",
      "   3.46914071e-08]\n",
      "coefs are  [ -1.62437703e+01   2.97063316e+00  -6.73881033e-02  -1.07137832e-02\n",
      "   5.76056798e-04  -9.90533229e-06   5.61927100e-08]\n",
      "info is [array([ 21.00435416]), 7, array([  2.48647986e+00,   8.50584816e-01,   2.97291323e-01,\n",
      "         7.32115938e-02,   1.33468343e-02,   1.77334800e-03,\n",
      "         1.51218326e-04]), 7.3274719625260332e-15]\n"
     ]
    },
    {
     "data": {
      "image/png": "[encoded data removed]",
      "text/plain": [
       "<matplotlib.figure.Figure at 0x10cefc350>"
      ]
     },
     "metadata": {},
     "output_type": "display_data"
    }
   ],
   "source": [
    "from numpy.polynomial.legendre import legfit, legval\n",
    "f = cdms2.open(\"/Users/d3x345/Desktop/NetCDF_files/inter_h02_d01_2011-05-20_14:30:00\");\n",
    "varlist = f.listvariables();\n",
    "dims = f.listdimension();\n",
    "print dims;\n",
    "#print varlist;\n",
    "print \"type of varlist\", type(varlist)\n",
    "time = f['Time']\n",
    "xc = f['west_east']\n",
    "yc = f['south_north']\n",
    "zc = f['bottom_top']\n",
    "print 'time', time\n",
    "print 'xc',xc\n",
    "print 'yc',yc\n",
    "print 'zc',zc\n",
    "\n",
    "\n",
    "# access the 33 bins containing liquid\n",
    "for index in range(1,34):\n",
    "    fname = \"ff1i\"+str(index).zfill(2)\n",
    "#    print fname\n",
    "    V = f(fname)\n",
    "#    print \"shape\", V.shape\n",
    "#    print \"range\", V.min(), V.max()\n",
    "\n",
    "# a first look shows that bin 28 has high mass, so lets find the coord where that occurs\n",
    "V = f('ff1i28')\n",
    "V0 = V[0]  # change from a transient array to a regular one\n",
    "i,j,k = np.where(V0 == V0.max()) # indices of max value\n",
    "xyz = zip(i,j,k)[0]\n",
    "print \"xyz is \", xyz\n",
    "\n",
    "for index in range(1,34):\n",
    "    fname = \"ff1i\"+str(index).zfill(2)\n",
    "    V = f(fname)\n",
    "    V0 = V[0]\n",
    "    binval = V0[xyz]\n",
    "#    print \"index\", index, type(index)\n",
    "    if index == 1:\n",
    "        bnum = np.array([binval])\n",
    "    else:\n",
    "        bnum = np.concatenate((bnum,np.array([binval])))\n",
    "#    print \"bnum.type\", bnum, type(bnum)\n",
    "\n",
    "print \"bnum\", bnum\n",
    "#    print fname\n",
    "#    V = f(fname)\n",
    "#    print \"shape\", V.shape\n",
    "#    print \"range\", V.min(), V.max()\n",
    "\n",
    "# since we may want to use logarithms put a lower bound on mass\n",
    "bmin = bnum.max()*1.e-10\n",
    "bnum = np.maximum(bnum,bmin)\n",
    "\n",
    "# convert to log base 10\n",
    "bnum = np.log10(bnum)\n",
    "\n",
    "binind = np.array(range(1,34))  # coordinate for the absicca\n",
    "\n",
    "plt.figure(figsize=(16, 4))\n",
    "plt.rc('lines', linewidth=2)\n",
    "plt.plot(binind, bnum)\n",
    "#plt.plot(x, y, '--', linewidth=2)\n",
    "c,info = legfit(binind, bnum, 6, full=True)\n",
    "bf = legval(binind,c)\n",
    "plt.plot(binind, bf,'--')\n",
    "\n",
    "print \"coefs are \", c\n",
    "# info contain, residual, rank, singular values, condition number\n",
    "print \"info is\", info\n",
    "plt.show()\n"
   ]
  },
  {
   "cell_type": "code",
   "execution_count": null,
   "metadata": {
    "collapsed": true
   },
   "outputs": [],
   "source": []
  },
  {
   "cell_type": "code",
   "execution_count": null,
   "metadata": {
    "collapsed": true
   },
   "outputs": [],
   "source": []
  }
 ],
 "metadata": {
  "kernelspec": {
   "display_name": "Python 2",
   "language": "python",
   "name": "python2"
  },
  "language_info": {
   "codemirror_mode": {
    "name": "ipython",
    "version": 2
   },
   "file_extension": ".py",
   "mimetype": "text/x-python",
   "name": "python",
   "nbconvert_exporter": "python",
   "pygments_lexer": "ipython2",
   "version": "2.7.11"
  }
 },
 "nbformat": 4,
 "nbformat_minor": 0
}
