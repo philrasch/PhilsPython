{
 "cells": [
  {
   "cell_type": "code",
   "execution_count": 1,
   "metadata": {},
   "outputs": [
    {
     "name": "stdout",
     "output_type": "stream",
     "text": [
      "pjr.py complete\n"
     ]
    }
   ],
   "source": [
    "%matplotlib inline\n",
    "from pjr import *\n",
    "import string\n",
    "from timeit import default_timer as timer"
   ]
  },
  {
   "cell_type": "markdown",
   "metadata": {},
   "source": [
    "test latex syntax $a = b^2$"
   ]
  },
  {
   "cell_type": "code",
   "execution_count": 75,
   "metadata": {},
   "outputs": [
    {
     "name": "stdout",
     "output_type": "stream",
     "text": [
      "jname0 /global/project/projectdirs/acme/acme_diags/obs_for_acme_diags/MERRA2_ANN_1980_2016_climo.nc\n"
     ]
    },
    {
     "data": {
      "image/png": "[encoded data removed]",
      "text/plain": [
       "<Figure size 432x288 with 3 Axes>"
      ]
     },
     "metadata": {
      "needs_background": "light"
     },
     "output_type": "display_data"
    }
   ],
   "source": [
    "# original\n",
    "levs = findNiceContours(np.array([40., 1000.]),20.,rmClev=0.)\n",
    "jname0 = '/global/project/projectdirs/acme/acme_diags/obs_for_acme_diags/MERRA2_ANN_1980_2016_climo.nc'\n",
    "g0 = cdms2.open(jname0)\n",
    "\n",
    "print \"jname0\", jname0\n",
    "g0 = cdms2.open(jname0);\n",
    "varlist = g0.listvariables();\n",
    "dims = g0.listdimension();\n",
    "#print dims;\n",
    "#print \"\\n\".join(s for s in varlist if 'T' in s) # find vars that contain 'Z'\n",
    "#print varlist;\n",
    "\n",
    "T =  g0('ta',squeeze=1)            # extract fields, remove dimensions length one\n",
    "\n",
    "niceeta = findNiceContours(eta*1010.0,20,rmClev=0.) # in hPa\n",
    "nlevs = cdms2.createAxis(niceeta) # make a cdms vertical grid to remap to\n",
    "TP0 = T.pressureRegrid(nlevs) \n",
    "TM = g2('T',squeeze=1) # get a model grid so we can regrid\n",
    "TP0 = TP0.regrid(TM.getGrid())\n",
    "# vertical regridding seems to lose the mask so add one back in\n",
    "list = (TP0 > 0.9*TP0.missing_value) \n",
    "TP0.mask = list # make sure the missing vales are masked\n",
    "\n",
    "# the following line does not work\n",
    "#TP0 = T.pressureRegrid(nlevs,missing=TP0.missing_value)\n",
    "#print \"TP0.mask\", TP0.mask\n",
    "#print \"TP0.info()\", TP0.info()\n",
    "\n",
    "TP0xav = cdutil.averager(TP0,axis=\"x\")\n",
    "levsp0 = TP0xav.getAxis(0)\n",
    "lat0 = TP0xav.getAxis(1)\n",
    "#print \"lat0\", len(lat0), lat0\n",
    "#print \"TP0xav range\", TP0xav.min(), TP0xav.max()\n",
    "plotZMf(TP0xav, lat0, levsp0)\n"
   ]
  },
  {
   "cell_type": "code",
   "execution_count": 73,
   "metadata": {},
   "outputs": [
    {
     "name": "stdout",
     "output_type": "stream",
     "text": [
      "jname2 /global/cscratch1/sd/leebrent/climos/output/20180316.DECKv1b_A1.ne30_oEC.edison/rgr/20180316.DECKv1b_A1.ne30_oEC.edison_ANN_197912_200411_climo.nc\n",
      "reconstruct P time =  1.34120202065\n",
      "interp time 24.5200200081\n",
      "lat2    id: lat\n",
      "   Designated a latitude axis.\n",
      "   units:  degrees_north\n",
      "   Length: 257\n",
      "   First:  -90.0\n",
      "   Last:   90.0\n",
      "   Other axis attributes:\n",
      "      realtopology: linear\n",
      "      long_name: Latitude\n",
      "      standard_name: latitude\n",
      "      valid_min: [-90.]\n",
      "      valid_max: [90.]\n",
      "      axis: Y\n",
      "   Python id:  0x2ad44340d110\n",
      "\n",
      "jname1 /global/cscratch1/sd/leebrent/climos/output/f.e11.FAMIP.f09_f09_same_setting_LENS/rgr/f.e11.FAMIP.f09_f09_same_setting_LENS_ANN_197912_200511_climo.nc\n",
      "reconstruct P time =  0.205302000046\n",
      "interp time 10.8488411903\n"
     ]
    },
    {
     "data": {
      "image/png": "[encoded data removed]",
      "text/plain": [
       "<Figure size 432x288 with 3 Axes>"
      ]
     },
     "metadata": {
      "needs_background": "light"
     },
     "output_type": "display_data"
    }
   ],
   "source": [
    "\n",
    "def getZAMP (fspec, vname, levs):\n",
    "    \"\"\"get zonal average field from model on pressure levels\"\"\"\n",
    "    F =  fspec(vname,squeeze=1)            # extract fields, remove dimensions length one\n",
    "    #lat1 = fspec['lat']\n",
    "    #lon1 = fspec['lon']\n",
    "    #lev1 = fspec['lev']\n",
    "\n",
    "    #Fxav = cdutil.averager(F,axis=\"x\")\n",
    "    #print \"Txav=\", Txav.info()\n",
    "\n",
    "    ps = fspec('PS',squeeze=1)\n",
    "    hyam = fspec('hyam',squeeze=1)\n",
    "    hybm = fspec('hybm',squeeze=1)\n",
    "\n",
    "    start = timer()\n",
    "    P = cdutil.reconstructPressureFromHybrid (ps,hyam,hybm,1.e5)\n",
    "    P = P/100.; P.units = \"hPa\"\n",
    "    stop1 = timer()\n",
    "    print  \"reconstruct P time = \", stop1-start\n",
    "    FP1 = cdutil.logLinearInterpolation(F,P,levels=niceeta)\n",
    "    stop2 = timer()\n",
    "    print \"interp time\", stop2-stop1\n",
    "\n",
    "    #print \"FP1.info\", FP1.info()\n",
    "    FP1xav = cdutil.averager(FP1,axis=\"x\")\n",
    "    return FP1xav;\n",
    "\n",
    "\n",
    "\n",
    "\n",
    "dir1 = \"/global/cscratch1/sd/leebrent/climos/output/f.e11.FAMIP.f09_f09_same_setting_LENS/rgr/\"\n",
    "f1 = \"f.e11.FAMIP.f09_f09_same_setting_LENS_ANN_197912_200511_climo.nc\"\n",
    "tit1 = \"CAM5\"\n",
    "jname1 = dir1+f1\n",
    "\n",
    "dir2 = '/global/cscratch1/sd/leebrent/climos/output/20180316.DECKv1b_A1.ne30_oEC.edison/rgr/'\n",
    "f2 = '20180316.DECKv1b_A1.ne30_oEC.edison_ANN_197912_200411_climo.nc'\n",
    "jname2 = dir2+f2\n",
    "print \"jname2\", jname2\n",
    "g2 = cdms2.open(jname2)\n",
    "#print g2\n",
    "TP2xav = getZAMP (g2, 'T', levs)\n",
    "levsp2 = TP2xav.getAxis(0)\n",
    "lat2 = TP2xav.getAxis(1)\n",
    "print \"lat2\", lat2\n",
    "#plotZMf(TP2xav, lat2, levsp2)\n",
    "\n",
    "print \"jname1\", jname1\n",
    "g1 = cdms2.open(jname1);\n",
    "#varlist = g1.listvariables();\n",
    "#dims = g1.listdimension();\n",
    "#print dims;\n",
    "#print \"\\n\".join(s for s in varlist if 'Z' in s) # find vars that contain 'Z'\n",
    "#print varlist;\n",
    "#print \"levs\",levs\n",
    "TP1xav = getZAMP (g1, 'T', levs)\n",
    "\n",
    "levsp1 = TP1xav.getAxis(0)\n",
    "lat1 = TP1xav.getAxis(1)\n",
    "#print \"lat1\", lat1\n",
    "#print \"levsp1\", levsp1\n",
    "DTxav = TP2xav - TP0xav\n",
    "plotZMf(DTxav, lat1, levsp1)\n",
    "\n"
   ]
  },
  {
   "cell_type": "code",
   "execution_count": 6,
   "metadata": {},
   "outputs": [
    {
     "name": "stdout",
     "output_type": "stream",
     "text": [
      "jname /global/cscratch1/sd/leebrent/climos/output/f.e11.FAMIP.f09_f09_same_setting_LENS/f.e11.FAMIP.f09_f09_same_setting_LENS_ANN_197912_200511_climo.nc\n",
      "['chars', 'cosp_dbze', 'cosp_ht', 'cosp_htmisr', 'cosp_prs', 'cosp_scol', 'cosp_sr', 'cosp_sza', 'cosp_tau', 'cosp_tau_modis', 'ilev', 'lat', 'lev', 'lon', 'nbnd', 'slat', 'slon', 'time']\n",
      "EVAPQZM\n",
      "Z3\n",
      "ZMDT\n",
      "ZMDQ\n",
      "ZMDLIQ\n",
      "PRECCDZM\n",
      "CMFMCDZM\n",
      "FREQZM\n",
      "ZMMTT\n",
      "FRZRDT\n",
      "ZMDLF\n",
      "EVAPTZM\n",
      "ZMDICE\n",
      "PRECZ\n",
      "TROP_Z\n",
      "CFAD_DBZE94_CS\n",
      "eta [0.00364347 0.00759482 0.01435663 0.02461222 0.0382683  0.05459548\n",
      " 0.07201245 0.08782123 0.10331713 0.12154724 0.14299404 0.16822508\n",
      " 0.19790809 0.23282862 0.27391082 0.3222419  0.3791009  0.44599257\n",
      " 0.52468717 0.60977869 0.69138943 0.76340448 0.82085837 0.85953477\n",
      " 0.88702025 0.91264455 0.9361984  0.95748548 0.97632541 0.9925561 ]\n",
      "reconstruct P time =  0.114290952682\n",
      "interp time 8.00827908516\n"
     ]
    },
    {
     "data": {
      "image/png": "[encoded data removed]",
      "text/plain": [
       "<Figure size 432x288 with 3 Axes>"
      ]
     },
     "metadata": {
      "needs_background": "light"
     },
     "output_type": "display_data"
    }
   ],
   "source": [
    "dir1 = \"/global/cscratch1/sd/leebrent/climos/output/f.e11.FAMIP.f09_f09_same_setting_LENS/\"\n",
    "f1 = \"f.e11.FAMIP.f09_f09_same_setting_LENS_ANN_197912_200511_climo.nc\"\n",
    "tit1 = \"CAM5\"\n",
    "jname1 = dir1+f1\n",
    "\n",
    "print \"jname\", jname\n",
    "g1 = cdms2.open(jname);\n",
    "varlist = g1.listvariables();\n",
    "dims = g1.listdimension();\n",
    "#print dims;\n",
    "#print \"\\n\".join(s for s in varlist if 'Z' in s) # find vars that contain 'Z'\n",
    "#print varlist;\n",
    "\n",
    "T =  g1('T',squeeze=1)            # extract fields, remove dimensions length one\n",
    "\n",
    "lat1 = g1['lat']\n",
    "lon1 = g1['lon']\n",
    "lev1 = g1['lev']\n",
    "\n",
    "Txav = cdutil.averager(T,axis=\"x\")\n",
    "#print \"Txav=\", Txav.info()\n",
    "\n",
    "ps = g1('PS',squeeze=1)\n",
    "hyam = g1('hyam',squeeze=1)\n",
    "hybm = g1('hybm',squeeze=1)\n",
    "eta1 = hyam+hybm\n",
    "print \"eta\", eta1\n",
    "niceeta = findNiceContours(eta*1010.0,20,rmClev=0.) # in hPa\n",
    "\n",
    "start = timer()\n",
    "P = cdutil.reconstructPressureFromHybrid (ps,hyam,hybm,1.e5)\n",
    "P = P/100.; P.units = \"hPa\"\n",
    "stop1 = timer()\n",
    "print  \"reconstruct P time = \", stop1-start\n",
    "TP1 = cdutil.logLinearInterpolation(T,P,levels=niceeta)\n",
    "stop2 = timer()\n",
    "print \"interp time\", stop2-stop1\n",
    "\n",
    "# print TP2.info()\n",
    "TP1xav = cdutil.averager(TP1,axis=\"x\")\n",
    "levsp1 = TP1xav.getAxis(0)\n",
    "plotZMf(TP1xav, lat1, levsp1)\n"
   ]
  }
 ],
 "metadata": {
  "kernelspec": {
   "display_name": "e3sm-jupyter",
   "language": "python",
   "name": "e3sm-jupyter"
  },
  "language_info": {
   "codemirror_mode": {
    "name": "ipython",
    "version": 2
   },
   "file_extension": ".py",
   "mimetype": "text/x-python",
   "name": "python",
   "nbconvert_exporter": "python",
   "pygments_lexer": "ipython2",
   "version": "2.7.15"
  }
 },
 "nbformat": 4,
 "nbformat_minor": 2
}
