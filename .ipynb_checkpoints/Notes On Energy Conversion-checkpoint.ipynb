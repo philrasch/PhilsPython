{
 "cells": [
  {
   "cell_type": "code",
   "execution_count": 2,
   "metadata": {
    "collapsed": false
   },
   "outputs": [
    {
     "name": "stdout",
     "output_type": "stream",
     "text": [
      "an imbalance of 0.1W/m2 is equivalent to 0.0509904363782PW\n",
      "explaining a gain/loss per year over the globe of1608.03440162exaJoules\n"
     ]
    }
   ],
   "source": [
    "%matplotlib inline\n",
    "import matplotlib.pyplot as plt\n",
    "import numpy as np\n",
    "import cdms2\n",
    "import cdutil\n",
    "\n",
    "a = 6.37e6 # radius of earth\n",
    "sfca = 4.*np.pi*a**2\n",
    "imbalance = 0.1 # W/m2\n",
    "imbint = sfca*imbalance/1.e15\n",
    "jperyear = imbint*365*86400/1000.\n",
    "print \"an imbalance of \"+str(imbalance)+\"W/m2 is equivalent to \"+str(imbint)+\"PW\"\n",
    "print \"explaining a gain/loss per year over the globe of \"+str(jperyear)+\" exaJoules\""
   ]
  }
 ],
 "metadata": {
  "kernelspec": {
   "display_name": "Python [uvcdat-conda]",
   "language": "python",
   "name": "Python [uvcdat-conda]"
  },
  "language_info": {
   "codemirror_mode": {
    "name": "ipython",
    "version": 2
   },
   "file_extension": ".py",
   "mimetype": "text/x-python",
   "name": "python",
   "nbconvert_exporter": "python",
   "pygments_lexer": "ipython2",
   "version": "2.7.12"
  }
 },
 "nbformat": 4,
 "nbformat_minor": 0
}
